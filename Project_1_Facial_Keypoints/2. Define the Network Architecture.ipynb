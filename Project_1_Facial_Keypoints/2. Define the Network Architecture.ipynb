{
 "cells": [
  {
   "cell_type": "markdown",
   "metadata": {},
   "source": [
    "## Define the Convolutional Neural Network\n",
    "\n",
    "After you've looked at the data you're working with and, in this case, know the shapes of the images and of the keypoints, you are ready to define a convolutional neural network that can *learn* from this data.\n",
    "\n",
    "In this notebook and in `models.py`, you will:\n",
    "1. Define a CNN with images as input and keypoints as output\n",
    "2. Construct the transformed FaceKeypointsDataset, just as before\n",
    "3. Train the CNN on the training data, tracking loss\n",
    "4. See how the trained model performs on test data\n",
    "5. If necessary, modify the CNN structure and model hyperparameters, so that it performs *well* **\\***\n",
    "\n",
    "**\\*** What does *well* mean?\n",
    "\n",
    "\"Well\" means that the model's loss decreases during training **and**, when applied to test image data, the model produces keypoints that closely match the true keypoints of each face. And you'll see examples of this later in the notebook.\n",
    "\n",
    "---\n"
   ]
  },
  {
   "cell_type": "markdown",
   "metadata": {},
   "source": [
    "## CNN Architecture\n",
    "\n",
    "Recall that CNN's are defined by a few types of layers:\n",
    "* Convolutional layers\n",
    "* Maxpooling layers\n",
    "* Fully-connected layers\n",
    "\n",
    "You are required to use the above layers and encouraged to add multiple convolutional layers and things like dropout layers that may prevent overfitting. You are also encouraged to look at literature on keypoint detection, such as [this paper](https://arxiv.org/pdf/1710.00977.pdf), to help you determine the structure of your network.\n",
    "\n",
    "\n",
    "### TODO: Define your model in the provided file `models.py` file\n",
    "\n",
    "This file is mostly empty but contains the expected name and some TODO's for creating your model.\n",
    "\n",
    "---"
   ]
  },
  {
   "cell_type": "markdown",
   "metadata": {},
   "source": [
    "## PyTorch Neural Nets\n",
    "\n",
    "To define a neural network in PyTorch, you define the layers of a model in the function `__init__` and define the feedforward behavior of a network that employs those initialized layers in the function `forward`, which takes in an input image tensor, `x`. The structure of this Net class is shown below and left for you to fill in.\n",
    "\n",
    "Note: During training, PyTorch will be able to perform backpropagation by keeping track of the network's feedforward behavior and using autograd to calculate the update to the weights in the network.\n",
    "\n",
    "#### Define the Layers in ` __init__`\n",
    "As a reminder, a conv/pool layer may be defined like this (in `__init__`):\n",
    "```\n",
    "# 1 input image channel (for grayscale images), 32 output channels/feature maps, 3x3 square convolution kernel\n",
    "self.conv1 = nn.Conv2d(1, 32, 3)\n",
    "\n",
    "# maxpool that uses a square window of kernel_size=2, stride=2\n",
    "self.pool = nn.MaxPool2d(2, 2)      \n",
    "```\n",
    "\n",
    "#### Refer to Layers in `forward`\n",
    "Then referred to in the `forward` function like this, in which the conv1 layer has a ReLu activation applied to it before maxpooling is applied:\n",
    "```\n",
    "x = self.pool(F.relu(self.conv1(x)))\n",
    "```\n",
    "\n",
    "Best practice is to place any layers whose weights will change during the training process in `__init__` and refer to them in the `forward` function; any layers or functions that always behave in the same way, such as a pre-defined activation function, should appear *only* in the `forward` function."
   ]
  },
  {
   "cell_type": "markdown",
   "metadata": {},
   "source": [
    "#### Why models.py\n",
    "\n",
    "You are tasked with defining the network in the `models.py` file so that any models you define can be saved and loaded by name in different notebooks in this project directory. For example, by defining a CNN class called `Net` in `models.py`, you can then create that same architecture in this and other notebooks by simply importing the class and instantiating a model:\n",
    "```\n",
    "    from models import Net\n",
    "    net = Net()\n",
    "```"
   ]
  },
  {
   "cell_type": "code",
   "execution_count": 1,
   "metadata": {},
   "outputs": [
    {
     "name": "stdout",
     "output_type": "stream",
     "text": [
      "mkdir: cannot create directory ‘/data’: File exists\n",
      "--2020-11-17 11:04:45--  https://s3.amazonaws.com/video.udacity-data.com/topher/2018/May/5aea1b91_train-test-data/train-test-data.zip\n",
      "Resolving s3.amazonaws.com (s3.amazonaws.com)... 52.216.146.101\n",
      "Connecting to s3.amazonaws.com (s3.amazonaws.com)|52.216.146.101|:443... connected.\n",
      "HTTP request sent, awaiting response... 200 OK\n",
      "Length: 338613624 (323M) [application/zip]\n",
      "Saving to: ‘/data/train-test-data.zip.12’\n",
      "\n",
      "train-test-data.zip 100%[===================>] 322.93M  55.0MB/s    in 5.5s    \n",
      "\n",
      "2020-11-17 11:04:51 (59.1 MB/s) - ‘/data/train-test-data.zip.12’ saved [338613624/338613624]\n",
      "\n",
      "Archive:  /data/train-test-data.zip\n"
     ]
    }
   ],
   "source": [
    "# load the data if you need to; if you have already loaded the data, you may comment this cell out\n",
    "# -- DO NOT CHANGE THIS CELL -- #\n",
    "!mkdir /data\n",
    "!wget -P /data/ https://s3.amazonaws.com/video.udacity-data.com/topher/2018/May/5aea1b91_train-test-data/train-test-data.zip\n",
    "!unzip -n /data/train-test-data.zip -d /data"
   ]
  },
  {
   "cell_type": "markdown",
   "metadata": {},
   "source": [
    "<div class=\"alert alert-info\">**Note:** Workspaces automatically close connections after 30 minutes of inactivity (including inactivity while training!). Use the code snippet below to keep your workspace alive during training. (The active_session context manager is imported below.)\n",
    "</div>\n",
    "```\n",
    "from workspace_utils import active_session\n",
    "\n",
    "with active_session():\n",
    "    train_model(num_epochs)\n",
    "```\n"
   ]
  },
  {
   "cell_type": "markdown",
   "metadata": {
    "collapsed": true
   },
   "source": [
    "## Transform the dataset \n",
    "\n",
    "To prepare for training, create a transformed dataset of images and keypoints.\n",
    "\n",
    "### TODO: Define a data transform\n",
    "\n",
    "In PyTorch, a convolutional neural network expects a torch image of a consistent size as input. For efficient training, and so your model's loss does not blow up during training, it is also suggested that you normalize the input images and keypoints. The necessary transforms have been defined in `data_load.py` and you **do not** need to modify these; take a look at this file (you'll see the same transforms that were defined and applied in Notebook 1).\n",
    "\n",
    "To define the data transform below, use a [composition](http://pytorch.org/tutorials/beginner/data_loading_tutorial.html#compose-transforms) of:\n",
    "1. Rescaling and/or cropping the data, such that you are left with a square image (the suggested size is 224x224px)\n",
    "2. Normalizing the images and keypoints; turning each RGB image into a grayscale image with a color range of [0, 1] and transforming the given keypoints into a range of [-1, 1]\n",
    "3. Turning these images and keypoints into Tensors\n",
    "\n",
    "These transformations have been defined in `data_load.py`, but it's up to you to call them and create a `data_transform` below. **This transform will be applied to the training data and, later, the test data**. It will change how you go about displaying these images and keypoints, but these steps are essential for efficient training.\n",
    "\n",
    "As a note, should you want to perform data augmentation (which is optional in this project), and randomly rotate or shift these images, a square image size will be useful; rotating a 224x224 image by 90 degrees will result in the same shape of output."
   ]
  },
  {
   "cell_type": "code",
   "execution_count": 2,
   "metadata": {},
   "outputs": [],
   "source": [
    "# import the usual resources\n",
    "import matplotlib.pyplot as plt\n",
    "import numpy as np\n",
    "\n",
    "# import utilities to keep workspaces alive during model training\n",
    "from workspace_utils import active_session\n",
    "\n",
    "# watch for any changes in model.py, if it changes, re-load it automatically\n",
    "%load_ext autoreload\n",
    "%autoreload 2"
   ]
  },
  {
   "cell_type": "code",
   "execution_count": 3,
   "metadata": {},
   "outputs": [
    {
     "name": "stdout",
     "output_type": "stream",
     "text": [
      "Net(\n",
      "  (conv1): Conv2d(1, 32, kernel_size=(5, 5), stride=(1, 1), padding=(2, 2))\n",
      "  (conv2): Conv2d(32, 64, kernel_size=(4, 4), stride=(1, 1), padding=(1, 1))\n",
      "  (conv3): Conv2d(64, 128, kernel_size=(3, 3), stride=(1, 1), padding=(2, 2))\n",
      "  (conv4): Conv2d(128, 256, kernel_size=(2, 2), stride=(1, 1), padding=(1, 1))\n",
      "  (pool): MaxPool2d(kernel_size=2, stride=2, padding=0, dilation=1, ceil_mode=False)\n",
      "  (fc1): Linear(in_features=50176, out_features=1000, bias=True)\n",
      "  (fc2): Linear(in_features=1000, out_features=1000, bias=True)\n",
      "  (fc3): Linear(in_features=1000, out_features=136, bias=True)\n",
      "  (drop1): Dropout(p=0.1)\n",
      "  (drop2): Dropout(p=0.2)\n",
      "  (drop3): Dropout(p=0.3)\n",
      "  (drop4): Dropout(p=0.4)\n",
      "  (drop5): Dropout(p=0.5)\n",
      "  (drop6): Dropout(p=0.6)\n",
      ")\n"
     ]
    }
   ],
   "source": [
    "## TODO: Define the Net in models.py\n",
    "\n",
    "import torch\n",
    "import torch.nn as nn\n",
    "import torch.nn.functional as F\n",
    "\n",
    "## TODO: Once you've define the network, you can instantiate it\n",
    "# one example conv layer has been provided for you\n",
    "from models import Net\n",
    "\n",
    "net = Net()\n",
    "print(net)\n",
    "\n"
   ]
  },
  {
   "cell_type": "code",
   "execution_count": 4,
   "metadata": {},
   "outputs": [
    {
     "name": "stdout",
     "output_type": "stream",
     "text": [
      "Training on GPU!\n"
     ]
    }
   ],
   "source": [
    "# Check for a GPU\n",
    "train_on_gpu = torch.cuda.is_available()\n",
    "if not train_on_gpu:\n",
    "    print('No GPU found. Please use a GPU to train your neural network.')\n",
    "else:\n",
    "    print('Training on GPU!')"
   ]
  },
  {
   "cell_type": "code",
   "execution_count": 5,
   "metadata": {},
   "outputs": [],
   "source": [
    "from torch.utils.data import Dataset, DataLoader\n",
    "from torchvision import transforms, utils\n",
    "\n",
    "# the dataset we created in Notebook 1 is copied in the helper file `data_load.py`\n",
    "from data_load import FacialKeypointsDataset\n",
    "# the transforms we defined in Notebook 1 are in the helper file `data_load.py`\n",
    "from data_load import Rescale, RandomCrop, Normalize, ToTensor\n",
    "\n",
    "\n",
    "## TODO: define the data_transform using transforms.Compose([all tx's, . , .])\n",
    "# order matters! i.e. rescaling should come before a smaller crop\n",
    "data_transform = transforms.Compose([Rescale(250),\n",
    "                                     RandomCrop(224),\n",
    "                                     Normalize(),\n",
    "                                     ToTensor()])\n",
    "\n",
    "# testing that you've defined a transform\n",
    "assert(data_transform is not None), 'Define a data_transform'"
   ]
  },
  {
   "cell_type": "code",
   "execution_count": 6,
   "metadata": {},
   "outputs": [
    {
     "name": "stdout",
     "output_type": "stream",
     "text": [
      "Number of images:  3462\n",
      "0 torch.Size([1, 224, 224]) torch.Size([68, 2])\n",
      "1 torch.Size([1, 224, 224]) torch.Size([68, 2])\n",
      "2 torch.Size([1, 224, 224]) torch.Size([68, 2])\n",
      "3 torch.Size([1, 224, 224]) torch.Size([68, 2])\n"
     ]
    },
    {
     "name": "stderr",
     "output_type": "stream",
     "text": [
      "/home/workspace/data_load.py:39: FutureWarning: Method .as_matrix will be removed in a future version. Use .values instead.\n",
      "  key_pts = self.key_pts_frame.iloc[idx, 1:].as_matrix()\n"
     ]
    }
   ],
   "source": [
    "# create the transformed dataset\n",
    "transformed_dataset = FacialKeypointsDataset(csv_file='/data/training_frames_keypoints.csv',\n",
    "                                             root_dir='/data/training/',\n",
    "                                             transform=data_transform)\n",
    "\n",
    "\n",
    "print('Number of images: ', len(transformed_dataset))\n",
    "\n",
    "# iterate through the transformed dataset and print some stats about the first few samples\n",
    "for i in range(4):\n",
    "    sample = transformed_dataset[i]\n",
    "    print(i, sample['image'].size(), sample['keypoints'].size())"
   ]
  },
  {
   "cell_type": "markdown",
   "metadata": {},
   "source": [
    "## Batching and loading data\n",
    "\n",
    "Next, having defined the transformed dataset, we can use PyTorch's DataLoader class to load the training data in batches of whatever size as well as to shuffle the data for training the model. You can read more about the parameters of the DataLoader, in [this documentation](http://pytorch.org/docs/master/data.html).\n",
    "\n",
    "#### Batch size\n",
    "Decide on a good batch size for training your model. Try both small and large batch sizes and note how the loss decreases as the model trains. Too large a batch size may cause your model to crash and/or run out of memory while training.\n",
    "\n",
    "**Note for Windows users**: Please change the `num_workers` to 0 or you may face some issues with your DataLoader failing."
   ]
  },
  {
   "cell_type": "code",
   "execution_count": 7,
   "metadata": {},
   "outputs": [],
   "source": [
    "# load training data in batches\n",
    "batch_size = 10\n",
    "\n",
    "train_loader = DataLoader(transformed_dataset, \n",
    "                          batch_size=batch_size,\n",
    "                          shuffle=True, \n",
    "                          num_workers=4)\n"
   ]
  },
  {
   "cell_type": "markdown",
   "metadata": {},
   "source": [
    "## Before training\n",
    "\n",
    "Take a look at how this model performs before it trains. You should see that the keypoints it predicts start off in one spot and don't match the keypoints on a face at all! It's interesting to visualize this behavior so that you can compare it to the model after training and see how the model has improved.\n",
    "\n",
    "#### Load in the test dataset\n",
    "\n",
    "The test dataset is one that this model has *not* seen before, meaning it has not trained with these images. We'll load in this test data and before and after training, see how your model performs on this set!\n",
    "\n",
    "To visualize this test data, we have to go through some un-transformation steps to turn our images into python images from tensors and to turn our keypoints back into a recognizable range. "
   ]
  },
  {
   "cell_type": "code",
   "execution_count": 8,
   "metadata": {},
   "outputs": [],
   "source": [
    "# load in the test data, using the dataset class\n",
    "# AND apply the data_transform you defined above\n",
    "\n",
    "# create the test dataset\n",
    "test_dataset = FacialKeypointsDataset(csv_file='/data/test_frames_keypoints.csv',\n",
    "                                             root_dir='/data/test/',\n",
    "                                             transform=data_transform)\n",
    "\n"
   ]
  },
  {
   "cell_type": "code",
   "execution_count": 9,
   "metadata": {},
   "outputs": [],
   "source": [
    "# load test data in batches\n",
    "test_loader = DataLoader(test_dataset, \n",
    "                          batch_size=batch_size,\n",
    "                          shuffle=True, \n",
    "                          num_workers=4)"
   ]
  },
  {
   "cell_type": "markdown",
   "metadata": {},
   "source": [
    "## Apply the model on a test sample\n",
    "\n",
    "To test the model on a test sample of data, you have to follow these steps:\n",
    "1. Extract the image and ground truth keypoints from a sample\n",
    "2. Wrap the image in a Variable, so that the net can process it as input and track how it changes as the image moves through the network.\n",
    "3. Make sure the image is a FloatTensor, which the model expects.\n",
    "4. Forward pass the image through the net to get the predicted, output keypoints.\n",
    "\n",
    "This function test how the network performs on the first batch of test data. It returns the images, the transformed images, the predicted keypoints (produced by the model), and the ground truth keypoints."
   ]
  },
  {
   "cell_type": "code",
   "execution_count": 10,
   "metadata": {},
   "outputs": [],
   "source": [
    "# test the model on a batch of test images\n",
    "\n",
    "def net_sample_output():\n",
    "    \n",
    "    # iterate through the test dataset\n",
    "    for i, sample in enumerate(test_loader):\n",
    "        \n",
    "        # get sample data: images and ground truth keypoints\n",
    "        images = sample['image']\n",
    "        key_pts = sample['keypoints']\n",
    "\n",
    "        # convert images to FloatTensors\n",
    "        images = images.type(torch.FloatTensor)\n",
    "        if train_on_gpu:\n",
    "            images = images.cuda()\n",
    "            net.cuda()\n",
    "\n",
    "        # forward pass to get net output\n",
    "        output_pts = net(images)\n",
    "        \n",
    "        # reshape to batch_size x 68 x 2 pts\n",
    "        output_pts = output_pts.view(output_pts.size()[0], 68, -1)\n",
    "        \n",
    "        # break after first image is tested\n",
    "        if i == 0:\n",
    "            return images, output_pts, key_pts\n",
    "            "
   ]
  },
  {
   "cell_type": "markdown",
   "metadata": {},
   "source": [
    "#### Debugging tips\n",
    "\n",
    "If you get a size or dimension error here, make sure that your network outputs the expected number of keypoints! Or if you get a Tensor type error, look into changing the above code that casts the data into float types: `images = images.type(torch.FloatTensor)`."
   ]
  },
  {
   "cell_type": "code",
   "execution_count": 11,
   "metadata": {},
   "outputs": [
    {
     "name": "stderr",
     "output_type": "stream",
     "text": [
      "/home/workspace/data_load.py:39: FutureWarning: Method .as_matrix will be removed in a future version. Use .values instead.\n",
      "  key_pts = self.key_pts_frame.iloc[idx, 1:].as_matrix()\n",
      "/home/workspace/data_load.py:39: FutureWarning: Method .as_matrix will be removed in a future version. Use .values instead.\n",
      "  key_pts = self.key_pts_frame.iloc[idx, 1:].as_matrix()\n",
      "/home/workspace/data_load.py:39: FutureWarning: Method .as_matrix will be removed in a future version. Use .values instead.\n",
      "  key_pts = self.key_pts_frame.iloc[idx, 1:].as_matrix()\n",
      "/home/workspace/data_load.py:39: FutureWarning: Method .as_matrix will be removed in a future version. Use .values instead.\n",
      "  key_pts = self.key_pts_frame.iloc[idx, 1:].as_matrix()\n"
     ]
    },
    {
     "name": "stdout",
     "output_type": "stream",
     "text": [
      "torch.Size([10, 1, 224, 224])\n",
      "torch.Size([10, 68, 2])\n",
      "torch.Size([10, 68, 2])\n"
     ]
    }
   ],
   "source": [
    "# call the above function\n",
    "# returns: test images, test predicted keypoints, test ground truth keypoints\n",
    "test_images, test_outputs, gt_pts = net_sample_output()\n",
    "\n",
    "# print out the dimensions of the data to see if they make sense\n",
    "print(test_images.data.size())\n",
    "print(test_outputs.data.size())\n",
    "print(gt_pts.size())"
   ]
  },
  {
   "cell_type": "markdown",
   "metadata": {},
   "source": [
    "## Visualize the predicted keypoints\n",
    "\n",
    "Once we've had the model produce some predicted output keypoints, we can visualize these points in a way that's similar to how we've displayed this data before, only this time, we have to \"un-transform\" the image/keypoint data to display it.\n",
    "\n",
    "Note that I've defined a *new* function, `show_all_keypoints` that displays a grayscale image, its predicted keypoints and its ground truth keypoints (if provided)."
   ]
  },
  {
   "cell_type": "code",
   "execution_count": 12,
   "metadata": {},
   "outputs": [],
   "source": [
    "def show_all_keypoints(image, predicted_key_pts, gt_pts=None):\n",
    "    \"\"\"Show image with predicted keypoints\"\"\"\n",
    "    # image is grayscale\n",
    "    plt.imshow(image, cmap='gray')\n",
    "    plt.scatter(predicted_key_pts[:, 0], predicted_key_pts[:, 1], s=20, marker='.', c='m')\n",
    "    # plot ground truth points as green pts\n",
    "    if gt_pts is not None:\n",
    "        plt.scatter(gt_pts[:, 0], gt_pts[:, 1], s=20, marker='.', c='g')\n"
   ]
  },
  {
   "cell_type": "markdown",
   "metadata": {},
   "source": [
    "#### Un-transformation\n",
    "\n",
    "Next, you'll see a helper function. `visualize_output` that takes in a batch of images, predicted keypoints, and ground truth keypoints and displays a set of those images and their true/predicted keypoints.\n",
    "\n",
    "This function's main role is to take batches of image and keypoint data (the input and output of your CNN), and transform them into numpy images and un-normalized keypoints (x, y) for normal display. The un-transformation process turns keypoints and images into numpy arrays from Tensors *and* it undoes the keypoint normalization done in the Normalize() transform; it's assumed that you applied these transformations when you loaded your test data."
   ]
  },
  {
   "cell_type": "code",
   "execution_count": 13,
   "metadata": {},
   "outputs": [
    {
     "data": {
      "image/png": "[encoded data removed]",
      "text/plain": [
       "<matplotlib.figure.Figure at 0x7f12c857eda0>"
      ]
     },
     "metadata": {
      "needs_background": "light"
     },
     "output_type": "display_data"
    },
    {
     "data": {
      "image/png": "[encoded data removed]",
      "text/plain": [
       "<matplotlib.figure.Figure at 0x7f12fb33fe48>"
      ]
     },
     "metadata": {
      "needs_background": "light"
     },
     "output_type": "display_data"
    },
    {
     "data": {
      "image/png": "[encoded data removed]",
      "text/plain": [
       "<matplotlib.figure.Figure at 0x7f12f8299dd8>"
      ]
     },
     "metadata": {
      "needs_background": "light"
     },
     "output_type": "display_data"
    },
    {
     "data": {
      "image/png": "[encoded data removed]",
      "text/plain": [
       "<matplotlib.figure.Figure at 0x7f12f825da90>"
      ]
     },
     "metadata": {
      "needs_background": "light"
     },
     "output_type": "display_data"
    },
    {
     "data": {
      "image/png": "[encoded data removed]",
      "text/plain": [
       "<matplotlib.figure.Figure at 0x7f12f82b2240>"
      ]
     },
     "metadata": {
      "needs_background": "light"
     },
     "output_type": "display_data"
    },
    {
     "data": {
      "image/png": "[encoded data removed]",
      "text/plain": [
       "<matplotlib.figure.Figure at 0x7f12f81daeb8>"
      ]
     },
     "metadata": {
      "needs_background": "light"
     },
     "output_type": "display_data"
    },
    {
     "data": {
      "image/png": "[encoded data removed]",
      "text/plain": [
       "<matplotlib.figure.Figure at 0x7f12f81a74a8>"
      ]
     },
     "metadata": {
      "needs_background": "light"
     },
     "output_type": "display_data"
    },
    {
     "data": {
      "image/png": "[encoded data removed]",
      "text/plain": [
       "<matplotlib.figure.Figure at 0x7f12f816a588>"
      ]
     },
     "metadata": {
      "needs_background": "light"
     },
     "output_type": "display_data"
    },
    {
     "data": {
      "image/png": "[encoded data removed]",
      "text/plain": [
       "<matplotlib.figure.Figure at 0x7f12f81c73c8>"
      ]
     },
     "metadata": {
      "needs_background": "light"
     },
     "output_type": "display_data"
    },
    {
     "data": {
      "image/png": "[encoded data removed]",
      "text/plain": [
       "<matplotlib.figure.Figure at 0x7f12f80ddfd0>"
      ]
     },
     "metadata": {
      "needs_background": "light"
     },
     "output_type": "display_data"
    }
   ],
   "source": [
    "# visualize the output\n",
    "# by default this shows a batch of 10 images\n",
    "def visualize_output(test_images, test_outputs, gt_pts=None, batch_size=batch_size):\n",
    "\n",
    "    for i in range(batch_size):\n",
    "        plt.figure(figsize=(20,10))\n",
    "        ax = plt.subplot(1, batch_size, i+1)\n",
    "\n",
    "        # un-transform the image data\n",
    "        image = test_images[i].data   # get the image from it's Variable wrapper\n",
    "        if train_on_gpu:\n",
    "            image = image.detach().cpu().numpy()\n",
    "        else:\n",
    "            image = image.numpy()   # convert to numpy array from a Tensor\n",
    "\n",
    "        image = np.transpose(image, (1, 2, 0))   # transpose to go from torch to numpy image\n",
    "        # un-transform the predicted key_pts data\n",
    "        predicted_key_pts = test_outputs[i].data\n",
    "        if train_on_gpu:\n",
    "            predicted_key_pts = predicted_key_pts.detach().cpu().numpy()\n",
    "        else:\n",
    "            predicted_key_pts = predicted_key_pts.numpy()\n",
    "        # undo normalization of keypoints  \n",
    "        predicted_key_pts = predicted_key_pts*50.0+100\n",
    "        \n",
    "        # plot ground truth points for comparison, if they exist\n",
    "        ground_truth_pts = None\n",
    "        if gt_pts is not None:\n",
    "            ground_truth_pts = gt_pts[i]         \n",
    "            ground_truth_pts = ground_truth_pts*50.0+100\n",
    "\n",
    "        # call show_all_keypoints\n",
    "        show_all_keypoints(np.squeeze(image), predicted_key_pts, ground_truth_pts)\n",
    "            \n",
    "        plt.axis('off')\n",
    "\n",
    "    plt.show()\n",
    "    \n",
    "# call it\n",
    "visualize_output(test_images, test_outputs, gt_pts)"
   ]
  },
  {
   "cell_type": "markdown",
   "metadata": {},
   "source": [
    "## Training\n",
    "\n",
    "#### Loss function\n",
    "Training a network to predict keypoints is different than training a network to predict a class; instead of outputting a distribution of classes and using cross entropy loss, you may want to choose a loss function that is suited for regression, which directly compares a predicted value and target value. Read about the various kinds of loss functions (like MSE or L1/SmoothL1 loss) in [this documentation](http://pytorch.org/docs/master/_modules/torch/nn/modules/loss.html).\n",
    "\n",
    "### TODO: Define the loss and optimization\n",
    "\n",
    "Next, you'll define how the model will train by deciding on the loss function and optimizer.\n",
    "\n",
    "---"
   ]
  },
  {
   "cell_type": "code",
   "execution_count": 14,
   "metadata": {},
   "outputs": [],
   "source": [
    "## TODO: Define the loss and optimization\n",
    "import torch.optim as optim\n",
    "\n",
    "criterion = nn.MSELoss()\n",
    "\n",
    "lr = 0.0001\n",
    "beta1 = 0.9\n",
    "beta2 = 0.999\n",
    "eps = 1e-8\n",
    "optimizer = optim.Adam(net.parameters(), lr, [beta1, beta2], eps)"
   ]
  },
  {
   "cell_type": "markdown",
   "metadata": {},
   "source": [
    "## Training and Initial Observation\n",
    "\n",
    "Now, you'll train on your batched training data from `train_loader` for a number of epochs. \n",
    "\n",
    "To quickly observe how your model is training and decide on whether or not you should modify it's structure or hyperparameters, you're encouraged to start off with just one or two epochs at first. As you train, note how your the model's loss behaves over time: does it decrease quickly at first and then slow down? Does it take a while to decrease in the first place? What happens if you change the batch size of your training data or modify your loss function? etc. \n",
    "\n",
    "Use these initial observations to make changes to your model and decide on the best architecture before you train for many epochs and create a final model."
   ]
  },
  {
   "cell_type": "code",
   "execution_count": 15,
   "metadata": {},
   "outputs": [],
   "source": [
    "def train_net(n_epochs):\n",
    "\n",
    "    # prepare the net for training\n",
    "    net.train()\n",
    "    if train_on_gpu:\n",
    "        net.cuda()\n",
    "    for epoch in range(n_epochs):  # loop over the dataset multiple times\n",
    "        \n",
    "        running_loss = 0.0\n",
    "\n",
    "        # train on batches of data, assumes you already have train_loader\n",
    "        for batch_i, data in enumerate(train_loader):\n",
    "            # get the input images and their corresponding labels\n",
    "            images = data['image']\n",
    "            key_pts = data['keypoints']\n",
    "\n",
    "            # flatten pts\n",
    "            key_pts = key_pts.view(key_pts.size(0), -1)\n",
    "\n",
    "            # convert variables to floats for regression loss\n",
    "            key_pts = key_pts.type(torch.FloatTensor)\n",
    "            images = images.type(torch.FloatTensor)\n",
    "            if train_on_gpu:\n",
    "                images = images.cuda()\n",
    "                key_pts = key_pts.cuda()\n",
    "\n",
    "            # forward pass to get outputs\n",
    "            output_pts = net(images)\n",
    "\n",
    "            # calculate the loss between predicted and target keypoints\n",
    "            loss = criterion(output_pts, key_pts)\n",
    "\n",
    "            # zero the parameter (weight) gradients\n",
    "            optimizer.zero_grad()\n",
    "            \n",
    "            # backward pass to calculate the weight gradients\n",
    "            loss.backward()\n",
    "\n",
    "            # update the weights\n",
    "            optimizer.step()\n",
    "\n",
    "            # print loss statistics\n",
    "            running_loss += loss.item()\n",
    "            if batch_i % 10 == 9:    # print every 10 batches\n",
    "                print('Epoch: {}, Batch: {}, Avg. Loss: {}'.format(epoch + 1, batch_i+1, running_loss/10))\n",
    "                running_loss = 0.0\n",
    "\n",
    "    print('Finished Training')\n"
   ]
  },
  {
   "cell_type": "code",
   "execution_count": 16,
   "metadata": {},
   "outputs": [
    {
     "name": "stderr",
     "output_type": "stream",
     "text": [
      "/home/workspace/data_load.py:39: FutureWarning: Method .as_matrix will be removed in a future version. Use .values instead.\n",
      "  key_pts = self.key_pts_frame.iloc[idx, 1:].as_matrix()\n",
      "/home/workspace/data_load.py:39: FutureWarning: Method .as_matrix will be removed in a future version. Use .values instead.\n",
      "  key_pts = self.key_pts_frame.iloc[idx, 1:].as_matrix()\n",
      "/home/workspace/data_load.py:39: FutureWarning: Method .as_matrix will be removed in a future version. Use .values instead.\n",
      "  key_pts = self.key_pts_frame.iloc[idx, 1:].as_matrix()\n",
      "/home/workspace/data_load.py:39: FutureWarning: Method .as_matrix will be removed in a future version. Use .values instead.\n",
      "  key_pts = self.key_pts_frame.iloc[idx, 1:].as_matrix()\n"
     ]
    },
    {
     "name": "stdout",
     "output_type": "stream",
     "text": [
      "Epoch: 1, Batch: 10, Avg. Loss: 0.4670803666114807\n",
      "Epoch: 1, Batch: 20, Avg. Loss: 0.34763377010822294\n",
      "Epoch: 1, Batch: 30, Avg. Loss: 0.28601555675268175\n",
      "Epoch: 1, Batch: 40, Avg. Loss: 0.2623753011226654\n",
      "Epoch: 1, Batch: 50, Avg. Loss: 0.30536256581544874\n",
      "Epoch: 1, Batch: 60, Avg. Loss: 0.30184735506772997\n",
      "Epoch: 1, Batch: 70, Avg. Loss: 0.20576467216014863\n",
      "Epoch: 1, Batch: 80, Avg. Loss: 0.24006982743740082\n",
      "Epoch: 1, Batch: 90, Avg. Loss: 0.24500400424003602\n",
      "Epoch: 1, Batch: 100, Avg. Loss: 0.23824477195739746\n",
      "Epoch: 1, Batch: 110, Avg. Loss: 0.2270601749420166\n",
      "Epoch: 1, Batch: 120, Avg. Loss: 0.22380032986402512\n",
      "Epoch: 1, Batch: 130, Avg. Loss: 0.24185930341482162\n",
      "Epoch: 1, Batch: 140, Avg. Loss: 0.1958850234746933\n",
      "Epoch: 1, Batch: 150, Avg. Loss: 0.24841981679201125\n",
      "Epoch: 1, Batch: 160, Avg. Loss: 0.23990341275930405\n",
      "Epoch: 1, Batch: 170, Avg. Loss: 0.19631360620260238\n",
      "Epoch: 1, Batch: 180, Avg. Loss: 0.2335154451429844\n",
      "Epoch: 1, Batch: 190, Avg. Loss: 0.22233280092477797\n",
      "Epoch: 1, Batch: 200, Avg. Loss: 0.21180779933929444\n",
      "Epoch: 1, Batch: 210, Avg. Loss: 0.18359956443309783\n",
      "Epoch: 1, Batch: 220, Avg. Loss: 0.19661902636289597\n",
      "Epoch: 1, Batch: 230, Avg. Loss: 0.19437819272279738\n",
      "Epoch: 1, Batch: 240, Avg. Loss: 0.22154278457164764\n",
      "Epoch: 1, Batch: 250, Avg. Loss: 0.17955513298511505\n",
      "Epoch: 1, Batch: 260, Avg. Loss: 0.18034917563199998\n",
      "Epoch: 1, Batch: 270, Avg. Loss: 0.18854837119579315\n",
      "Epoch: 1, Batch: 280, Avg. Loss: 0.23015402853488923\n",
      "Epoch: 1, Batch: 290, Avg. Loss: 0.26673108488321307\n",
      "Epoch: 1, Batch: 300, Avg. Loss: 0.17201444432139396\n",
      "Epoch: 1, Batch: 310, Avg. Loss: 0.218869124352932\n",
      "Epoch: 1, Batch: 320, Avg. Loss: 0.1821565106511116\n",
      "Epoch: 1, Batch: 330, Avg. Loss: 0.18672360479831696\n",
      "Epoch: 1, Batch: 340, Avg. Loss: 0.20078218057751657\n"
     ]
    },
    {
     "name": "stderr",
     "output_type": "stream",
     "text": [
      "/home/workspace/data_load.py:39: FutureWarning: Method .as_matrix will be removed in a future version. Use .values instead.\n",
      "  key_pts = self.key_pts_frame.iloc[idx, 1:].as_matrix()\n",
      "/home/workspace/data_load.py:39: FutureWarning: Method .as_matrix will be removed in a future version. Use .values instead.\n",
      "  key_pts = self.key_pts_frame.iloc[idx, 1:].as_matrix()\n",
      "/home/workspace/data_load.py:39: FutureWarning: Method .as_matrix will be removed in a future version. Use .values instead.\n",
      "  key_pts = self.key_pts_frame.iloc[idx, 1:].as_matrix()\n",
      "/home/workspace/data_load.py:39: FutureWarning: Method .as_matrix will be removed in a future version. Use .values instead.\n",
      "  key_pts = self.key_pts_frame.iloc[idx, 1:].as_matrix()\n"
     ]
    },
    {
     "name": "stdout",
     "output_type": "stream",
     "text": [
      "Epoch: 2, Batch: 10, Avg. Loss: 0.15859789550304412\n",
      "Epoch: 2, Batch: 20, Avg. Loss: 0.20584740936756135\n",
      "Epoch: 2, Batch: 30, Avg. Loss: 0.2502278730273247\n",
      "Epoch: 2, Batch: 40, Avg. Loss: 0.4154902003705502\n",
      "Epoch: 2, Batch: 50, Avg. Loss: 0.21976483166217803\n",
      "Epoch: 2, Batch: 60, Avg. Loss: 0.16034945026040076\n",
      "Epoch: 2, Batch: 70, Avg. Loss: 0.19987108334898948\n",
      "Epoch: 2, Batch: 80, Avg. Loss: 0.2474476233124733\n",
      "Epoch: 2, Batch: 90, Avg. Loss: 0.16657104790210725\n",
      "Epoch: 2, Batch: 100, Avg. Loss: 0.20470995157957078\n",
      "Epoch: 2, Batch: 110, Avg. Loss: 0.1945110872387886\n",
      "Epoch: 2, Batch: 120, Avg. Loss: 0.1898559659719467\n",
      "Epoch: 2, Batch: 130, Avg. Loss: 0.16748793795704842\n",
      "Epoch: 2, Batch: 140, Avg. Loss: 0.19232203364372252\n",
      "Epoch: 2, Batch: 150, Avg. Loss: 0.17960280254483224\n",
      "Epoch: 2, Batch: 160, Avg. Loss: 0.1924824148416519\n",
      "Epoch: 2, Batch: 170, Avg. Loss: 0.17226431146264076\n",
      "Epoch: 2, Batch: 180, Avg. Loss: 0.174611459672451\n",
      "Epoch: 2, Batch: 190, Avg. Loss: 0.23587751090526582\n",
      "Epoch: 2, Batch: 200, Avg. Loss: 0.17544438689947128\n",
      "Epoch: 2, Batch: 210, Avg. Loss: 0.21542837023735045\n",
      "Epoch: 2, Batch: 220, Avg. Loss: 0.25226924791932104\n",
      "Epoch: 2, Batch: 230, Avg. Loss: 0.2105059430003166\n",
      "Epoch: 2, Batch: 240, Avg. Loss: 0.1975864827632904\n",
      "Epoch: 2, Batch: 250, Avg. Loss: 0.2879792608320713\n",
      "Epoch: 2, Batch: 260, Avg. Loss: 0.19363902062177657\n",
      "Epoch: 2, Batch: 270, Avg. Loss: 0.18737595304846763\n",
      "Epoch: 2, Batch: 280, Avg. Loss: 0.18321581482887267\n",
      "Epoch: 2, Batch: 290, Avg. Loss: 0.2150621235370636\n",
      "Epoch: 2, Batch: 300, Avg. Loss: 0.2055171847343445\n",
      "Epoch: 2, Batch: 310, Avg. Loss: 0.190100859105587\n",
      "Epoch: 2, Batch: 320, Avg. Loss: 0.21641898304224014\n",
      "Epoch: 2, Batch: 330, Avg. Loss: 0.1880311720073223\n",
      "Epoch: 2, Batch: 340, Avg. Loss: 0.16260052919387818\n"
     ]
    },
    {
     "name": "stderr",
     "output_type": "stream",
     "text": [
      "/home/workspace/data_load.py:39: FutureWarning: Method .as_matrix will be removed in a future version. Use .values instead.\n",
      "  key_pts = self.key_pts_frame.iloc[idx, 1:].as_matrix()\n",
      "/home/workspace/data_load.py:39: FutureWarning: Method .as_matrix will be removed in a future version. Use .values instead.\n",
      "  key_pts = self.key_pts_frame.iloc[idx, 1:].as_matrix()\n",
      "/home/workspace/data_load.py:39: FutureWarning: Method .as_matrix will be removed in a future version. Use .values instead.\n",
      "  key_pts = self.key_pts_frame.iloc[idx, 1:].as_matrix()\n",
      "/home/workspace/data_load.py:39: FutureWarning: Method .as_matrix will be removed in a future version. Use .values instead.\n",
      "  key_pts = self.key_pts_frame.iloc[idx, 1:].as_matrix()\n"
     ]
    },
    {
     "name": "stdout",
     "output_type": "stream",
     "text": [
      "Epoch: 3, Batch: 10, Avg. Loss: 0.21600705832242967\n",
      "Epoch: 3, Batch: 20, Avg. Loss: 0.15241407081484795\n",
      "Epoch: 3, Batch: 30, Avg. Loss: 0.15772519409656524\n",
      "Epoch: 3, Batch: 40, Avg. Loss: 0.17466529309749604\n",
      "Epoch: 3, Batch: 50, Avg. Loss: 0.19040965139865876\n",
      "Epoch: 3, Batch: 60, Avg. Loss: 0.21750080734491348\n",
      "Epoch: 3, Batch: 70, Avg. Loss: 0.16028935387730597\n",
      "Epoch: 3, Batch: 80, Avg. Loss: 0.19543028771877288\n",
      "Epoch: 3, Batch: 90, Avg. Loss: 0.15721805840730668\n",
      "Epoch: 3, Batch: 100, Avg. Loss: 0.1744956076145172\n",
      "Epoch: 3, Batch: 110, Avg. Loss: 0.15161898285150527\n",
      "Epoch: 3, Batch: 120, Avg. Loss: 0.3307898655533791\n",
      "Epoch: 3, Batch: 130, Avg. Loss: 0.17762513160705568\n",
      "Epoch: 3, Batch: 140, Avg. Loss: 0.17121329084038733\n",
      "Epoch: 3, Batch: 150, Avg. Loss: 0.2184467136859894\n",
      "Epoch: 3, Batch: 160, Avg. Loss: 0.14841658845543862\n",
      "Epoch: 3, Batch: 170, Avg. Loss: 0.16168034598231315\n",
      "Epoch: 3, Batch: 180, Avg. Loss: 0.1398415334522724\n",
      "Epoch: 3, Batch: 190, Avg. Loss: 0.17087619453668595\n",
      "Epoch: 3, Batch: 200, Avg. Loss: 0.25043824315071106\n",
      "Epoch: 3, Batch: 210, Avg. Loss: 0.17208561077713966\n",
      "Epoch: 3, Batch: 220, Avg. Loss: 0.13797804564237595\n",
      "Epoch: 3, Batch: 230, Avg. Loss: 0.1699851781129837\n",
      "Epoch: 3, Batch: 240, Avg. Loss: 0.16555119678378105\n",
      "Epoch: 3, Batch: 250, Avg. Loss: 0.14226171746850014\n",
      "Epoch: 3, Batch: 260, Avg. Loss: 0.32214735001325606\n",
      "Epoch: 3, Batch: 270, Avg. Loss: 0.15173383578658103\n",
      "Epoch: 3, Batch: 280, Avg. Loss: 0.15977891981601716\n",
      "Epoch: 3, Batch: 290, Avg. Loss: 0.1657219909131527\n",
      "Epoch: 3, Batch: 300, Avg. Loss: 0.1936783067882061\n",
      "Epoch: 3, Batch: 310, Avg. Loss: 0.2034850887954235\n",
      "Epoch: 3, Batch: 320, Avg. Loss: 0.13968067914247512\n",
      "Epoch: 3, Batch: 330, Avg. Loss: 0.2053044356405735\n",
      "Epoch: 3, Batch: 340, Avg. Loss: 0.14832893908023834\n"
     ]
    },
    {
     "name": "stderr",
     "output_type": "stream",
     "text": [
      "/home/workspace/data_load.py:39: FutureWarning: Method .as_matrix will be removed in a future version. Use .values instead.\n",
      "  key_pts = self.key_pts_frame.iloc[idx, 1:].as_matrix()\n",
      "/home/workspace/data_load.py:39: FutureWarning: Method .as_matrix will be removed in a future version. Use .values instead.\n",
      "  key_pts = self.key_pts_frame.iloc[idx, 1:].as_matrix()\n",
      "/home/workspace/data_load.py:39: FutureWarning: Method .as_matrix will be removed in a future version. Use .values instead.\n",
      "  key_pts = self.key_pts_frame.iloc[idx, 1:].as_matrix()\n",
      "/home/workspace/data_load.py:39: FutureWarning: Method .as_matrix will be removed in a future version. Use .values instead.\n",
      "  key_pts = self.key_pts_frame.iloc[idx, 1:].as_matrix()\n"
     ]
    },
    {
     "name": "stdout",
     "output_type": "stream",
     "text": [
      "Epoch: 4, Batch: 10, Avg. Loss: 0.13876792266964913\n",
      "Epoch: 4, Batch: 20, Avg. Loss: 0.14537471160292625\n",
      "Epoch: 4, Batch: 30, Avg. Loss: 0.14815155044198036\n",
      "Epoch: 4, Batch: 40, Avg. Loss: 0.1504291646182537\n",
      "Epoch: 4, Batch: 50, Avg. Loss: 0.15493696182966232\n",
      "Epoch: 4, Batch: 60, Avg. Loss: 0.17038820907473565\n",
      "Epoch: 4, Batch: 70, Avg. Loss: 0.14155975356698036\n",
      "Epoch: 4, Batch: 80, Avg. Loss: 0.22332667633891107\n",
      "Epoch: 4, Batch: 90, Avg. Loss: 0.18706640601158142\n",
      "Epoch: 4, Batch: 100, Avg. Loss: 0.17084180936217308\n",
      "Epoch: 4, Batch: 110, Avg. Loss: 0.135367701202631\n",
      "Epoch: 4, Batch: 120, Avg. Loss: 0.17356804385781288\n",
      "Epoch: 4, Batch: 130, Avg. Loss: 0.17269134745001793\n",
      "Epoch: 4, Batch: 140, Avg. Loss: 0.2267850160598755\n",
      "Epoch: 4, Batch: 150, Avg. Loss: 0.14178053066134452\n",
      "Epoch: 4, Batch: 160, Avg. Loss: 0.1432692777365446\n",
      "Epoch: 4, Batch: 170, Avg. Loss: 0.14028246328234673\n",
      "Epoch: 4, Batch: 180, Avg. Loss: 0.14495566263794898\n",
      "Epoch: 4, Batch: 190, Avg. Loss: 0.2309717133641243\n",
      "Epoch: 4, Batch: 200, Avg. Loss: 0.13557784557342528\n",
      "Epoch: 4, Batch: 210, Avg. Loss: 0.14978141114115714\n",
      "Epoch: 4, Batch: 220, Avg. Loss: 0.1582334704697132\n",
      "Epoch: 4, Batch: 230, Avg. Loss: 0.13057419136166573\n",
      "Epoch: 4, Batch: 240, Avg. Loss: 0.13970697820186614\n",
      "Epoch: 4, Batch: 250, Avg. Loss: 0.14617301747202874\n",
      "Epoch: 4, Batch: 260, Avg. Loss: 0.1983734130859375\n",
      "Epoch: 4, Batch: 270, Avg. Loss: 0.13282310739159583\n",
      "Epoch: 4, Batch: 280, Avg. Loss: 0.14767893850803376\n",
      "Epoch: 4, Batch: 290, Avg. Loss: 0.16292431876063346\n",
      "Epoch: 4, Batch: 300, Avg. Loss: 0.15079135522246362\n",
      "Epoch: 4, Batch: 310, Avg. Loss: 0.13874685317277907\n",
      "Epoch: 4, Batch: 320, Avg. Loss: 0.11551044657826423\n",
      "Epoch: 4, Batch: 330, Avg. Loss: 0.25011594519019126\n",
      "Epoch: 4, Batch: 340, Avg. Loss: 0.12381185069680214\n"
     ]
    },
    {
     "name": "stderr",
     "output_type": "stream",
     "text": [
      "/home/workspace/data_load.py:39: FutureWarning: Method .as_matrix will be removed in a future version. Use .values instead.\n",
      "  key_pts = self.key_pts_frame.iloc[idx, 1:].as_matrix()\n",
      "/home/workspace/data_load.py:39: FutureWarning: Method .as_matrix will be removed in a future version. Use .values instead.\n",
      "  key_pts = self.key_pts_frame.iloc[idx, 1:].as_matrix()\n",
      "/home/workspace/data_load.py:39: FutureWarning: Method .as_matrix will be removed in a future version. Use .values instead.\n",
      "  key_pts = self.key_pts_frame.iloc[idx, 1:].as_matrix()\n",
      "/home/workspace/data_load.py:39: FutureWarning: Method .as_matrix will be removed in a future version. Use .values instead.\n",
      "  key_pts = self.key_pts_frame.iloc[idx, 1:].as_matrix()\n"
     ]
    },
    {
     "name": "stdout",
     "output_type": "stream",
     "text": [
      "Epoch: 5, Batch: 10, Avg. Loss: 0.1326742760837078\n",
      "Epoch: 5, Batch: 20, Avg. Loss: 0.145905701816082\n",
      "Epoch: 5, Batch: 30, Avg. Loss: 0.14561647102236747\n",
      "Epoch: 5, Batch: 40, Avg. Loss: 0.1456368751823902\n",
      "Epoch: 5, Batch: 50, Avg. Loss: 0.17145157754421234\n",
      "Epoch: 5, Batch: 60, Avg. Loss: 0.11428468227386475\n",
      "Epoch: 5, Batch: 70, Avg. Loss: 0.2787093907594681\n",
      "Epoch: 5, Batch: 80, Avg. Loss: 0.125748360902071\n",
      "Epoch: 5, Batch: 90, Avg. Loss: 0.12780655100941657\n",
      "Epoch: 5, Batch: 100, Avg. Loss: 0.21875110566616057\n",
      "Epoch: 5, Batch: 110, Avg. Loss: 0.13693196699023247\n",
      "Epoch: 5, Batch: 120, Avg. Loss: 0.15983985885977745\n",
      "Epoch: 5, Batch: 130, Avg. Loss: 0.1315460056066513\n",
      "Epoch: 5, Batch: 140, Avg. Loss: 0.11118012815713882\n",
      "Epoch: 5, Batch: 150, Avg. Loss: 0.1653233490884304\n",
      "Epoch: 5, Batch: 160, Avg. Loss: 0.14703934416174888\n",
      "Epoch: 5, Batch: 170, Avg. Loss: 0.161660023778677\n",
      "Epoch: 5, Batch: 180, Avg. Loss: 0.14595899134874343\n",
      "Epoch: 5, Batch: 190, Avg. Loss: 0.12880807220935822\n",
      "Epoch: 5, Batch: 200, Avg. Loss: 0.12887876890599728\n",
      "Epoch: 5, Batch: 210, Avg. Loss: 0.19568299725651742\n",
      "Epoch: 5, Batch: 220, Avg. Loss: 0.11816032752394676\n",
      "Epoch: 5, Batch: 230, Avg. Loss: 0.1232677511870861\n",
      "Epoch: 5, Batch: 240, Avg. Loss: 0.11611876413226127\n",
      "Epoch: 5, Batch: 250, Avg. Loss: 0.13193471021950245\n",
      "Epoch: 5, Batch: 260, Avg. Loss: 0.17033957839012145\n",
      "Epoch: 5, Batch: 270, Avg. Loss: 0.1152512289583683\n",
      "Epoch: 5, Batch: 280, Avg. Loss: 0.20330433696508407\n",
      "Epoch: 5, Batch: 290, Avg. Loss: 0.1431470289826393\n",
      "Epoch: 5, Batch: 300, Avg. Loss: 0.11395785883069039\n",
      "Epoch: 5, Batch: 310, Avg. Loss: 0.14005079120397568\n",
      "Epoch: 5, Batch: 320, Avg. Loss: 0.15851773843169212\n",
      "Epoch: 5, Batch: 330, Avg. Loss: 0.1790937140583992\n",
      "Epoch: 5, Batch: 340, Avg. Loss: 0.15705668404698372\n"
     ]
    },
    {
     "name": "stderr",
     "output_type": "stream",
     "text": [
      "/home/workspace/data_load.py:39: FutureWarning: Method .as_matrix will be removed in a future version. Use .values instead.\n",
      "  key_pts = self.key_pts_frame.iloc[idx, 1:].as_matrix()\n",
      "/home/workspace/data_load.py:39: FutureWarning: Method .as_matrix will be removed in a future version. Use .values instead.\n",
      "  key_pts = self.key_pts_frame.iloc[idx, 1:].as_matrix()\n",
      "/home/workspace/data_load.py:39: FutureWarning: Method .as_matrix will be removed in a future version. Use .values instead.\n",
      "  key_pts = self.key_pts_frame.iloc[idx, 1:].as_matrix()\n",
      "/home/workspace/data_load.py:39: FutureWarning: Method .as_matrix will be removed in a future version. Use .values instead.\n",
      "  key_pts = self.key_pts_frame.iloc[idx, 1:].as_matrix()\n"
     ]
    },
    {
     "name": "stdout",
     "output_type": "stream",
     "text": [
      "Epoch: 6, Batch: 10, Avg. Loss: 0.11174092963337898\n",
      "Epoch: 6, Batch: 20, Avg. Loss: 0.16127802133560182\n",
      "Epoch: 6, Batch: 30, Avg. Loss: 0.15861453711986542\n",
      "Epoch: 6, Batch: 40, Avg. Loss: 0.1164209172129631\n",
      "Epoch: 6, Batch: 50, Avg. Loss: 0.1324688635766506\n",
      "Epoch: 6, Batch: 60, Avg. Loss: 0.1722692921757698\n",
      "Epoch: 6, Batch: 70, Avg. Loss: 0.14696532785892485\n",
      "Epoch: 6, Batch: 80, Avg. Loss: 0.13825569078326225\n",
      "Epoch: 6, Batch: 90, Avg. Loss: 0.12327664643526078\n",
      "Epoch: 6, Batch: 100, Avg. Loss: 0.12291870713233947\n",
      "Epoch: 6, Batch: 110, Avg. Loss: 0.1200866498053074\n",
      "Epoch: 6, Batch: 120, Avg. Loss: 0.14719736874103545\n",
      "Epoch: 6, Batch: 130, Avg. Loss: 0.10748337619006634\n",
      "Epoch: 6, Batch: 140, Avg. Loss: 0.1657060980796814\n",
      "Epoch: 6, Batch: 150, Avg. Loss: 0.10941201150417328\n",
      "Epoch: 6, Batch: 160, Avg. Loss: 0.11352980732917786\n",
      "Epoch: 6, Batch: 170, Avg. Loss: 0.10111162886023521\n",
      "Epoch: 6, Batch: 180, Avg. Loss: 0.11241833306849003\n",
      "Epoch: 6, Batch: 190, Avg. Loss: 0.256427388638258\n",
      "Epoch: 6, Batch: 200, Avg. Loss: 0.08964964970946313\n",
      "Epoch: 6, Batch: 210, Avg. Loss: 0.1042308535426855\n",
      "Epoch: 6, Batch: 220, Avg. Loss: 0.1312476560473442\n",
      "Epoch: 6, Batch: 230, Avg. Loss: 0.11762655302882194\n",
      "Epoch: 6, Batch: 240, Avg. Loss: 0.11985746771097183\n",
      "Epoch: 6, Batch: 250, Avg. Loss: 0.10469731763005256\n",
      "Epoch: 6, Batch: 260, Avg. Loss: 0.1403222568333149\n",
      "Epoch: 6, Batch: 270, Avg. Loss: 0.09794859513640404\n",
      "Epoch: 6, Batch: 280, Avg. Loss: 0.11518352590501309\n",
      "Epoch: 6, Batch: 290, Avg. Loss: 0.12579065635800363\n",
      "Epoch: 6, Batch: 300, Avg. Loss: 0.10191076286137105\n",
      "Epoch: 6, Batch: 310, Avg. Loss: 0.170101872831583\n",
      "Epoch: 6, Batch: 320, Avg. Loss: 0.1386267438530922\n",
      "Epoch: 6, Batch: 330, Avg. Loss: 0.12492991611361504\n",
      "Epoch: 6, Batch: 340, Avg. Loss: 0.1504295401275158\n"
     ]
    },
    {
     "name": "stderr",
     "output_type": "stream",
     "text": [
      "/home/workspace/data_load.py:39: FutureWarning: Method .as_matrix will be removed in a future version. Use .values instead.\n",
      "  key_pts = self.key_pts_frame.iloc[idx, 1:].as_matrix()\n",
      "/home/workspace/data_load.py:39: FutureWarning: Method .as_matrix will be removed in a future version. Use .values instead.\n",
      "  key_pts = self.key_pts_frame.iloc[idx, 1:].as_matrix()\n",
      "/home/workspace/data_load.py:39: FutureWarning: Method .as_matrix will be removed in a future version. Use .values instead.\n",
      "  key_pts = self.key_pts_frame.iloc[idx, 1:].as_matrix()\n",
      "/home/workspace/data_load.py:39: FutureWarning: Method .as_matrix will be removed in a future version. Use .values instead.\n",
      "  key_pts = self.key_pts_frame.iloc[idx, 1:].as_matrix()\n"
     ]
    },
    {
     "name": "stdout",
     "output_type": "stream",
     "text": [
      "Epoch: 7, Batch: 10, Avg. Loss: 0.07256386019289493\n",
      "Epoch: 7, Batch: 20, Avg. Loss: 0.11960602551698685\n",
      "Epoch: 7, Batch: 30, Avg. Loss: 0.09699463397264481\n",
      "Epoch: 7, Batch: 40, Avg. Loss: 0.11918483525514603\n",
      "Epoch: 7, Batch: 50, Avg. Loss: 0.09719181098043919\n",
      "Epoch: 7, Batch: 60, Avg. Loss: 0.11252899132668973\n",
      "Epoch: 7, Batch: 70, Avg. Loss: 0.09060739986598491\n",
      "Epoch: 7, Batch: 80, Avg. Loss: 0.2913779575377703\n",
      "Epoch: 7, Batch: 90, Avg. Loss: 0.08595546297729015\n",
      "Epoch: 7, Batch: 100, Avg. Loss: 0.1358385358005762\n",
      "Epoch: 7, Batch: 110, Avg. Loss: 0.10458727665245533\n",
      "Epoch: 7, Batch: 120, Avg. Loss: 0.10085994489490986\n",
      "Epoch: 7, Batch: 130, Avg. Loss: 0.08913125842809677\n",
      "Epoch: 7, Batch: 140, Avg. Loss: 0.09222369901835918\n",
      "Epoch: 7, Batch: 150, Avg. Loss: 0.07460403740406037\n",
      "Epoch: 7, Batch: 160, Avg. Loss: 0.10685374587774277\n",
      "Epoch: 7, Batch: 170, Avg. Loss: 0.12940460331737996\n",
      "Epoch: 7, Batch: 180, Avg. Loss: 0.10717180557549\n",
      "Epoch: 7, Batch: 190, Avg. Loss: 0.08830265179276467\n",
      "Epoch: 7, Batch: 200, Avg. Loss: 0.11868206746876239\n",
      "Epoch: 7, Batch: 210, Avg. Loss: 0.12211379632353783\n",
      "Epoch: 7, Batch: 220, Avg. Loss: 0.08492707200348378\n",
      "Epoch: 7, Batch: 230, Avg. Loss: 0.13370559327304363\n",
      "Epoch: 7, Batch: 240, Avg. Loss: 0.12381731793284416\n",
      "Epoch: 7, Batch: 250, Avg. Loss: 0.11339943930506706\n",
      "Epoch: 7, Batch: 260, Avg. Loss: 0.09813864976167679\n",
      "Epoch: 7, Batch: 270, Avg. Loss: 0.0783835381269455\n",
      "Epoch: 7, Batch: 280, Avg. Loss: 0.08555063754320144\n",
      "Epoch: 7, Batch: 290, Avg. Loss: 0.19606073051691056\n",
      "Epoch: 7, Batch: 300, Avg. Loss: 0.0886197630316019\n",
      "Epoch: 7, Batch: 310, Avg. Loss: 0.11575729176402091\n",
      "Epoch: 7, Batch: 320, Avg. Loss: 0.07295227833092213\n",
      "Epoch: 7, Batch: 330, Avg. Loss: 0.07881848178803921\n",
      "Epoch: 7, Batch: 340, Avg. Loss: 0.10600975230336189\n"
     ]
    },
    {
     "name": "stderr",
     "output_type": "stream",
     "text": [
      "/home/workspace/data_load.py:39: FutureWarning: Method .as_matrix will be removed in a future version. Use .values instead.\n",
      "  key_pts = self.key_pts_frame.iloc[idx, 1:].as_matrix()\n",
      "/home/workspace/data_load.py:39: FutureWarning: Method .as_matrix will be removed in a future version. Use .values instead.\n",
      "  key_pts = self.key_pts_frame.iloc[idx, 1:].as_matrix()\n",
      "/home/workspace/data_load.py:39: FutureWarning: Method .as_matrix will be removed in a future version. Use .values instead.\n",
      "  key_pts = self.key_pts_frame.iloc[idx, 1:].as_matrix()\n",
      "/home/workspace/data_load.py:39: FutureWarning: Method .as_matrix will be removed in a future version. Use .values instead.\n",
      "  key_pts = self.key_pts_frame.iloc[idx, 1:].as_matrix()\n"
     ]
    },
    {
     "name": "stdout",
     "output_type": "stream",
     "text": [
      "Epoch: 8, Batch: 10, Avg. Loss: 0.07931995093822479\n",
      "Epoch: 8, Batch: 20, Avg. Loss: 0.10514139160513877\n",
      "Epoch: 8, Batch: 30, Avg. Loss: 0.07632976211607456\n",
      "Epoch: 8, Batch: 40, Avg. Loss: 0.1112709753215313\n",
      "Epoch: 8, Batch: 50, Avg. Loss: 0.10143118500709533\n",
      "Epoch: 8, Batch: 60, Avg. Loss: 0.08915716297924518\n",
      "Epoch: 8, Batch: 70, Avg. Loss: 0.07970068082213402\n",
      "Epoch: 8, Batch: 80, Avg. Loss: 0.06904227547347545\n",
      "Epoch: 8, Batch: 90, Avg. Loss: 0.08307386487722397\n",
      "Epoch: 8, Batch: 100, Avg. Loss: 0.0928355947136879\n",
      "Epoch: 8, Batch: 110, Avg. Loss: 0.08809922151267528\n",
      "Epoch: 8, Batch: 120, Avg. Loss: 0.1109913520514965\n",
      "Epoch: 8, Batch: 130, Avg. Loss: 0.08164717070758343\n",
      "Epoch: 8, Batch: 140, Avg. Loss: 0.07142729945480823\n",
      "Epoch: 8, Batch: 150, Avg. Loss: 0.08347613774240017\n",
      "Epoch: 8, Batch: 160, Avg. Loss: 0.08806879073381424\n",
      "Epoch: 8, Batch: 170, Avg. Loss: 0.08552097640931607\n",
      "Epoch: 8, Batch: 180, Avg. Loss: 0.08265382908284664\n",
      "Epoch: 8, Batch: 190, Avg. Loss: 0.07306116260588169\n",
      "Epoch: 8, Batch: 200, Avg. Loss: 0.06771347448229789\n",
      "Epoch: 8, Batch: 210, Avg. Loss: 0.09887410178780556\n",
      "Epoch: 8, Batch: 220, Avg. Loss: 0.11730767823755742\n",
      "Epoch: 8, Batch: 230, Avg. Loss: 0.12141214907169343\n",
      "Epoch: 8, Batch: 240, Avg. Loss: 0.08477822318673134\n",
      "Epoch: 8, Batch: 250, Avg. Loss: 0.08237331993877887\n",
      "Epoch: 8, Batch: 260, Avg. Loss: 0.11638352684676648\n",
      "Epoch: 8, Batch: 270, Avg. Loss: 0.07460973113775253\n",
      "Epoch: 8, Batch: 280, Avg. Loss: 0.1770272895693779\n",
      "Epoch: 8, Batch: 290, Avg. Loss: 0.060441411659121515\n",
      "Epoch: 8, Batch: 300, Avg. Loss: 0.09103454612195491\n",
      "Epoch: 8, Batch: 310, Avg. Loss: 0.0841446828097105\n",
      "Epoch: 8, Batch: 320, Avg. Loss: 0.07177783250808716\n",
      "Epoch: 8, Batch: 330, Avg. Loss: 0.07547509782016278\n",
      "Epoch: 8, Batch: 340, Avg. Loss: 0.07987978979945183\n"
     ]
    },
    {
     "name": "stderr",
     "output_type": "stream",
     "text": [
      "/home/workspace/data_load.py:39: FutureWarning: Method .as_matrix will be removed in a future version. Use .values instead.\n",
      "  key_pts = self.key_pts_frame.iloc[idx, 1:].as_matrix()\n",
      "/home/workspace/data_load.py:39: FutureWarning: Method .as_matrix will be removed in a future version. Use .values instead.\n",
      "  key_pts = self.key_pts_frame.iloc[idx, 1:].as_matrix()\n",
      "/home/workspace/data_load.py:39: FutureWarning: Method .as_matrix will be removed in a future version. Use .values instead.\n",
      "  key_pts = self.key_pts_frame.iloc[idx, 1:].as_matrix()\n",
      "/home/workspace/data_load.py:39: FutureWarning: Method .as_matrix will be removed in a future version. Use .values instead.\n",
      "  key_pts = self.key_pts_frame.iloc[idx, 1:].as_matrix()\n"
     ]
    },
    {
     "name": "stdout",
     "output_type": "stream",
     "text": [
      "Epoch: 9, Batch: 10, Avg. Loss: 0.0662783369421959\n",
      "Epoch: 9, Batch: 20, Avg. Loss: 0.1430114794522524\n",
      "Epoch: 9, Batch: 30, Avg. Loss: 0.11260084025561809\n",
      "Epoch: 9, Batch: 40, Avg. Loss: 0.1279838837683201\n",
      "Epoch: 9, Batch: 50, Avg. Loss: 0.06360257044434547\n",
      "Epoch: 9, Batch: 60, Avg. Loss: 0.06590561084449291\n",
      "Epoch: 9, Batch: 70, Avg. Loss: 0.07045533116906881\n",
      "Epoch: 9, Batch: 80, Avg. Loss: 0.12301260828971863\n",
      "Epoch: 9, Batch: 90, Avg. Loss: 0.07866391651332379\n",
      "Epoch: 9, Batch: 100, Avg. Loss: 0.08300784714519978\n",
      "Epoch: 9, Batch: 110, Avg. Loss: 0.06002789996564388\n",
      "Epoch: 9, Batch: 120, Avg. Loss: 0.06549595929682255\n",
      "Epoch: 9, Batch: 130, Avg. Loss: 0.055260741338133815\n",
      "Epoch: 9, Batch: 140, Avg. Loss: 0.066117138043046\n",
      "Epoch: 9, Batch: 150, Avg. Loss: 0.07761324979364873\n",
      "Epoch: 9, Batch: 160, Avg. Loss: 0.0748968929052353\n",
      "Epoch: 9, Batch: 170, Avg. Loss: 0.0919889323413372\n",
      "Epoch: 9, Batch: 180, Avg. Loss: 0.07518678195774556\n",
      "Epoch: 9, Batch: 190, Avg. Loss: 0.0610498059540987\n",
      "Epoch: 9, Batch: 200, Avg. Loss: 0.07943398542702199\n",
      "Epoch: 9, Batch: 210, Avg. Loss: 0.06520272679626941\n",
      "Epoch: 9, Batch: 220, Avg. Loss: 0.0668160367757082\n",
      "Epoch: 9, Batch: 230, Avg. Loss: 0.07740377746522427\n",
      "Epoch: 9, Batch: 240, Avg. Loss: 0.07311296984553337\n",
      "Epoch: 9, Batch: 250, Avg. Loss: 0.08197390586137772\n",
      "Epoch: 9, Batch: 260, Avg. Loss: 0.07949330247938632\n",
      "Epoch: 9, Batch: 270, Avg. Loss: 0.06364841293543577\n",
      "Epoch: 9, Batch: 280, Avg. Loss: 0.0771686527878046\n",
      "Epoch: 9, Batch: 290, Avg. Loss: 0.09724487662315369\n",
      "Epoch: 9, Batch: 300, Avg. Loss: 0.07063491940498352\n",
      "Epoch: 9, Batch: 310, Avg. Loss: 0.07531147338449955\n",
      "Epoch: 9, Batch: 320, Avg. Loss: 0.06123649924993515\n",
      "Epoch: 9, Batch: 330, Avg. Loss: 0.06682755947113037\n",
      "Epoch: 9, Batch: 340, Avg. Loss: 0.0775456603616476\n"
     ]
    },
    {
     "name": "stderr",
     "output_type": "stream",
     "text": [
      "/home/workspace/data_load.py:39: FutureWarning: Method .as_matrix will be removed in a future version. Use .values instead.\n",
      "  key_pts = self.key_pts_frame.iloc[idx, 1:].as_matrix()\n",
      "/home/workspace/data_load.py:39: FutureWarning: Method .as_matrix will be removed in a future version. Use .values instead.\n",
      "  key_pts = self.key_pts_frame.iloc[idx, 1:].as_matrix()\n",
      "/home/workspace/data_load.py:39: FutureWarning: Method .as_matrix will be removed in a future version. Use .values instead.\n",
      "  key_pts = self.key_pts_frame.iloc[idx, 1:].as_matrix()\n",
      "/home/workspace/data_load.py:39: FutureWarning: Method .as_matrix will be removed in a future version. Use .values instead.\n",
      "  key_pts = self.key_pts_frame.iloc[idx, 1:].as_matrix()\n"
     ]
    },
    {
     "name": "stdout",
     "output_type": "stream",
     "text": [
      "Epoch: 10, Batch: 10, Avg. Loss: 0.06316713280975819\n",
      "Epoch: 10, Batch: 20, Avg. Loss: 0.054169216006994245\n",
      "Epoch: 10, Batch: 30, Avg. Loss: 0.12452194392681122\n",
      "Epoch: 10, Batch: 40, Avg. Loss: 0.05782045163214207\n",
      "Epoch: 10, Batch: 50, Avg. Loss: 0.08693363219499588\n",
      "Epoch: 10, Batch: 60, Avg. Loss: 0.09842735268175602\n",
      "Epoch: 10, Batch: 70, Avg. Loss: 0.07079418376088142\n",
      "Epoch: 10, Batch: 80, Avg. Loss: 0.060794199258089064\n",
      "Epoch: 10, Batch: 90, Avg. Loss: 0.0655479036271572\n",
      "Epoch: 10, Batch: 100, Avg. Loss: 0.1000888217240572\n",
      "Epoch: 10, Batch: 110, Avg. Loss: 0.07267660908401012\n",
      "Epoch: 10, Batch: 120, Avg. Loss: 0.06962845101952553\n",
      "Epoch: 10, Batch: 130, Avg. Loss: 0.1054227590560913\n",
      "Epoch: 10, Batch: 140, Avg. Loss: 0.07112920843064785\n",
      "Epoch: 10, Batch: 150, Avg. Loss: 0.11498673185706139\n",
      "Epoch: 10, Batch: 160, Avg. Loss: 0.07725774422287941\n",
      "Epoch: 10, Batch: 170, Avg. Loss: 0.06715407334268093\n",
      "Epoch: 10, Batch: 180, Avg. Loss: 0.07078993991017342\n",
      "Epoch: 10, Batch: 190, Avg. Loss: 0.08935515917837619\n",
      "Epoch: 10, Batch: 200, Avg. Loss: 0.06711517572402954\n",
      "Epoch: 10, Batch: 210, Avg. Loss: 0.07183846533298492\n",
      "Epoch: 10, Batch: 220, Avg. Loss: 0.10192598104476928\n",
      "Epoch: 10, Batch: 230, Avg. Loss: 0.06129629015922546\n",
      "Epoch: 10, Batch: 240, Avg. Loss: 0.07119058538228273\n",
      "Epoch: 10, Batch: 250, Avg. Loss: 0.09040648974478245\n",
      "Epoch: 10, Batch: 260, Avg. Loss: 0.09792711231857539\n",
      "Epoch: 10, Batch: 270, Avg. Loss: 0.06709960848093033\n",
      "Epoch: 10, Batch: 280, Avg. Loss: 0.06431655213236809\n",
      "Epoch: 10, Batch: 290, Avg. Loss: 0.0648232001811266\n",
      "Epoch: 10, Batch: 300, Avg. Loss: 0.06563003323972225\n",
      "Epoch: 10, Batch: 310, Avg. Loss: 0.139479798451066\n",
      "Epoch: 10, Batch: 320, Avg. Loss: 0.08015798367559909\n",
      "Epoch: 10, Batch: 330, Avg. Loss: 0.07352631725370884\n",
      "Epoch: 10, Batch: 340, Avg. Loss: 0.09496524930000305\n"
     ]
    },
    {
     "name": "stderr",
     "output_type": "stream",
     "text": [
      "/home/workspace/data_load.py:39: FutureWarning: Method .as_matrix will be removed in a future version. Use .values instead.\n",
      "  key_pts = self.key_pts_frame.iloc[idx, 1:].as_matrix()\n",
      "/home/workspace/data_load.py:39: FutureWarning: Method .as_matrix will be removed in a future version. Use .values instead.\n",
      "  key_pts = self.key_pts_frame.iloc[idx, 1:].as_matrix()\n",
      "/home/workspace/data_load.py:39: FutureWarning: Method .as_matrix will be removed in a future version. Use .values instead.\n",
      "  key_pts = self.key_pts_frame.iloc[idx, 1:].as_matrix()\n",
      "/home/workspace/data_load.py:39: FutureWarning: Method .as_matrix will be removed in a future version. Use .values instead.\n",
      "  key_pts = self.key_pts_frame.iloc[idx, 1:].as_matrix()\n"
     ]
    },
    {
     "name": "stdout",
     "output_type": "stream",
     "text": [
      "Epoch: 11, Batch: 10, Avg. Loss: 0.07197781763970852\n",
      "Epoch: 11, Batch: 20, Avg. Loss: 0.07066252268850803\n",
      "Epoch: 11, Batch: 30, Avg. Loss: 0.0543971985578537\n",
      "Epoch: 11, Batch: 40, Avg. Loss: 0.08329811692237854\n",
      "Epoch: 11, Batch: 50, Avg. Loss: 0.1234171885997057\n",
      "Epoch: 11, Batch: 60, Avg. Loss: 0.06089719980955124\n",
      "Epoch: 11, Batch: 70, Avg. Loss: 0.08711541332304477\n",
      "Epoch: 11, Batch: 80, Avg. Loss: 0.060198139399290085\n",
      "Epoch: 11, Batch: 90, Avg. Loss: 0.11823772639036179\n",
      "Epoch: 11, Batch: 100, Avg. Loss: 0.07041127942502498\n",
      "Epoch: 11, Batch: 110, Avg. Loss: 0.06939644813537597\n",
      "Epoch: 11, Batch: 120, Avg. Loss: 0.07500888481736183\n",
      "Epoch: 11, Batch: 130, Avg. Loss: 0.08503221496939659\n",
      "Epoch: 11, Batch: 140, Avg. Loss: 0.0822352845221758\n",
      "Epoch: 11, Batch: 150, Avg. Loss: 0.17146623469889163\n",
      "Epoch: 11, Batch: 160, Avg. Loss: 0.060250142589211464\n",
      "Epoch: 11, Batch: 170, Avg. Loss: 0.06409998908638954\n",
      "Epoch: 11, Batch: 180, Avg. Loss: 0.06612315103411674\n",
      "Epoch: 11, Batch: 190, Avg. Loss: 0.07322164587676525\n",
      "Epoch: 11, Batch: 200, Avg. Loss: 0.08019408322870732\n",
      "Epoch: 11, Batch: 210, Avg. Loss: 0.06648799441754819\n",
      "Epoch: 11, Batch: 220, Avg. Loss: 0.07022965624928475\n",
      "Epoch: 11, Batch: 230, Avg. Loss: 0.06414971128106117\n",
      "Epoch: 11, Batch: 240, Avg. Loss: 0.06423956565558911\n",
      "Epoch: 11, Batch: 250, Avg. Loss: 0.056031666323542596\n",
      "Epoch: 11, Batch: 260, Avg. Loss: 0.054599709995090964\n",
      "Epoch: 11, Batch: 270, Avg. Loss: 0.08089625164866447\n",
      "Epoch: 11, Batch: 280, Avg. Loss: 0.07244031745940446\n",
      "Epoch: 11, Batch: 290, Avg. Loss: 0.07003580089658498\n",
      "Epoch: 11, Batch: 300, Avg. Loss: 0.052165139466524124\n",
      "Epoch: 11, Batch: 310, Avg. Loss: 0.06516490243375302\n",
      "Epoch: 11, Batch: 320, Avg. Loss: 0.09080743286758661\n",
      "Epoch: 11, Batch: 330, Avg. Loss: 0.06366391405463219\n",
      "Epoch: 11, Batch: 340, Avg. Loss: 0.0715331569314003\n"
     ]
    },
    {
     "name": "stderr",
     "output_type": "stream",
     "text": [
      "/home/workspace/data_load.py:39: FutureWarning: Method .as_matrix will be removed in a future version. Use .values instead.\n",
      "  key_pts = self.key_pts_frame.iloc[idx, 1:].as_matrix()\n",
      "/home/workspace/data_load.py:39: FutureWarning: Method .as_matrix will be removed in a future version. Use .values instead.\n",
      "  key_pts = self.key_pts_frame.iloc[idx, 1:].as_matrix()\n",
      "/home/workspace/data_load.py:39: FutureWarning: Method .as_matrix will be removed in a future version. Use .values instead.\n",
      "  key_pts = self.key_pts_frame.iloc[idx, 1:].as_matrix()\n",
      "/home/workspace/data_load.py:39: FutureWarning: Method .as_matrix will be removed in a future version. Use .values instead.\n",
      "  key_pts = self.key_pts_frame.iloc[idx, 1:].as_matrix()\n"
     ]
    },
    {
     "name": "stdout",
     "output_type": "stream",
     "text": [
      "Epoch: 12, Batch: 10, Avg. Loss: 0.065336774289608\n",
      "Epoch: 12, Batch: 20, Avg. Loss: 0.048017000406980516\n",
      "Epoch: 12, Batch: 30, Avg. Loss: 0.0660738456994295\n",
      "Epoch: 12, Batch: 40, Avg. Loss: 0.09690682254731656\n",
      "Epoch: 12, Batch: 50, Avg. Loss: 0.05910025406628847\n",
      "Epoch: 12, Batch: 60, Avg. Loss: 0.06092662774026394\n",
      "Epoch: 12, Batch: 70, Avg. Loss: 0.06496975608170033\n",
      "Epoch: 12, Batch: 80, Avg. Loss: 0.0795734018087387\n",
      "Epoch: 12, Batch: 90, Avg. Loss: 0.04921688511967659\n",
      "Epoch: 12, Batch: 100, Avg. Loss: 0.07994994744658471\n",
      "Epoch: 12, Batch: 110, Avg. Loss: 0.09546511545777321\n",
      "Epoch: 12, Batch: 120, Avg. Loss: 0.054839428141713144\n",
      "Epoch: 12, Batch: 130, Avg. Loss: 0.05661094412207603\n",
      "Epoch: 12, Batch: 140, Avg. Loss: 0.11419060118496419\n",
      "Epoch: 12, Batch: 150, Avg. Loss: 0.07999338191002607\n",
      "Epoch: 12, Batch: 160, Avg. Loss: 0.05701324045658111\n",
      "Epoch: 12, Batch: 170, Avg. Loss: 0.047157660499215125\n",
      "Epoch: 12, Batch: 180, Avg. Loss: 0.051666695065796374\n",
      "Epoch: 12, Batch: 190, Avg. Loss: 0.08946519177407027\n",
      "Epoch: 12, Batch: 200, Avg. Loss: 0.06112291067838669\n",
      "Epoch: 12, Batch: 210, Avg. Loss: 0.056214458867907525\n",
      "Epoch: 12, Batch: 220, Avg. Loss: 0.052734433114528655\n",
      "Epoch: 12, Batch: 230, Avg. Loss: 0.04748880714178085\n",
      "Epoch: 12, Batch: 240, Avg. Loss: 0.05845618229359388\n",
      "Epoch: 12, Batch: 250, Avg. Loss: 0.10139442794024944\n",
      "Epoch: 12, Batch: 260, Avg. Loss: 0.050900106132030484\n",
      "Epoch: 12, Batch: 270, Avg. Loss: 0.05909590646624565\n",
      "Epoch: 12, Batch: 280, Avg. Loss: 0.05444050170481205\n",
      "Epoch: 12, Batch: 290, Avg. Loss: 0.12948082573711872\n",
      "Epoch: 12, Batch: 300, Avg. Loss: 0.0638671264052391\n",
      "Epoch: 12, Batch: 310, Avg. Loss: 0.051818827353417876\n",
      "Epoch: 12, Batch: 320, Avg. Loss: 0.046459531970322133\n",
      "Epoch: 12, Batch: 330, Avg. Loss: 0.042362605780363084\n",
      "Epoch: 12, Batch: 340, Avg. Loss: 0.061689136736094954\n"
     ]
    },
    {
     "name": "stderr",
     "output_type": "stream",
     "text": [
      "/home/workspace/data_load.py:39: FutureWarning: Method .as_matrix will be removed in a future version. Use .values instead.\n",
      "  key_pts = self.key_pts_frame.iloc[idx, 1:].as_matrix()\n",
      "/home/workspace/data_load.py:39: FutureWarning: Method .as_matrix will be removed in a future version. Use .values instead.\n",
      "  key_pts = self.key_pts_frame.iloc[idx, 1:].as_matrix()\n",
      "/home/workspace/data_load.py:39: FutureWarning: Method .as_matrix will be removed in a future version. Use .values instead.\n",
      "  key_pts = self.key_pts_frame.iloc[idx, 1:].as_matrix()\n",
      "/home/workspace/data_load.py:39: FutureWarning: Method .as_matrix will be removed in a future version. Use .values instead.\n",
      "  key_pts = self.key_pts_frame.iloc[idx, 1:].as_matrix()\n"
     ]
    },
    {
     "name": "stdout",
     "output_type": "stream",
     "text": [
      "Epoch: 13, Batch: 10, Avg. Loss: 0.12546859979629515\n",
      "Epoch: 13, Batch: 20, Avg. Loss: 0.04914098046720028\n",
      "Epoch: 13, Batch: 30, Avg. Loss: 0.09601974077522754\n",
      "Epoch: 13, Batch: 40, Avg. Loss: 0.19016938395798205\n",
      "Epoch: 13, Batch: 50, Avg. Loss: 0.048168912157416345\n",
      "Epoch: 13, Batch: 60, Avg. Loss: 0.05955933500081301\n",
      "Epoch: 13, Batch: 70, Avg. Loss: 0.0593342412263155\n",
      "Epoch: 13, Batch: 80, Avg. Loss: 0.059368273988366124\n",
      "Epoch: 13, Batch: 90, Avg. Loss: 0.05616409480571747\n",
      "Epoch: 13, Batch: 100, Avg. Loss: 0.05050056353211403\n",
      "Epoch: 13, Batch: 110, Avg. Loss: 0.04794556964188814\n",
      "Epoch: 13, Batch: 120, Avg. Loss: 0.05605403333902359\n",
      "Epoch: 13, Batch: 130, Avg. Loss: 0.07069672346115112\n",
      "Epoch: 13, Batch: 140, Avg. Loss: 0.0629098080098629\n",
      "Epoch: 13, Batch: 150, Avg. Loss: 0.04442518595606089\n",
      "Epoch: 13, Batch: 160, Avg. Loss: 0.10091005377471447\n",
      "Epoch: 13, Batch: 170, Avg. Loss: 0.060583066381514075\n",
      "Epoch: 13, Batch: 180, Avg. Loss: 0.06508948821574449\n",
      "Epoch: 13, Batch: 190, Avg. Loss: 0.07066644616425037\n",
      "Epoch: 13, Batch: 200, Avg. Loss: 0.05761526245623827\n",
      "Epoch: 13, Batch: 210, Avg. Loss: 0.10160012245178222\n",
      "Epoch: 13, Batch: 220, Avg. Loss: 0.057316814363002774\n",
      "Epoch: 13, Batch: 230, Avg. Loss: 0.05308880731463432\n",
      "Epoch: 13, Batch: 240, Avg. Loss: 0.0480476189404726\n",
      "Epoch: 13, Batch: 250, Avg. Loss: 0.06931232251226901\n",
      "Epoch: 13, Batch: 260, Avg. Loss: 0.055977842584252355\n",
      "Epoch: 13, Batch: 270, Avg. Loss: 0.053750856593251226\n",
      "Epoch: 13, Batch: 280, Avg. Loss: 0.04568183235824108\n",
      "Epoch: 13, Batch: 290, Avg. Loss: 0.048707935586571695\n",
      "Epoch: 13, Batch: 300, Avg. Loss: 0.07368851490318776\n",
      "Epoch: 13, Batch: 310, Avg. Loss: 0.06728338077664375\n",
      "Epoch: 13, Batch: 320, Avg. Loss: 0.06920706126838923\n",
      "Epoch: 13, Batch: 330, Avg. Loss: 0.06001025438308716\n",
      "Epoch: 13, Batch: 340, Avg. Loss: 0.060921010375022885\n"
     ]
    },
    {
     "name": "stderr",
     "output_type": "stream",
     "text": [
      "/home/workspace/data_load.py:39: FutureWarning: Method .as_matrix will be removed in a future version. Use .values instead.\n",
      "  key_pts = self.key_pts_frame.iloc[idx, 1:].as_matrix()\n",
      "/home/workspace/data_load.py:39: FutureWarning: Method .as_matrix will be removed in a future version. Use .values instead.\n",
      "  key_pts = self.key_pts_frame.iloc[idx, 1:].as_matrix()\n",
      "/home/workspace/data_load.py:39: FutureWarning: Method .as_matrix will be removed in a future version. Use .values instead.\n",
      "  key_pts = self.key_pts_frame.iloc[idx, 1:].as_matrix()\n",
      "/home/workspace/data_load.py:39: FutureWarning: Method .as_matrix will be removed in a future version. Use .values instead.\n",
      "  key_pts = self.key_pts_frame.iloc[idx, 1:].as_matrix()\n"
     ]
    },
    {
     "name": "stdout",
     "output_type": "stream",
     "text": [
      "Epoch: 14, Batch: 10, Avg. Loss: 0.0588584166020155\n",
      "Epoch: 14, Batch: 20, Avg. Loss: 0.05749122146517038\n",
      "Epoch: 14, Batch: 30, Avg. Loss: 0.06384328193962574\n",
      "Epoch: 14, Batch: 40, Avg. Loss: 0.1307787023484707\n",
      "Epoch: 14, Batch: 50, Avg. Loss: 0.06989907324314118\n",
      "Epoch: 14, Batch: 60, Avg. Loss: 0.04912877827882767\n",
      "Epoch: 14, Batch: 70, Avg. Loss: 0.046780250035226345\n",
      "Epoch: 14, Batch: 80, Avg. Loss: 0.04159021954983473\n",
      "Epoch: 14, Batch: 90, Avg. Loss: 0.05120437890291214\n",
      "Epoch: 14, Batch: 100, Avg. Loss: 0.05304210558533669\n",
      "Epoch: 14, Batch: 110, Avg. Loss: 0.04700599517673254\n",
      "Epoch: 14, Batch: 120, Avg. Loss: 0.1303041484206915\n",
      "Epoch: 14, Batch: 130, Avg. Loss: 0.04399029333144426\n",
      "Epoch: 14, Batch: 140, Avg. Loss: 0.05777445249259472\n",
      "Epoch: 14, Batch: 150, Avg. Loss: 0.06629730500280857\n",
      "Epoch: 14, Batch: 160, Avg. Loss: 0.05000448375940323\n",
      "Epoch: 14, Batch: 170, Avg. Loss: 0.06818400099873542\n",
      "Epoch: 14, Batch: 180, Avg. Loss: 0.05466464273631573\n",
      "Epoch: 14, Batch: 190, Avg. Loss: 0.07113285847008229\n",
      "Epoch: 14, Batch: 200, Avg. Loss: 0.07643984239548444\n",
      "Epoch: 14, Batch: 210, Avg. Loss: 0.0695262011140585\n",
      "Epoch: 14, Batch: 220, Avg. Loss: 0.05064339507371187\n",
      "Epoch: 14, Batch: 230, Avg. Loss: 0.06323149278759957\n",
      "Epoch: 14, Batch: 240, Avg. Loss: 0.049104468524456026\n",
      "Epoch: 14, Batch: 250, Avg. Loss: 0.04411909505724907\n",
      "Epoch: 14, Batch: 260, Avg. Loss: 0.04604351334273815\n",
      "Epoch: 14, Batch: 270, Avg. Loss: 0.06271421983838081\n",
      "Epoch: 14, Batch: 280, Avg. Loss: 0.04956469945609569\n",
      "Epoch: 14, Batch: 290, Avg. Loss: 0.06090870685875416\n",
      "Epoch: 14, Batch: 300, Avg. Loss: 0.09235848188400268\n",
      "Epoch: 14, Batch: 310, Avg. Loss: 0.051357897371053694\n",
      "Epoch: 14, Batch: 320, Avg. Loss: 0.04386155139654875\n",
      "Epoch: 14, Batch: 330, Avg. Loss: 0.057685834169387815\n",
      "Epoch: 14, Batch: 340, Avg. Loss: 0.03862805142998695\n"
     ]
    },
    {
     "name": "stderr",
     "output_type": "stream",
     "text": [
      "/home/workspace/data_load.py:39: FutureWarning: Method .as_matrix will be removed in a future version. Use .values instead.\n",
      "  key_pts = self.key_pts_frame.iloc[idx, 1:].as_matrix()\n",
      "/home/workspace/data_load.py:39: FutureWarning: Method .as_matrix will be removed in a future version. Use .values instead.\n",
      "  key_pts = self.key_pts_frame.iloc[idx, 1:].as_matrix()\n",
      "/home/workspace/data_load.py:39: FutureWarning: Method .as_matrix will be removed in a future version. Use .values instead.\n",
      "  key_pts = self.key_pts_frame.iloc[idx, 1:].as_matrix()\n",
      "/home/workspace/data_load.py:39: FutureWarning: Method .as_matrix will be removed in a future version. Use .values instead.\n",
      "  key_pts = self.key_pts_frame.iloc[idx, 1:].as_matrix()\n"
     ]
    },
    {
     "name": "stdout",
     "output_type": "stream",
     "text": [
      "Epoch: 15, Batch: 10, Avg. Loss: 0.040528461895883085\n",
      "Epoch: 15, Batch: 20, Avg. Loss: 0.04771231189370155\n",
      "Epoch: 15, Batch: 30, Avg. Loss: 0.05142157021909952\n",
      "Epoch: 15, Batch: 40, Avg. Loss: 0.06952316910028458\n",
      "Epoch: 15, Batch: 50, Avg. Loss: 0.04556467719376087\n",
      "Epoch: 15, Batch: 60, Avg. Loss: 0.044887938909232615\n",
      "Epoch: 15, Batch: 70, Avg. Loss: 0.05476975925266743\n",
      "Epoch: 15, Batch: 80, Avg. Loss: 0.059783657640218736\n",
      "Epoch: 15, Batch: 90, Avg. Loss: 0.06257819905877113\n",
      "Epoch: 15, Batch: 100, Avg. Loss: 0.038686261512339115\n",
      "Epoch: 15, Batch: 110, Avg. Loss: 0.05421381294727325\n",
      "Epoch: 15, Batch: 120, Avg. Loss: 0.048175822012126446\n",
      "Epoch: 15, Batch: 130, Avg. Loss: 0.04741133749485016\n",
      "Epoch: 15, Batch: 140, Avg. Loss: 0.04830716587603092\n",
      "Epoch: 15, Batch: 150, Avg. Loss: 0.05663622617721557\n",
      "Epoch: 15, Batch: 160, Avg. Loss: 0.05290919691324234\n",
      "Epoch: 15, Batch: 170, Avg. Loss: 0.056629867479205134\n",
      "Epoch: 15, Batch: 180, Avg. Loss: 0.053787716291844846\n",
      "Epoch: 15, Batch: 190, Avg. Loss: 0.061666482500731944\n",
      "Epoch: 15, Batch: 200, Avg. Loss: 0.05674186684191227\n",
      "Epoch: 15, Batch: 210, Avg. Loss: 0.07713192366063595\n",
      "Epoch: 15, Batch: 220, Avg. Loss: 0.05226891580969095\n",
      "Epoch: 15, Batch: 230, Avg. Loss: 0.05620867032557726\n",
      "Epoch: 15, Batch: 240, Avg. Loss: 0.04298014808446169\n",
      "Epoch: 15, Batch: 250, Avg. Loss: 0.09289585724473\n",
      "Epoch: 15, Batch: 260, Avg. Loss: 0.057281740196049216\n",
      "Epoch: 15, Batch: 270, Avg. Loss: 0.046520385518670083\n",
      "Epoch: 15, Batch: 280, Avg. Loss: 0.056319203600287436\n",
      "Epoch: 15, Batch: 290, Avg. Loss: 0.044801607728004456\n",
      "Epoch: 15, Batch: 300, Avg. Loss: 0.14707499146461486\n",
      "Epoch: 15, Batch: 310, Avg. Loss: 0.11801730878651143\n",
      "Epoch: 15, Batch: 320, Avg. Loss: 0.05127819012850523\n",
      "Epoch: 15, Batch: 330, Avg. Loss: 0.05306265037506819\n",
      "Epoch: 15, Batch: 340, Avg. Loss: 0.06651824489235877\n"
     ]
    },
    {
     "name": "stderr",
     "output_type": "stream",
     "text": [
      "/home/workspace/data_load.py:39: FutureWarning: Method .as_matrix will be removed in a future version. Use .values instead.\n",
      "  key_pts = self.key_pts_frame.iloc[idx, 1:].as_matrix()\n",
      "/home/workspace/data_load.py:39: FutureWarning: Method .as_matrix will be removed in a future version. Use .values instead.\n",
      "  key_pts = self.key_pts_frame.iloc[idx, 1:].as_matrix()\n",
      "/home/workspace/data_load.py:39: FutureWarning: Method .as_matrix will be removed in a future version. Use .values instead.\n",
      "  key_pts = self.key_pts_frame.iloc[idx, 1:].as_matrix()\n",
      "/home/workspace/data_load.py:39: FutureWarning: Method .as_matrix will be removed in a future version. Use .values instead.\n",
      "  key_pts = self.key_pts_frame.iloc[idx, 1:].as_matrix()\n"
     ]
    },
    {
     "name": "stdout",
     "output_type": "stream",
     "text": [
      "Epoch: 16, Batch: 10, Avg. Loss: 0.05112028978765011\n",
      "Epoch: 16, Batch: 20, Avg. Loss: 0.04237436279654503\n",
      "Epoch: 16, Batch: 30, Avg. Loss: 0.044231930375099184\n",
      "Epoch: 16, Batch: 40, Avg. Loss: 0.04322602692991495\n",
      "Epoch: 16, Batch: 50, Avg. Loss: 0.07345083709806204\n",
      "Epoch: 16, Batch: 60, Avg. Loss: 0.05025034919381142\n",
      "Epoch: 16, Batch: 70, Avg. Loss: 0.04198583923280239\n",
      "Epoch: 16, Batch: 80, Avg. Loss: 0.04496334232389927\n",
      "Epoch: 16, Batch: 90, Avg. Loss: 0.05072206519544124\n",
      "Epoch: 16, Batch: 100, Avg. Loss: 0.0930547520518303\n",
      "Epoch: 16, Batch: 110, Avg. Loss: 0.04361863434314728\n",
      "Epoch: 16, Batch: 120, Avg. Loss: 0.0754408435896039\n",
      "Epoch: 16, Batch: 130, Avg. Loss: 0.04542271643877029\n",
      "Epoch: 16, Batch: 140, Avg. Loss: 0.0428387314081192\n",
      "Epoch: 16, Batch: 150, Avg. Loss: 0.04557156562805176\n",
      "Epoch: 16, Batch: 160, Avg. Loss: 0.054696868360042575\n",
      "Epoch: 16, Batch: 170, Avg. Loss: 0.05002506952732801\n",
      "Epoch: 16, Batch: 180, Avg. Loss: 0.049855169653892514\n",
      "Epoch: 16, Batch: 190, Avg. Loss: 0.041323356330394745\n",
      "Epoch: 16, Batch: 200, Avg. Loss: 0.04924920983612537\n",
      "Epoch: 16, Batch: 210, Avg. Loss: 0.04765553195029497\n",
      "Epoch: 16, Batch: 220, Avg. Loss: 0.05551701746881008\n",
      "Epoch: 16, Batch: 230, Avg. Loss: 0.045864851027727124\n",
      "Epoch: 16, Batch: 240, Avg. Loss: 0.05819498188793659\n",
      "Epoch: 16, Batch: 250, Avg. Loss: 0.04714924246072769\n",
      "Epoch: 16, Batch: 260, Avg. Loss: 0.05138384103775025\n",
      "Epoch: 16, Batch: 270, Avg. Loss: 0.04471224751323462\n",
      "Epoch: 16, Batch: 280, Avg. Loss: 0.04787170104682446\n",
      "Epoch: 16, Batch: 290, Avg. Loss: 0.07686965372413397\n",
      "Epoch: 16, Batch: 300, Avg. Loss: 0.04618075992912054\n",
      "Epoch: 16, Batch: 310, Avg. Loss: 0.05307848453521728\n",
      "Epoch: 16, Batch: 320, Avg. Loss: 0.05831578336656094\n",
      "Epoch: 16, Batch: 330, Avg. Loss: 0.048926123045384885\n",
      "Epoch: 16, Batch: 340, Avg. Loss: 0.04906750600785017\n"
     ]
    },
    {
     "name": "stderr",
     "output_type": "stream",
     "text": [
      "/home/workspace/data_load.py:39: FutureWarning: Method .as_matrix will be removed in a future version. Use .values instead.\n",
      "  key_pts = self.key_pts_frame.iloc[idx, 1:].as_matrix()\n",
      "/home/workspace/data_load.py:39: FutureWarning: Method .as_matrix will be removed in a future version. Use .values instead.\n",
      "  key_pts = self.key_pts_frame.iloc[idx, 1:].as_matrix()\n",
      "/home/workspace/data_load.py:39: FutureWarning: Method .as_matrix will be removed in a future version. Use .values instead.\n",
      "  key_pts = self.key_pts_frame.iloc[idx, 1:].as_matrix()\n",
      "/home/workspace/data_load.py:39: FutureWarning: Method .as_matrix will be removed in a future version. Use .values instead.\n",
      "  key_pts = self.key_pts_frame.iloc[idx, 1:].as_matrix()\n"
     ]
    },
    {
     "name": "stdout",
     "output_type": "stream",
     "text": [
      "Epoch: 17, Batch: 10, Avg. Loss: 0.047270702198147774\n",
      "Epoch: 17, Batch: 20, Avg. Loss: 0.05603672992438078\n",
      "Epoch: 17, Batch: 30, Avg. Loss: 0.04537203311920166\n",
      "Epoch: 17, Batch: 40, Avg. Loss: 0.054071559384465215\n",
      "Epoch: 17, Batch: 50, Avg. Loss: 0.05442485082894564\n",
      "Epoch: 17, Batch: 60, Avg. Loss: 0.042139926739037034\n",
      "Epoch: 17, Batch: 70, Avg. Loss: 0.0442047918215394\n",
      "Epoch: 17, Batch: 80, Avg. Loss: 0.037677067518234256\n",
      "Epoch: 17, Batch: 90, Avg. Loss: 0.05347647070884705\n",
      "Epoch: 17, Batch: 100, Avg. Loss: 0.05257672481238842\n",
      "Epoch: 17, Batch: 110, Avg. Loss: 0.04368570595979691\n",
      "Epoch: 17, Batch: 120, Avg. Loss: 0.08139928542077542\n",
      "Epoch: 17, Batch: 130, Avg. Loss: 0.09203169606626034\n",
      "Epoch: 17, Batch: 140, Avg. Loss: 0.2194007646292448\n",
      "Epoch: 17, Batch: 150, Avg. Loss: 0.041567712277174\n",
      "Epoch: 17, Batch: 160, Avg. Loss: 0.048910847119987014\n",
      "Epoch: 17, Batch: 170, Avg. Loss: 0.0363585639744997\n",
      "Epoch: 17, Batch: 180, Avg. Loss: 0.03594156708568334\n",
      "Epoch: 17, Batch: 190, Avg. Loss: 0.06424243487417698\n",
      "Epoch: 17, Batch: 200, Avg. Loss: 0.04291230738162995\n",
      "Epoch: 17, Batch: 210, Avg. Loss: 0.06762903574854136\n",
      "Epoch: 17, Batch: 220, Avg. Loss: 0.039790074340999126\n",
      "Epoch: 17, Batch: 230, Avg. Loss: 0.05179964080452919\n",
      "Epoch: 17, Batch: 240, Avg. Loss: 0.04364478643983603\n",
      "Epoch: 17, Batch: 250, Avg. Loss: 0.04280476905405521\n",
      "Epoch: 17, Batch: 260, Avg. Loss: 0.039121880754828454\n",
      "Epoch: 17, Batch: 270, Avg. Loss: 0.03687068652361632\n",
      "Epoch: 17, Batch: 280, Avg. Loss: 0.04316863995045424\n",
      "Epoch: 17, Batch: 290, Avg. Loss: 0.09189753904938698\n",
      "Epoch: 17, Batch: 300, Avg. Loss: 0.04207130372524261\n",
      "Epoch: 17, Batch: 310, Avg. Loss: 0.04498701933771372\n",
      "Epoch: 17, Batch: 320, Avg. Loss: 0.04558202661573887\n",
      "Epoch: 17, Batch: 330, Avg. Loss: 0.032968385703861715\n",
      "Epoch: 17, Batch: 340, Avg. Loss: 0.046752546168863776\n"
     ]
    },
    {
     "name": "stderr",
     "output_type": "stream",
     "text": [
      "/home/workspace/data_load.py:39: FutureWarning: Method .as_matrix will be removed in a future version. Use .values instead.\n",
      "  key_pts = self.key_pts_frame.iloc[idx, 1:].as_matrix()\n",
      "/home/workspace/data_load.py:39: FutureWarning: Method .as_matrix will be removed in a future version. Use .values instead.\n",
      "  key_pts = self.key_pts_frame.iloc[idx, 1:].as_matrix()\n",
      "/home/workspace/data_load.py:39: FutureWarning: Method .as_matrix will be removed in a future version. Use .values instead.\n",
      "  key_pts = self.key_pts_frame.iloc[idx, 1:].as_matrix()\n",
      "/home/workspace/data_load.py:39: FutureWarning: Method .as_matrix will be removed in a future version. Use .values instead.\n",
      "  key_pts = self.key_pts_frame.iloc[idx, 1:].as_matrix()\n"
     ]
    },
    {
     "name": "stdout",
     "output_type": "stream",
     "text": [
      "Epoch: 18, Batch: 10, Avg. Loss: 0.22988127674907446\n",
      "Epoch: 18, Batch: 20, Avg. Loss: 0.05220075994729996\n",
      "Epoch: 18, Batch: 30, Avg. Loss: 0.0538764763623476\n",
      "Epoch: 18, Batch: 40, Avg. Loss: 0.0709914218634367\n",
      "Epoch: 18, Batch: 50, Avg. Loss: 0.045593146793544294\n",
      "Epoch: 18, Batch: 60, Avg. Loss: 0.05156451612710953\n",
      "Epoch: 18, Batch: 70, Avg. Loss: 0.044948454946279526\n",
      "Epoch: 18, Batch: 80, Avg. Loss: 0.046117371320724486\n",
      "Epoch: 18, Batch: 90, Avg. Loss: 0.045662338472902776\n",
      "Epoch: 18, Batch: 100, Avg. Loss: 0.050817526131868365\n",
      "Epoch: 18, Batch: 110, Avg. Loss: 0.041306708753108975\n",
      "Epoch: 18, Batch: 120, Avg. Loss: 0.03768177106976509\n",
      "Epoch: 18, Batch: 130, Avg. Loss: 0.04997457675635815\n",
      "Epoch: 18, Batch: 140, Avg. Loss: 0.04283512532711029\n",
      "Epoch: 18, Batch: 150, Avg. Loss: 0.04411173705011606\n",
      "Epoch: 18, Batch: 160, Avg. Loss: 0.03734227605164051\n",
      "Epoch: 18, Batch: 170, Avg. Loss: 0.05204148013144731\n",
      "Epoch: 18, Batch: 180, Avg. Loss: 0.04152253065258264\n",
      "Epoch: 18, Batch: 190, Avg. Loss: 0.03995702303946018\n",
      "Epoch: 18, Batch: 200, Avg. Loss: 0.07187545597553253\n",
      "Epoch: 18, Batch: 210, Avg. Loss: 0.054329315200448036\n",
      "Epoch: 18, Batch: 220, Avg. Loss: 0.045120287127792834\n",
      "Epoch: 18, Batch: 230, Avg. Loss: 0.05014653168618679\n",
      "Epoch: 18, Batch: 240, Avg. Loss: 0.03818019349128008\n",
      "Epoch: 18, Batch: 250, Avg. Loss: 0.039022288471460345\n",
      "Epoch: 18, Batch: 260, Avg. Loss: 0.04704361613839865\n",
      "Epoch: 18, Batch: 270, Avg. Loss: 0.032533856481313704\n",
      "Epoch: 18, Batch: 280, Avg. Loss: 0.05109953321516514\n",
      "Epoch: 18, Batch: 290, Avg. Loss: 0.03744609225541353\n",
      "Epoch: 18, Batch: 300, Avg. Loss: 0.061306269839406013\n",
      "Epoch: 18, Batch: 310, Avg. Loss: 0.0722163312137127\n",
      "Epoch: 18, Batch: 320, Avg. Loss: 0.058752219565212725\n",
      "Epoch: 18, Batch: 330, Avg. Loss: 0.05345187503844499\n",
      "Epoch: 18, Batch: 340, Avg. Loss: 0.04252500887960196\n"
     ]
    },
    {
     "name": "stderr",
     "output_type": "stream",
     "text": [
      "/home/workspace/data_load.py:39: FutureWarning: Method .as_matrix will be removed in a future version. Use .values instead.\n",
      "  key_pts = self.key_pts_frame.iloc[idx, 1:].as_matrix()\n",
      "/home/workspace/data_load.py:39: FutureWarning: Method .as_matrix will be removed in a future version. Use .values instead.\n",
      "  key_pts = self.key_pts_frame.iloc[idx, 1:].as_matrix()\n",
      "/home/workspace/data_load.py:39: FutureWarning: Method .as_matrix will be removed in a future version. Use .values instead.\n",
      "  key_pts = self.key_pts_frame.iloc[idx, 1:].as_matrix()\n",
      "/home/workspace/data_load.py:39: FutureWarning: Method .as_matrix will be removed in a future version. Use .values instead.\n",
      "  key_pts = self.key_pts_frame.iloc[idx, 1:].as_matrix()\n"
     ]
    },
    {
     "name": "stdout",
     "output_type": "stream",
     "text": [
      "Epoch: 19, Batch: 10, Avg. Loss: 0.04288596492260695\n",
      "Epoch: 19, Batch: 20, Avg. Loss: 0.06141952276229858\n",
      "Epoch: 19, Batch: 30, Avg. Loss: 0.06607278902083635\n",
      "Epoch: 19, Batch: 40, Avg. Loss: 0.10045691765844822\n",
      "Epoch: 19, Batch: 50, Avg. Loss: 0.04401448033750057\n",
      "Epoch: 19, Batch: 60, Avg. Loss: 0.05920588802546263\n",
      "Epoch: 19, Batch: 70, Avg. Loss: 0.042917984165251256\n",
      "Epoch: 19, Batch: 80, Avg. Loss: 0.04216753151267767\n",
      "Epoch: 19, Batch: 90, Avg. Loss: 0.03686133474111557\n",
      "Epoch: 19, Batch: 100, Avg. Loss: 0.07084249146282673\n",
      "Epoch: 19, Batch: 110, Avg. Loss: 0.049137574061751364\n",
      "Epoch: 19, Batch: 120, Avg. Loss: 0.03663159478455782\n",
      "Epoch: 19, Batch: 130, Avg. Loss: 0.043857765197753903\n",
      "Epoch: 19, Batch: 140, Avg. Loss: 0.06249916795641184\n",
      "Epoch: 19, Batch: 150, Avg. Loss: 0.0425539992749691\n",
      "Epoch: 19, Batch: 160, Avg. Loss: 0.040094094537198546\n",
      "Epoch: 19, Batch: 170, Avg. Loss: 0.035449230670928956\n",
      "Epoch: 19, Batch: 180, Avg. Loss: 0.04250390343368053\n",
      "Epoch: 19, Batch: 190, Avg. Loss: 0.12201055549085141\n",
      "Epoch: 19, Batch: 200, Avg. Loss: 0.031979843974113464\n",
      "Epoch: 19, Batch: 210, Avg. Loss: 0.037893115915358065\n",
      "Epoch: 19, Batch: 220, Avg. Loss: 0.06702793035656214\n",
      "Epoch: 19, Batch: 230, Avg. Loss: 0.036178713850677016\n",
      "Epoch: 19, Batch: 240, Avg. Loss: 0.04918997585773468\n",
      "Epoch: 19, Batch: 250, Avg. Loss: 0.04628929896280169\n",
      "Epoch: 19, Batch: 260, Avg. Loss: 0.045150979049503805\n",
      "Epoch: 19, Batch: 270, Avg. Loss: 0.03692826647311449\n",
      "Epoch: 19, Batch: 280, Avg. Loss: 0.046942548267543314\n",
      "Epoch: 19, Batch: 290, Avg. Loss: 0.04383004121482372\n",
      "Epoch: 19, Batch: 300, Avg. Loss: 0.04423806369304657\n",
      "Epoch: 19, Batch: 310, Avg. Loss: 0.054718534275889394\n",
      "Epoch: 19, Batch: 320, Avg. Loss: 0.04253356344997883\n",
      "Epoch: 19, Batch: 330, Avg. Loss: 0.0680056493729353\n",
      "Epoch: 19, Batch: 340, Avg. Loss: 0.059780655428767204\n"
     ]
    },
    {
     "name": "stderr",
     "output_type": "stream",
     "text": [
      "/home/workspace/data_load.py:39: FutureWarning: Method .as_matrix will be removed in a future version. Use .values instead.\n",
      "  key_pts = self.key_pts_frame.iloc[idx, 1:].as_matrix()\n",
      "/home/workspace/data_load.py:39: FutureWarning: Method .as_matrix will be removed in a future version. Use .values instead.\n",
      "  key_pts = self.key_pts_frame.iloc[idx, 1:].as_matrix()\n",
      "/home/workspace/data_load.py:39: FutureWarning: Method .as_matrix will be removed in a future version. Use .values instead.\n",
      "  key_pts = self.key_pts_frame.iloc[idx, 1:].as_matrix()\n",
      "/home/workspace/data_load.py:39: FutureWarning: Method .as_matrix will be removed in a future version. Use .values instead.\n",
      "  key_pts = self.key_pts_frame.iloc[idx, 1:].as_matrix()\n"
     ]
    },
    {
     "name": "stdout",
     "output_type": "stream",
     "text": [
      "Epoch: 20, Batch: 10, Avg. Loss: 0.059337719529867175\n",
      "Epoch: 20, Batch: 20, Avg. Loss: 0.038419040851294994\n",
      "Epoch: 20, Batch: 30, Avg. Loss: 0.03834088966250419\n",
      "Epoch: 20, Batch: 40, Avg. Loss: 0.03275590166449547\n",
      "Epoch: 20, Batch: 50, Avg. Loss: 0.04841443728655577\n",
      "Epoch: 20, Batch: 60, Avg. Loss: 0.11828643884509801\n",
      "Epoch: 20, Batch: 70, Avg. Loss: 0.04701681472361088\n",
      "Epoch: 20, Batch: 80, Avg. Loss: 0.04437943063676357\n",
      "Epoch: 20, Batch: 90, Avg. Loss: 0.04099110011011362\n",
      "Epoch: 20, Batch: 100, Avg. Loss: 0.04419402293860912\n",
      "Epoch: 20, Batch: 110, Avg. Loss: 0.037122429348528385\n",
      "Epoch: 20, Batch: 120, Avg. Loss: 0.039004739746451376\n",
      "Epoch: 20, Batch: 130, Avg. Loss: 0.03489967696368694\n",
      "Epoch: 20, Batch: 140, Avg. Loss: 0.038440491445362567\n",
      "Epoch: 20, Batch: 150, Avg. Loss: 0.036293563432991505\n",
      "Epoch: 20, Batch: 160, Avg. Loss: 0.10628069154918193\n",
      "Epoch: 20, Batch: 170, Avg. Loss: 0.03989113569259643\n",
      "Epoch: 20, Batch: 180, Avg. Loss: 0.05315186940133572\n",
      "Epoch: 20, Batch: 190, Avg. Loss: 0.04114009030163288\n",
      "Epoch: 20, Batch: 200, Avg. Loss: 0.03660133983939886\n",
      "Epoch: 20, Batch: 210, Avg. Loss: 0.05438273474574089\n",
      "Epoch: 20, Batch: 220, Avg. Loss: 0.03947143834084273\n",
      "Epoch: 20, Batch: 230, Avg. Loss: 0.0730400800704956\n",
      "Epoch: 20, Batch: 240, Avg. Loss: 0.0388926025480032\n",
      "Epoch: 20, Batch: 250, Avg. Loss: 0.04014396779239178\n",
      "Epoch: 20, Batch: 260, Avg. Loss: 0.03368065655231476\n",
      "Epoch: 20, Batch: 270, Avg. Loss: 0.040922995656728745\n",
      "Epoch: 20, Batch: 280, Avg. Loss: 0.038125340826809406\n",
      "Epoch: 20, Batch: 290, Avg. Loss: 0.04604262132197619\n",
      "Epoch: 20, Batch: 300, Avg. Loss: 0.06619731672108173\n",
      "Epoch: 20, Batch: 310, Avg. Loss: 0.08990530464798212\n",
      "Epoch: 20, Batch: 320, Avg. Loss: 0.03821492623537779\n",
      "Epoch: 20, Batch: 330, Avg. Loss: 0.05003993846476078\n",
      "Epoch: 20, Batch: 340, Avg. Loss: 0.0398386187851429\n"
     ]
    },
    {
     "name": "stderr",
     "output_type": "stream",
     "text": [
      "/home/workspace/data_load.py:39: FutureWarning: Method .as_matrix will be removed in a future version. Use .values instead.\n",
      "  key_pts = self.key_pts_frame.iloc[idx, 1:].as_matrix()\n",
      "/home/workspace/data_load.py:39: FutureWarning: Method .as_matrix will be removed in a future version. Use .values instead.\n",
      "  key_pts = self.key_pts_frame.iloc[idx, 1:].as_matrix()\n",
      "/home/workspace/data_load.py:39: FutureWarning: Method .as_matrix will be removed in a future version. Use .values instead.\n",
      "  key_pts = self.key_pts_frame.iloc[idx, 1:].as_matrix()\n",
      "/home/workspace/data_load.py:39: FutureWarning: Method .as_matrix will be removed in a future version. Use .values instead.\n",
      "  key_pts = self.key_pts_frame.iloc[idx, 1:].as_matrix()\n"
     ]
    },
    {
     "name": "stdout",
     "output_type": "stream",
     "text": [
      "Epoch: 21, Batch: 10, Avg. Loss: 0.045022011175751685\n",
      "Epoch: 21, Batch: 20, Avg. Loss: 0.03989797178655863\n",
      "Epoch: 21, Batch: 30, Avg. Loss: 0.038993796519935134\n",
      "Epoch: 21, Batch: 40, Avg. Loss: 0.029561346489936115\n",
      "Epoch: 21, Batch: 50, Avg. Loss: 0.043739300966262815\n",
      "Epoch: 21, Batch: 60, Avg. Loss: 0.0381990497931838\n",
      "Epoch: 21, Batch: 70, Avg. Loss: 0.04331788588315248\n",
      "Epoch: 21, Batch: 80, Avg. Loss: 0.037824710458517076\n",
      "Epoch: 21, Batch: 90, Avg. Loss: 0.040314674377441406\n",
      "Epoch: 21, Batch: 100, Avg. Loss: 0.03987395018339157\n",
      "Epoch: 21, Batch: 110, Avg. Loss: 0.04090440962463617\n",
      "Epoch: 21, Batch: 120, Avg. Loss: 0.03704177774488926\n",
      "Epoch: 21, Batch: 130, Avg. Loss: 0.05440796595066786\n",
      "Epoch: 21, Batch: 140, Avg. Loss: 0.04204810056835413\n",
      "Epoch: 21, Batch: 150, Avg. Loss: 0.03794319611042738\n",
      "Epoch: 21, Batch: 160, Avg. Loss: 0.04004529155790806\n",
      "Epoch: 21, Batch: 170, Avg. Loss: 0.041872662305831906\n",
      "Epoch: 21, Batch: 180, Avg. Loss: 0.028940089605748655\n",
      "Epoch: 21, Batch: 190, Avg. Loss: 0.036502016335725786\n",
      "Epoch: 21, Batch: 200, Avg. Loss: 0.07207056991755963\n",
      "Epoch: 21, Batch: 210, Avg. Loss: 0.08811685610562563\n",
      "Epoch: 21, Batch: 220, Avg. Loss: 0.042698821239173415\n",
      "Epoch: 21, Batch: 230, Avg. Loss: 0.08855739198625087\n",
      "Epoch: 21, Batch: 240, Avg. Loss: 0.040852090902626516\n",
      "Epoch: 21, Batch: 250, Avg. Loss: 0.0351113673299551\n",
      "Epoch: 21, Batch: 260, Avg. Loss: 0.05197372026741505\n",
      "Epoch: 21, Batch: 270, Avg. Loss: 0.03512702491134405\n",
      "Epoch: 21, Batch: 280, Avg. Loss: 0.03830854054540396\n",
      "Epoch: 21, Batch: 290, Avg. Loss: 0.04779024571180344\n",
      "Epoch: 21, Batch: 300, Avg. Loss: 0.040655503422021864\n",
      "Epoch: 21, Batch: 310, Avg. Loss: 0.04545839875936508\n",
      "Epoch: 21, Batch: 320, Avg. Loss: 0.030663517490029334\n",
      "Epoch: 21, Batch: 330, Avg. Loss: 0.04294146727770567\n",
      "Epoch: 21, Batch: 340, Avg. Loss: 0.03884581029415131\n"
     ]
    },
    {
     "name": "stderr",
     "output_type": "stream",
     "text": [
      "/home/workspace/data_load.py:39: FutureWarning: Method .as_matrix will be removed in a future version. Use .values instead.\n",
      "  key_pts = self.key_pts_frame.iloc[idx, 1:].as_matrix()\n",
      "/home/workspace/data_load.py:39: FutureWarning: Method .as_matrix will be removed in a future version. Use .values instead.\n",
      "  key_pts = self.key_pts_frame.iloc[idx, 1:].as_matrix()\n",
      "/home/workspace/data_load.py:39: FutureWarning: Method .as_matrix will be removed in a future version. Use .values instead.\n",
      "  key_pts = self.key_pts_frame.iloc[idx, 1:].as_matrix()\n",
      "/home/workspace/data_load.py:39: FutureWarning: Method .as_matrix will be removed in a future version. Use .values instead.\n",
      "  key_pts = self.key_pts_frame.iloc[idx, 1:].as_matrix()\n"
     ]
    },
    {
     "name": "stdout",
     "output_type": "stream",
     "text": [
      "Epoch: 22, Batch: 10, Avg. Loss: 0.04118860624730587\n",
      "Epoch: 22, Batch: 20, Avg. Loss: 0.055888200365006926\n",
      "Epoch: 22, Batch: 30, Avg. Loss: 0.12647370621562004\n",
      "Epoch: 22, Batch: 40, Avg. Loss: 0.0673819825053215\n",
      "Epoch: 22, Batch: 50, Avg. Loss: 0.03380876146256924\n",
      "Epoch: 22, Batch: 60, Avg. Loss: 0.034086274169385436\n",
      "Epoch: 22, Batch: 70, Avg. Loss: 0.06245949435979128\n",
      "Epoch: 22, Batch: 80, Avg. Loss: 0.036610782705247404\n",
      "Epoch: 22, Batch: 90, Avg. Loss: 0.038744674250483516\n",
      "Epoch: 22, Batch: 100, Avg. Loss: 0.04014746081084013\n",
      "Epoch: 22, Batch: 110, Avg. Loss: 0.04143572244793177\n",
      "Epoch: 22, Batch: 120, Avg. Loss: 0.04044002294540405\n",
      "Epoch: 22, Batch: 130, Avg. Loss: 0.03237919397652149\n",
      "Epoch: 22, Batch: 140, Avg. Loss: 0.03622809443622828\n",
      "Epoch: 22, Batch: 150, Avg. Loss: 0.03981877006590366\n",
      "Epoch: 22, Batch: 160, Avg. Loss: 0.04159084763377905\n",
      "Epoch: 22, Batch: 170, Avg. Loss: 0.03917069640010595\n",
      "Epoch: 22, Batch: 180, Avg. Loss: 0.04525190740823746\n",
      "Epoch: 22, Batch: 190, Avg. Loss: 0.05135939884930849\n",
      "Epoch: 22, Batch: 200, Avg. Loss: 0.03764355070888996\n",
      "Epoch: 22, Batch: 210, Avg. Loss: 0.1391854088753462\n",
      "Epoch: 22, Batch: 220, Avg. Loss: 0.03483390416949987\n",
      "Epoch: 22, Batch: 230, Avg. Loss: 0.035682125203311446\n",
      "Epoch: 22, Batch: 240, Avg. Loss: 0.02928768265992403\n",
      "Epoch: 22, Batch: 250, Avg. Loss: 0.03087916858494282\n",
      "Epoch: 22, Batch: 260, Avg. Loss: 0.03109508603811264\n",
      "Epoch: 22, Batch: 270, Avg. Loss: 0.0437135074287653\n",
      "Epoch: 22, Batch: 280, Avg. Loss: 0.03356299996376037\n",
      "Epoch: 22, Batch: 290, Avg. Loss: 0.03765587080270052\n",
      "Epoch: 22, Batch: 300, Avg. Loss: 0.11898749843239784\n",
      "Epoch: 22, Batch: 310, Avg. Loss: 0.052591575495898726\n",
      "Epoch: 22, Batch: 320, Avg. Loss: 0.05169939994812012\n",
      "Epoch: 22, Batch: 330, Avg. Loss: 0.061773771047592164\n",
      "Epoch: 22, Batch: 340, Avg. Loss: 0.04452062156051397\n"
     ]
    },
    {
     "name": "stderr",
     "output_type": "stream",
     "text": [
      "/home/workspace/data_load.py:39: FutureWarning: Method .as_matrix will be removed in a future version. Use .values instead.\n",
      "  key_pts = self.key_pts_frame.iloc[idx, 1:].as_matrix()\n",
      "/home/workspace/data_load.py:39: FutureWarning: Method .as_matrix will be removed in a future version. Use .values instead.\n",
      "  key_pts = self.key_pts_frame.iloc[idx, 1:].as_matrix()\n",
      "/home/workspace/data_load.py:39: FutureWarning: Method .as_matrix will be removed in a future version. Use .values instead.\n",
      "  key_pts = self.key_pts_frame.iloc[idx, 1:].as_matrix()\n",
      "/home/workspace/data_load.py:39: FutureWarning: Method .as_matrix will be removed in a future version. Use .values instead.\n",
      "  key_pts = self.key_pts_frame.iloc[idx, 1:].as_matrix()\n"
     ]
    },
    {
     "name": "stdout",
     "output_type": "stream",
     "text": [
      "Epoch: 23, Batch: 10, Avg. Loss: 0.039309521205723286\n",
      "Epoch: 23, Batch: 20, Avg. Loss: 0.029480373300611974\n",
      "Epoch: 23, Batch: 30, Avg. Loss: 0.14137178789824248\n",
      "Epoch: 23, Batch: 40, Avg. Loss: 0.045468597672879696\n",
      "Epoch: 23, Batch: 50, Avg. Loss: 0.03256770372390747\n",
      "Epoch: 23, Batch: 60, Avg. Loss: 0.05159710217267275\n",
      "Epoch: 23, Batch: 70, Avg. Loss: 0.04363163597881794\n",
      "Epoch: 23, Batch: 80, Avg. Loss: 0.03697249703109264\n",
      "Epoch: 23, Batch: 90, Avg. Loss: 0.0458928307518363\n",
      "Epoch: 23, Batch: 100, Avg. Loss: 0.09936832785606384\n",
      "Epoch: 23, Batch: 110, Avg. Loss: 0.03673379812389612\n",
      "Epoch: 23, Batch: 120, Avg. Loss: 0.037582645379006865\n",
      "Epoch: 23, Batch: 130, Avg. Loss: 0.048091812431812285\n",
      "Epoch: 23, Batch: 140, Avg. Loss: 0.04512845687568188\n",
      "Epoch: 23, Batch: 150, Avg. Loss: 0.040187538042664527\n",
      "Epoch: 23, Batch: 160, Avg. Loss: 0.03417464978992939\n",
      "Epoch: 23, Batch: 170, Avg. Loss: 0.03620876055210829\n",
      "Epoch: 23, Batch: 180, Avg. Loss: 0.04679158888757229\n",
      "Epoch: 23, Batch: 190, Avg. Loss: 0.06436487538740039\n",
      "Epoch: 23, Batch: 200, Avg. Loss: 0.041547417640686035\n",
      "Epoch: 23, Batch: 210, Avg. Loss: 0.03278765939176083\n",
      "Epoch: 23, Batch: 220, Avg. Loss: 0.0305448142811656\n",
      "Epoch: 23, Batch: 230, Avg. Loss: 0.03940898478031159\n",
      "Epoch: 23, Batch: 240, Avg. Loss: 0.03673421796411276\n",
      "Epoch: 23, Batch: 250, Avg. Loss: 0.034081442095339295\n",
      "Epoch: 23, Batch: 260, Avg. Loss: 0.042787006311118606\n",
      "Epoch: 23, Batch: 270, Avg. Loss: 0.03561157491058111\n",
      "Epoch: 23, Batch: 280, Avg. Loss: 0.10894736144691705\n",
      "Epoch: 23, Batch: 290, Avg. Loss: 0.044578740000724794\n",
      "Epoch: 23, Batch: 300, Avg. Loss: 0.04394612051546574\n",
      "Epoch: 23, Batch: 310, Avg. Loss: 0.03413700927048922\n",
      "Epoch: 23, Batch: 320, Avg. Loss: 0.03197633698582649\n",
      "Epoch: 23, Batch: 330, Avg. Loss: 0.03356034159660339\n",
      "Epoch: 23, Batch: 340, Avg. Loss: 0.035612736269831656\n"
     ]
    },
    {
     "name": "stderr",
     "output_type": "stream",
     "text": [
      "/home/workspace/data_load.py:39: FutureWarning: Method .as_matrix will be removed in a future version. Use .values instead.\n",
      "  key_pts = self.key_pts_frame.iloc[idx, 1:].as_matrix()\n",
      "/home/workspace/data_load.py:39: FutureWarning: Method .as_matrix will be removed in a future version. Use .values instead.\n",
      "  key_pts = self.key_pts_frame.iloc[idx, 1:].as_matrix()\n",
      "/home/workspace/data_load.py:39: FutureWarning: Method .as_matrix will be removed in a future version. Use .values instead.\n",
      "  key_pts = self.key_pts_frame.iloc[idx, 1:].as_matrix()\n",
      "/home/workspace/data_load.py:39: FutureWarning: Method .as_matrix will be removed in a future version. Use .values instead.\n",
      "  key_pts = self.key_pts_frame.iloc[idx, 1:].as_matrix()\n"
     ]
    },
    {
     "name": "stdout",
     "output_type": "stream",
     "text": [
      "Epoch: 24, Batch: 10, Avg. Loss: 0.03535624910145998\n",
      "Epoch: 24, Batch: 20, Avg. Loss: 0.11612450778484344\n",
      "Epoch: 24, Batch: 30, Avg. Loss: 0.0297468651086092\n",
      "Epoch: 24, Batch: 40, Avg. Loss: 0.03629767373204231\n",
      "Epoch: 24, Batch: 50, Avg. Loss: 0.040722364000976084\n",
      "Epoch: 24, Batch: 60, Avg. Loss: 0.044816930405795576\n",
      "Epoch: 24, Batch: 70, Avg. Loss: 0.02931792736053467\n",
      "Epoch: 24, Batch: 80, Avg. Loss: 0.037171841412782666\n",
      "Epoch: 24, Batch: 90, Avg. Loss: 0.04437427781522274\n",
      "Epoch: 24, Batch: 100, Avg. Loss: 0.04177265111356974\n",
      "Epoch: 24, Batch: 110, Avg. Loss: 0.0364855881780386\n",
      "Epoch: 24, Batch: 120, Avg. Loss: 0.0324281076900661\n",
      "Epoch: 24, Batch: 130, Avg. Loss: 0.02783245239406824\n",
      "Epoch: 24, Batch: 140, Avg. Loss: 0.036580777168273924\n",
      "Epoch: 24, Batch: 150, Avg. Loss: 0.0308011656627059\n",
      "Epoch: 24, Batch: 160, Avg. Loss: 0.03646371029317379\n",
      "Epoch: 24, Batch: 170, Avg. Loss: 0.1288312004879117\n",
      "Epoch: 24, Batch: 180, Avg. Loss: 0.04353347457945347\n",
      "Epoch: 24, Batch: 190, Avg. Loss: 0.05726749803870916\n",
      "Epoch: 24, Batch: 200, Avg. Loss: 0.048562482185661796\n",
      "Epoch: 24, Batch: 210, Avg. Loss: 0.03731671664863825\n",
      "Epoch: 24, Batch: 220, Avg. Loss: 0.03623132314532995\n",
      "Epoch: 24, Batch: 230, Avg. Loss: 0.03129134736955166\n",
      "Epoch: 24, Batch: 240, Avg. Loss: 0.03399614132940769\n",
      "Epoch: 24, Batch: 250, Avg. Loss: 0.07120964489877224\n",
      "Epoch: 24, Batch: 260, Avg. Loss: 0.03438361585140228\n",
      "Epoch: 24, Batch: 270, Avg. Loss: 0.05957226008176804\n",
      "Epoch: 24, Batch: 280, Avg. Loss: 0.034289170429110526\n",
      "Epoch: 24, Batch: 290, Avg. Loss: 0.03622310580685735\n",
      "Epoch: 24, Batch: 300, Avg. Loss: 0.037487590685486794\n",
      "Epoch: 24, Batch: 310, Avg. Loss: 0.03391850870102644\n",
      "Epoch: 24, Batch: 320, Avg. Loss: 0.04022157955914736\n",
      "Epoch: 24, Batch: 330, Avg. Loss: 0.040055196918547156\n",
      "Epoch: 24, Batch: 340, Avg. Loss: 0.033784135803580286\n"
     ]
    },
    {
     "name": "stderr",
     "output_type": "stream",
     "text": [
      "/home/workspace/data_load.py:39: FutureWarning: Method .as_matrix will be removed in a future version. Use .values instead.\n",
      "  key_pts = self.key_pts_frame.iloc[idx, 1:].as_matrix()\n",
      "/home/workspace/data_load.py:39: FutureWarning: Method .as_matrix will be removed in a future version. Use .values instead.\n",
      "  key_pts = self.key_pts_frame.iloc[idx, 1:].as_matrix()\n",
      "/home/workspace/data_load.py:39: FutureWarning: Method .as_matrix will be removed in a future version. Use .values instead.\n",
      "  key_pts = self.key_pts_frame.iloc[idx, 1:].as_matrix()\n",
      "/home/workspace/data_load.py:39: FutureWarning: Method .as_matrix will be removed in a future version. Use .values instead.\n",
      "  key_pts = self.key_pts_frame.iloc[idx, 1:].as_matrix()\n"
     ]
    },
    {
     "name": "stdout",
     "output_type": "stream",
     "text": [
      "Epoch: 25, Batch: 10, Avg. Loss: 0.033254822716116905\n",
      "Epoch: 25, Batch: 20, Avg. Loss: 0.05004758313298226\n",
      "Epoch: 25, Batch: 30, Avg. Loss: 0.03376068640500307\n",
      "Epoch: 25, Batch: 40, Avg. Loss: 0.06144501231610775\n",
      "Epoch: 25, Batch: 50, Avg. Loss: 0.04617037698626518\n",
      "Epoch: 25, Batch: 60, Avg. Loss: 0.03728313911706209\n",
      "Epoch: 25, Batch: 70, Avg. Loss: 0.03222465645521879\n",
      "Epoch: 25, Batch: 80, Avg. Loss: 0.029268277622759343\n",
      "Epoch: 25, Batch: 90, Avg. Loss: 0.048070333898067474\n",
      "Epoch: 25, Batch: 100, Avg. Loss: 0.0586968069896102\n",
      "Epoch: 25, Batch: 110, Avg. Loss: 0.028965247422456743\n",
      "Epoch: 25, Batch: 120, Avg. Loss: 0.0442903321236372\n",
      "Epoch: 25, Batch: 130, Avg. Loss: 0.04585903696715832\n",
      "Epoch: 25, Batch: 140, Avg. Loss: 0.029377663880586623\n",
      "Epoch: 25, Batch: 150, Avg. Loss: 0.04179932363331318\n",
      "Epoch: 25, Batch: 160, Avg. Loss: 0.07177048400044442\n",
      "Epoch: 25, Batch: 170, Avg. Loss: 0.040333691984415054\n",
      "Epoch: 25, Batch: 180, Avg. Loss: 0.04053017720580101\n",
      "Epoch: 25, Batch: 190, Avg. Loss: 0.038141513243317604\n",
      "Epoch: 25, Batch: 200, Avg. Loss: 0.034773686155676845\n",
      "Epoch: 25, Batch: 210, Avg. Loss: 0.06761364098638296\n",
      "Epoch: 25, Batch: 220, Avg. Loss: 0.037408935464918615\n",
      "Epoch: 25, Batch: 230, Avg. Loss: 0.0514511389657855\n",
      "Epoch: 25, Batch: 240, Avg. Loss: 0.04396692719310522\n",
      "Epoch: 25, Batch: 250, Avg. Loss: 0.03727718032896519\n",
      "Epoch: 25, Batch: 260, Avg. Loss: 0.037690467573702334\n",
      "Epoch: 25, Batch: 270, Avg. Loss: 0.04003807827830315\n",
      "Epoch: 25, Batch: 280, Avg. Loss: 0.036153873056173326\n",
      "Epoch: 25, Batch: 290, Avg. Loss: 0.050639665499329564\n",
      "Epoch: 25, Batch: 300, Avg. Loss: 0.02757322397083044\n",
      "Epoch: 25, Batch: 310, Avg. Loss: 0.03009772449731827\n",
      "Epoch: 25, Batch: 320, Avg. Loss: 0.03576379809528589\n",
      "Epoch: 25, Batch: 330, Avg. Loss: 0.04108305089175701\n",
      "Epoch: 25, Batch: 340, Avg. Loss: 0.0994021606631577\n"
     ]
    },
    {
     "name": "stderr",
     "output_type": "stream",
     "text": [
      "/home/workspace/data_load.py:39: FutureWarning: Method .as_matrix will be removed in a future version. Use .values instead.\n",
      "  key_pts = self.key_pts_frame.iloc[idx, 1:].as_matrix()\n",
      "/home/workspace/data_load.py:39: FutureWarning: Method .as_matrix will be removed in a future version. Use .values instead.\n",
      "  key_pts = self.key_pts_frame.iloc[idx, 1:].as_matrix()\n",
      "/home/workspace/data_load.py:39: FutureWarning: Method .as_matrix will be removed in a future version. Use .values instead.\n",
      "  key_pts = self.key_pts_frame.iloc[idx, 1:].as_matrix()\n",
      "/home/workspace/data_load.py:39: FutureWarning: Method .as_matrix will be removed in a future version. Use .values instead.\n",
      "  key_pts = self.key_pts_frame.iloc[idx, 1:].as_matrix()\n"
     ]
    },
    {
     "name": "stdout",
     "output_type": "stream",
     "text": [
      "Epoch: 26, Batch: 10, Avg. Loss: 0.033817948587238786\n",
      "Epoch: 26, Batch: 20, Avg. Loss: 0.04966166596859693\n",
      "Epoch: 26, Batch: 30, Avg. Loss: 0.03170927595347166\n",
      "Epoch: 26, Batch: 40, Avg. Loss: 0.05245988313108683\n",
      "Epoch: 26, Batch: 50, Avg. Loss: 0.051654829643666744\n",
      "Epoch: 26, Batch: 60, Avg. Loss: 0.03658253010362387\n",
      "Epoch: 26, Batch: 70, Avg. Loss: 0.040041371062397954\n",
      "Epoch: 26, Batch: 80, Avg. Loss: 0.03067627176642418\n",
      "Epoch: 26, Batch: 90, Avg. Loss: 0.03379591256380081\n",
      "Epoch: 26, Batch: 100, Avg. Loss: 0.049060148559510706\n",
      "Epoch: 26, Batch: 110, Avg. Loss: 0.03312631938606501\n",
      "Epoch: 26, Batch: 120, Avg. Loss: 0.032209496945142746\n",
      "Epoch: 26, Batch: 130, Avg. Loss: 0.0416997728869319\n",
      "Epoch: 26, Batch: 140, Avg. Loss: 0.02509644739329815\n",
      "Epoch: 26, Batch: 150, Avg. Loss: 0.03237775787711143\n",
      "Epoch: 26, Batch: 160, Avg. Loss: 0.03157610930502415\n",
      "Epoch: 26, Batch: 170, Avg. Loss: 0.03897007033228874\n",
      "Epoch: 26, Batch: 180, Avg. Loss: 0.03763501215726137\n",
      "Epoch: 26, Batch: 190, Avg. Loss: 0.03452462945133448\n",
      "Epoch: 26, Batch: 200, Avg. Loss: 0.028037479147315025\n",
      "Epoch: 26, Batch: 210, Avg. Loss: 0.047134931571781634\n",
      "Epoch: 26, Batch: 220, Avg. Loss: 0.029302814975380898\n",
      "Epoch: 26, Batch: 230, Avg. Loss: 0.09551560916006566\n",
      "Epoch: 26, Batch: 240, Avg. Loss: 0.025755294412374497\n",
      "Epoch: 26, Batch: 250, Avg. Loss: 0.028466492146253585\n",
      "Epoch: 26, Batch: 260, Avg. Loss: 0.033193682320415974\n",
      "Epoch: 26, Batch: 270, Avg. Loss: 0.02977784425020218\n",
      "Epoch: 26, Batch: 280, Avg. Loss: 0.03846739195287228\n",
      "Epoch: 26, Batch: 290, Avg. Loss: 0.10231288187205792\n",
      "Epoch: 26, Batch: 300, Avg. Loss: 0.03331760950386524\n",
      "Epoch: 26, Batch: 310, Avg. Loss: 0.038636098988354205\n",
      "Epoch: 26, Batch: 320, Avg. Loss: 0.09760483615100383\n",
      "Epoch: 26, Batch: 330, Avg. Loss: 0.03934114519506693\n",
      "Epoch: 26, Batch: 340, Avg. Loss: 0.031919661723077294\n"
     ]
    },
    {
     "name": "stderr",
     "output_type": "stream",
     "text": [
      "/home/workspace/data_load.py:39: FutureWarning: Method .as_matrix will be removed in a future version. Use .values instead.\n",
      "  key_pts = self.key_pts_frame.iloc[idx, 1:].as_matrix()\n",
      "/home/workspace/data_load.py:39: FutureWarning: Method .as_matrix will be removed in a future version. Use .values instead.\n",
      "  key_pts = self.key_pts_frame.iloc[idx, 1:].as_matrix()\n",
      "/home/workspace/data_load.py:39: FutureWarning: Method .as_matrix will be removed in a future version. Use .values instead.\n",
      "  key_pts = self.key_pts_frame.iloc[idx, 1:].as_matrix()\n",
      "/home/workspace/data_load.py:39: FutureWarning: Method .as_matrix will be removed in a future version. Use .values instead.\n",
      "  key_pts = self.key_pts_frame.iloc[idx, 1:].as_matrix()\n"
     ]
    },
    {
     "name": "stdout",
     "output_type": "stream",
     "text": [
      "Epoch: 27, Batch: 10, Avg. Loss: 0.038398572243750095\n",
      "Epoch: 27, Batch: 20, Avg. Loss: 0.03487319964915514\n",
      "Epoch: 27, Batch: 30, Avg. Loss: 0.035629710927605626\n",
      "Epoch: 27, Batch: 40, Avg. Loss: 0.0314019326120615\n",
      "Epoch: 27, Batch: 50, Avg. Loss: 0.03203933872282505\n",
      "Epoch: 27, Batch: 60, Avg. Loss: 0.04183500194922089\n",
      "Epoch: 27, Batch: 70, Avg. Loss: 0.02930088136345148\n",
      "Epoch: 27, Batch: 80, Avg. Loss: 0.037491325289011\n",
      "Epoch: 27, Batch: 90, Avg. Loss: 0.0871898341923952\n",
      "Epoch: 27, Batch: 100, Avg. Loss: 0.03599192257970572\n",
      "Epoch: 27, Batch: 110, Avg. Loss: 0.03404803890734911\n",
      "Epoch: 27, Batch: 120, Avg. Loss: 0.106655103713274\n",
      "Epoch: 27, Batch: 130, Avg. Loss: 0.0350298885256052\n",
      "Epoch: 27, Batch: 140, Avg. Loss: 0.032100412622094156\n",
      "Epoch: 27, Batch: 150, Avg. Loss: 0.05017453469336033\n",
      "Epoch: 27, Batch: 160, Avg. Loss: 0.034400076419115064\n",
      "Epoch: 27, Batch: 170, Avg. Loss: 0.03293256442993879\n",
      "Epoch: 27, Batch: 180, Avg. Loss: 0.04070000238716602\n",
      "Epoch: 27, Batch: 190, Avg. Loss: 0.04389048516750336\n",
      "Epoch: 27, Batch: 200, Avg. Loss: 0.03773414511233568\n",
      "Epoch: 27, Batch: 210, Avg. Loss: 0.06683493852615356\n",
      "Epoch: 27, Batch: 220, Avg. Loss: 0.05114446524530649\n",
      "Epoch: 27, Batch: 230, Avg. Loss: 0.03462982643395662\n",
      "Epoch: 27, Batch: 240, Avg. Loss: 0.04297031741589308\n",
      "Epoch: 27, Batch: 250, Avg. Loss: 0.02933296337723732\n",
      "Epoch: 27, Batch: 260, Avg. Loss: 0.05032334271818399\n",
      "Epoch: 27, Batch: 270, Avg. Loss: 0.028406067844480277\n",
      "Epoch: 27, Batch: 280, Avg. Loss: 0.03353776652365923\n",
      "Epoch: 27, Batch: 290, Avg. Loss: 0.029624294117093088\n",
      "Epoch: 27, Batch: 300, Avg. Loss: 0.06875953935086727\n",
      "Epoch: 27, Batch: 310, Avg. Loss: 0.033275358378887177\n",
      "Epoch: 27, Batch: 320, Avg. Loss: 0.036083709448575974\n",
      "Epoch: 27, Batch: 330, Avg. Loss: 0.0278949074447155\n",
      "Epoch: 27, Batch: 340, Avg. Loss: 0.04347866158932447\n"
     ]
    },
    {
     "name": "stderr",
     "output_type": "stream",
     "text": [
      "/home/workspace/data_load.py:39: FutureWarning: Method .as_matrix will be removed in a future version. Use .values instead.\n",
      "  key_pts = self.key_pts_frame.iloc[idx, 1:].as_matrix()\n",
      "/home/workspace/data_load.py:39: FutureWarning: Method .as_matrix will be removed in a future version. Use .values instead.\n",
      "  key_pts = self.key_pts_frame.iloc[idx, 1:].as_matrix()\n",
      "/home/workspace/data_load.py:39: FutureWarning: Method .as_matrix will be removed in a future version. Use .values instead.\n",
      "  key_pts = self.key_pts_frame.iloc[idx, 1:].as_matrix()\n",
      "/home/workspace/data_load.py:39: FutureWarning: Method .as_matrix will be removed in a future version. Use .values instead.\n",
      "  key_pts = self.key_pts_frame.iloc[idx, 1:].as_matrix()\n"
     ]
    },
    {
     "name": "stdout",
     "output_type": "stream",
     "text": [
      "Epoch: 28, Batch: 10, Avg. Loss: 0.03281789310276508\n",
      "Epoch: 28, Batch: 20, Avg. Loss: 0.027434452436864376\n",
      "Epoch: 28, Batch: 30, Avg. Loss: 0.03468874040991068\n",
      "Epoch: 28, Batch: 40, Avg. Loss: 0.031393689848482606\n",
      "Epoch: 28, Batch: 50, Avg. Loss: 0.04515433143824339\n",
      "Epoch: 28, Batch: 60, Avg. Loss: 0.0318340303376317\n",
      "Epoch: 28, Batch: 70, Avg. Loss: 0.03393576666712761\n",
      "Epoch: 28, Batch: 80, Avg. Loss: 0.03663135357201099\n",
      "Epoch: 28, Batch: 90, Avg. Loss: 0.03340323567390442\n",
      "Epoch: 28, Batch: 100, Avg. Loss: 0.028765764832496644\n",
      "Epoch: 28, Batch: 110, Avg. Loss: 0.02599092461168766\n",
      "Epoch: 28, Batch: 120, Avg. Loss: 0.02705428600311279\n",
      "Epoch: 28, Batch: 130, Avg. Loss: 0.028597874380648137\n",
      "Epoch: 28, Batch: 140, Avg. Loss: 0.028330093435943126\n",
      "Epoch: 28, Batch: 150, Avg. Loss: 0.03755407929420471\n",
      "Epoch: 28, Batch: 160, Avg. Loss: 0.1715593857690692\n",
      "Epoch: 28, Batch: 170, Avg. Loss: 0.032428400963544844\n",
      "Epoch: 28, Batch: 180, Avg. Loss: 0.04645452499389648\n",
      "Epoch: 28, Batch: 190, Avg. Loss: 0.03723241873085499\n",
      "Epoch: 28, Batch: 200, Avg. Loss: 0.09366981480270624\n",
      "Epoch: 28, Batch: 210, Avg. Loss: 0.031641354970633986\n",
      "Epoch: 28, Batch: 220, Avg. Loss: 0.03154245596379042\n",
      "Epoch: 28, Batch: 230, Avg. Loss: 0.031486518867313865\n",
      "Epoch: 28, Batch: 240, Avg. Loss: 0.0319201709702611\n",
      "Epoch: 28, Batch: 250, Avg. Loss: 0.029850849695503712\n",
      "Epoch: 28, Batch: 260, Avg. Loss: 0.039638003520667556\n",
      "Epoch: 28, Batch: 270, Avg. Loss: 0.04136668387800455\n",
      "Epoch: 28, Batch: 280, Avg. Loss: 0.03207503836601973\n",
      "Epoch: 28, Batch: 290, Avg. Loss: 0.0777213878929615\n",
      "Epoch: 28, Batch: 300, Avg. Loss: 0.09439627900719642\n",
      "Epoch: 28, Batch: 310, Avg. Loss: 0.037369643710553645\n",
      "Epoch: 28, Batch: 320, Avg. Loss: 0.0468122536316514\n",
      "Epoch: 28, Batch: 330, Avg. Loss: 0.043516451865434645\n",
      "Epoch: 28, Batch: 340, Avg. Loss: 0.0389458566904068\n"
     ]
    },
    {
     "name": "stderr",
     "output_type": "stream",
     "text": [
      "/home/workspace/data_load.py:39: FutureWarning: Method .as_matrix will be removed in a future version. Use .values instead.\n",
      "  key_pts = self.key_pts_frame.iloc[idx, 1:].as_matrix()\n",
      "/home/workspace/data_load.py:39: FutureWarning: Method .as_matrix will be removed in a future version. Use .values instead.\n",
      "  key_pts = self.key_pts_frame.iloc[idx, 1:].as_matrix()\n",
      "/home/workspace/data_load.py:39: FutureWarning: Method .as_matrix will be removed in a future version. Use .values instead.\n",
      "  key_pts = self.key_pts_frame.iloc[idx, 1:].as_matrix()\n",
      "/home/workspace/data_load.py:39: FutureWarning: Method .as_matrix will be removed in a future version. Use .values instead.\n",
      "  key_pts = self.key_pts_frame.iloc[idx, 1:].as_matrix()\n"
     ]
    },
    {
     "name": "stdout",
     "output_type": "stream",
     "text": [
      "Epoch: 29, Batch: 10, Avg. Loss: 0.032412045449018476\n",
      "Epoch: 29, Batch: 20, Avg. Loss: 0.033352256380021574\n",
      "Epoch: 29, Batch: 30, Avg. Loss: 0.04538262076675892\n",
      "Epoch: 29, Batch: 40, Avg. Loss: 0.03589843548834324\n",
      "Epoch: 29, Batch: 50, Avg. Loss: 0.031571083888411525\n",
      "Epoch: 29, Batch: 60, Avg. Loss: 0.02780792284756899\n",
      "Epoch: 29, Batch: 70, Avg. Loss: 0.06230880096554756\n",
      "Epoch: 29, Batch: 80, Avg. Loss: 0.02636394612491131\n",
      "Epoch: 29, Batch: 90, Avg. Loss: 0.03229231033474207\n",
      "Epoch: 29, Batch: 100, Avg. Loss: 0.07653014604002237\n",
      "Epoch: 29, Batch: 110, Avg. Loss: 0.02942309845238924\n",
      "Epoch: 29, Batch: 120, Avg. Loss: 0.02477209558710456\n",
      "Epoch: 29, Batch: 130, Avg. Loss: 0.031427927874028684\n",
      "Epoch: 29, Batch: 140, Avg. Loss: 0.03200452830642462\n",
      "Epoch: 29, Batch: 150, Avg. Loss: 0.02985503859817982\n",
      "Epoch: 29, Batch: 160, Avg. Loss: 0.04523050338029862\n",
      "Epoch: 29, Batch: 170, Avg. Loss: 0.03645755741745234\n",
      "Epoch: 29, Batch: 180, Avg. Loss: 0.030049268528819083\n",
      "Epoch: 29, Batch: 190, Avg. Loss: 0.03483539838343859\n",
      "Epoch: 29, Batch: 200, Avg. Loss: 0.05924392472952604\n",
      "Epoch: 29, Batch: 210, Avg. Loss: 0.03840591385960579\n",
      "Epoch: 29, Batch: 220, Avg. Loss: 0.028846688196063043\n",
      "Epoch: 29, Batch: 230, Avg. Loss: 0.040827499143779276\n",
      "Epoch: 29, Batch: 240, Avg. Loss: 0.03579616118222475\n",
      "Epoch: 29, Batch: 250, Avg. Loss: 0.08626630455255509\n",
      "Epoch: 29, Batch: 260, Avg. Loss: 0.03345936462283135\n",
      "Epoch: 29, Batch: 270, Avg. Loss: 0.04238406233489513\n",
      "Epoch: 29, Batch: 280, Avg. Loss: 0.02912263050675392\n",
      "Epoch: 29, Batch: 290, Avg. Loss: 0.027754163555800914\n",
      "Epoch: 29, Batch: 300, Avg. Loss: 0.0777656152844429\n",
      "Epoch: 29, Batch: 310, Avg. Loss: 0.03550892490893602\n",
      "Epoch: 29, Batch: 320, Avg. Loss: 0.03964978661388159\n",
      "Epoch: 29, Batch: 330, Avg. Loss: 0.035361668653786184\n",
      "Epoch: 29, Batch: 340, Avg. Loss: 0.031016345694661142\n"
     ]
    },
    {
     "name": "stderr",
     "output_type": "stream",
     "text": [
      "/home/workspace/data_load.py:39: FutureWarning: Method .as_matrix will be removed in a future version. Use .values instead.\n",
      "  key_pts = self.key_pts_frame.iloc[idx, 1:].as_matrix()\n",
      "/home/workspace/data_load.py:39: FutureWarning: Method .as_matrix will be removed in a future version. Use .values instead.\n",
      "  key_pts = self.key_pts_frame.iloc[idx, 1:].as_matrix()\n",
      "/home/workspace/data_load.py:39: FutureWarning: Method .as_matrix will be removed in a future version. Use .values instead.\n",
      "  key_pts = self.key_pts_frame.iloc[idx, 1:].as_matrix()\n",
      "/home/workspace/data_load.py:39: FutureWarning: Method .as_matrix will be removed in a future version. Use .values instead.\n",
      "  key_pts = self.key_pts_frame.iloc[idx, 1:].as_matrix()\n"
     ]
    },
    {
     "name": "stdout",
     "output_type": "stream",
     "text": [
      "Epoch: 30, Batch: 10, Avg. Loss: 0.02580917179584503\n",
      "Epoch: 30, Batch: 20, Avg. Loss: 0.027999766916036607\n",
      "Epoch: 30, Batch: 30, Avg. Loss: 0.03626952953636646\n",
      "Epoch: 30, Batch: 40, Avg. Loss: 0.02808556370437145\n",
      "Epoch: 30, Batch: 50, Avg. Loss: 0.026107926107943057\n",
      "Epoch: 30, Batch: 60, Avg. Loss: 0.03451996818184853\n",
      "Epoch: 30, Batch: 70, Avg. Loss: 0.03858496006578207\n",
      "Epoch: 30, Batch: 80, Avg. Loss: 0.05920858811587095\n",
      "Epoch: 30, Batch: 90, Avg. Loss: 0.0339538361877203\n",
      "Epoch: 30, Batch: 100, Avg. Loss: 0.038584460504353046\n",
      "Epoch: 30, Batch: 110, Avg. Loss: 0.04999315477907658\n",
      "Epoch: 30, Batch: 120, Avg. Loss: 0.039885906688869\n",
      "Epoch: 30, Batch: 130, Avg. Loss: 0.03430669642984867\n",
      "Epoch: 30, Batch: 140, Avg. Loss: 0.05022156685590744\n",
      "Epoch: 30, Batch: 150, Avg. Loss: 0.03324537314474583\n",
      "Epoch: 30, Batch: 160, Avg. Loss: 0.02871650792658329\n",
      "Epoch: 30, Batch: 170, Avg. Loss: 0.031233303621411322\n",
      "Epoch: 30, Batch: 180, Avg. Loss: 0.042222177144140005\n",
      "Epoch: 30, Batch: 190, Avg. Loss: 0.027584954164922237\n",
      "Epoch: 30, Batch: 200, Avg. Loss: 0.11517190895974636\n",
      "Epoch: 30, Batch: 210, Avg. Loss: 0.02778893504291773\n",
      "Epoch: 30, Batch: 220, Avg. Loss: 0.03248233199119568\n",
      "Epoch: 30, Batch: 230, Avg. Loss: 0.03235266832634807\n",
      "Epoch: 30, Batch: 240, Avg. Loss: 0.03794076964259148\n",
      "Epoch: 30, Batch: 250, Avg. Loss: 0.09112467737868428\n",
      "Epoch: 30, Batch: 260, Avg. Loss: 0.0310988400131464\n",
      "Epoch: 30, Batch: 270, Avg. Loss: 0.03808844201266766\n",
      "Epoch: 30, Batch: 280, Avg. Loss: 0.03259119298309088\n",
      "Epoch: 30, Batch: 290, Avg. Loss: 0.028303702548146247\n",
      "Epoch: 30, Batch: 300, Avg. Loss: 0.05105003081262112\n",
      "Epoch: 30, Batch: 310, Avg. Loss: 0.029106143116950988\n",
      "Epoch: 30, Batch: 320, Avg. Loss: 0.034084018878638746\n",
      "Epoch: 30, Batch: 330, Avg. Loss: 0.03028106801211834\n",
      "Epoch: 30, Batch: 340, Avg. Loss: 0.02892722301185131\n"
     ]
    },
    {
     "name": "stderr",
     "output_type": "stream",
     "text": [
      "/home/workspace/data_load.py:39: FutureWarning: Method .as_matrix will be removed in a future version. Use .values instead.\n",
      "  key_pts = self.key_pts_frame.iloc[idx, 1:].as_matrix()\n",
      "/home/workspace/data_load.py:39: FutureWarning: Method .as_matrix will be removed in a future version. Use .values instead.\n",
      "  key_pts = self.key_pts_frame.iloc[idx, 1:].as_matrix()\n",
      "/home/workspace/data_load.py:39: FutureWarning: Method .as_matrix will be removed in a future version. Use .values instead.\n",
      "  key_pts = self.key_pts_frame.iloc[idx, 1:].as_matrix()\n",
      "/home/workspace/data_load.py:39: FutureWarning: Method .as_matrix will be removed in a future version. Use .values instead.\n",
      "  key_pts = self.key_pts_frame.iloc[idx, 1:].as_matrix()\n"
     ]
    },
    {
     "name": "stdout",
     "output_type": "stream",
     "text": [
      "Epoch: 31, Batch: 10, Avg. Loss: 0.028274310380220415\n",
      "Epoch: 31, Batch: 20, Avg. Loss: 0.02732686996459961\n",
      "Epoch: 31, Batch: 30, Avg. Loss: 0.03148965947329998\n",
      "Epoch: 31, Batch: 40, Avg. Loss: 0.032308243401348594\n",
      "Epoch: 31, Batch: 50, Avg. Loss: 0.031714932434260844\n",
      "Epoch: 31, Batch: 60, Avg. Loss: 0.02756724040955305\n",
      "Epoch: 31, Batch: 70, Avg. Loss: 0.032839248329401015\n",
      "Epoch: 31, Batch: 80, Avg. Loss: 0.036895124986767766\n",
      "Epoch: 31, Batch: 90, Avg. Loss: 0.0269105713814497\n",
      "Epoch: 31, Batch: 100, Avg. Loss: 0.03990452010184527\n",
      "Epoch: 31, Batch: 110, Avg. Loss: 0.0327771307900548\n",
      "Epoch: 31, Batch: 120, Avg. Loss: 0.031699562631547454\n",
      "Epoch: 31, Batch: 130, Avg. Loss: 0.03575042430311441\n",
      "Epoch: 31, Batch: 140, Avg. Loss: 0.037649706564843656\n",
      "Epoch: 31, Batch: 150, Avg. Loss: 0.0283195324242115\n",
      "Epoch: 31, Batch: 160, Avg. Loss: 0.028481687419116497\n",
      "Epoch: 31, Batch: 170, Avg. Loss: 0.02865208061411977\n",
      "Epoch: 31, Batch: 180, Avg. Loss: 0.032475239038467406\n",
      "Epoch: 31, Batch: 190, Avg. Loss: 0.028366013243794442\n",
      "Epoch: 31, Batch: 200, Avg. Loss: 0.02747465204447508\n",
      "Epoch: 31, Batch: 210, Avg. Loss: 0.039627043344080445\n",
      "Epoch: 31, Batch: 220, Avg. Loss: 0.03700517993420362\n",
      "Epoch: 31, Batch: 230, Avg. Loss: 0.029468334466218948\n",
      "Epoch: 31, Batch: 240, Avg. Loss: 0.0372657110914588\n",
      "Epoch: 31, Batch: 250, Avg. Loss: 0.024896948225796224\n",
      "Epoch: 31, Batch: 260, Avg. Loss: 0.034438644908368586\n",
      "Epoch: 31, Batch: 270, Avg. Loss: 0.03663689885288477\n",
      "Epoch: 31, Batch: 280, Avg. Loss: 0.027845954149961473\n",
      "Epoch: 31, Batch: 290, Avg. Loss: 0.038337049819529054\n",
      "Epoch: 31, Batch: 300, Avg. Loss: 0.038412128761410716\n",
      "Epoch: 31, Batch: 310, Avg. Loss: 0.030173836369067432\n",
      "Epoch: 31, Batch: 320, Avg. Loss: 0.03279891069978476\n",
      "Epoch: 31, Batch: 330, Avg. Loss: 0.02702154014259577\n",
      "Epoch: 31, Batch: 340, Avg. Loss: 0.03521616235375404\n"
     ]
    },
    {
     "name": "stderr",
     "output_type": "stream",
     "text": [
      "/home/workspace/data_load.py:39: FutureWarning: Method .as_matrix will be removed in a future version. Use .values instead.\n",
      "  key_pts = self.key_pts_frame.iloc[idx, 1:].as_matrix()\n",
      "/home/workspace/data_load.py:39: FutureWarning: Method .as_matrix will be removed in a future version. Use .values instead.\n",
      "  key_pts = self.key_pts_frame.iloc[idx, 1:].as_matrix()\n",
      "/home/workspace/data_load.py:39: FutureWarning: Method .as_matrix will be removed in a future version. Use .values instead.\n",
      "  key_pts = self.key_pts_frame.iloc[idx, 1:].as_matrix()\n",
      "/home/workspace/data_load.py:39: FutureWarning: Method .as_matrix will be removed in a future version. Use .values instead.\n",
      "  key_pts = self.key_pts_frame.iloc[idx, 1:].as_matrix()\n"
     ]
    },
    {
     "name": "stdout",
     "output_type": "stream",
     "text": [
      "Epoch: 32, Batch: 10, Avg. Loss: 0.035477603785693645\n",
      "Epoch: 32, Batch: 20, Avg. Loss: 0.02919016033411026\n",
      "Epoch: 32, Batch: 30, Avg. Loss: 0.06906156297773122\n",
      "Epoch: 32, Batch: 40, Avg. Loss: 0.03192776069045067\n",
      "Epoch: 32, Batch: 50, Avg. Loss: 0.04665682446211576\n",
      "Epoch: 32, Batch: 60, Avg. Loss: 0.02682208940386772\n",
      "Epoch: 32, Batch: 70, Avg. Loss: 0.033650682866573335\n",
      "Epoch: 32, Batch: 80, Avg. Loss: 0.04652915932238102\n",
      "Epoch: 32, Batch: 90, Avg. Loss: 0.029222181625664236\n",
      "Epoch: 32, Batch: 100, Avg. Loss: 0.03603738024830818\n",
      "Epoch: 32, Batch: 110, Avg. Loss: 0.02669295873492956\n",
      "Epoch: 32, Batch: 120, Avg. Loss: 0.023432338424026967\n",
      "Epoch: 32, Batch: 130, Avg. Loss: 0.02410808177664876\n",
      "Epoch: 32, Batch: 140, Avg. Loss: 0.025676976796239613\n",
      "Epoch: 32, Batch: 150, Avg. Loss: 0.031586986407637595\n",
      "Epoch: 32, Batch: 160, Avg. Loss: 0.029877351969480513\n",
      "Epoch: 32, Batch: 170, Avg. Loss: 0.03359519075602293\n",
      "Epoch: 32, Batch: 180, Avg. Loss: 0.02555550532415509\n",
      "Epoch: 32, Batch: 190, Avg. Loss: 0.031167029961943628\n",
      "Epoch: 32, Batch: 200, Avg. Loss: 0.028611313179135324\n",
      "Epoch: 32, Batch: 210, Avg. Loss: 0.04502520114183426\n",
      "Epoch: 32, Batch: 220, Avg. Loss: 0.030290239490568638\n",
      "Epoch: 32, Batch: 230, Avg. Loss: 0.02926055174320936\n",
      "Epoch: 32, Batch: 240, Avg. Loss: 0.07737596686929464\n",
      "Epoch: 32, Batch: 250, Avg. Loss: 0.03259228616952896\n",
      "Epoch: 32, Batch: 260, Avg. Loss: 0.032023174315690996\n",
      "Epoch: 32, Batch: 270, Avg. Loss: 0.03210413940250874\n",
      "Epoch: 32, Batch: 280, Avg. Loss: 0.032467431575059894\n",
      "Epoch: 32, Batch: 290, Avg. Loss: 0.02494586370885372\n",
      "Epoch: 32, Batch: 300, Avg. Loss: 0.05684399101883173\n",
      "Epoch: 32, Batch: 310, Avg. Loss: 0.025505258701741695\n",
      "Epoch: 32, Batch: 320, Avg. Loss: 0.0300371615216136\n",
      "Epoch: 32, Batch: 330, Avg. Loss: 0.03629291001707315\n",
      "Epoch: 32, Batch: 340, Avg. Loss: 0.025939619354903697\n"
     ]
    },
    {
     "name": "stderr",
     "output_type": "stream",
     "text": [
      "/home/workspace/data_load.py:39: FutureWarning: Method .as_matrix will be removed in a future version. Use .values instead.\n",
      "  key_pts = self.key_pts_frame.iloc[idx, 1:].as_matrix()\n",
      "/home/workspace/data_load.py:39: FutureWarning: Method .as_matrix will be removed in a future version. Use .values instead.\n",
      "  key_pts = self.key_pts_frame.iloc[idx, 1:].as_matrix()\n",
      "/home/workspace/data_load.py:39: FutureWarning: Method .as_matrix will be removed in a future version. Use .values instead.\n",
      "  key_pts = self.key_pts_frame.iloc[idx, 1:].as_matrix()\n",
      "/home/workspace/data_load.py:39: FutureWarning: Method .as_matrix will be removed in a future version. Use .values instead.\n",
      "  key_pts = self.key_pts_frame.iloc[idx, 1:].as_matrix()\n"
     ]
    },
    {
     "name": "stdout",
     "output_type": "stream",
     "text": [
      "Epoch: 33, Batch: 10, Avg. Loss: 0.03216438926756382\n",
      "Epoch: 33, Batch: 20, Avg. Loss: 0.043131360225379466\n",
      "Epoch: 33, Batch: 30, Avg. Loss: 0.03344782777130604\n",
      "Epoch: 33, Batch: 40, Avg. Loss: 0.02461330946534872\n",
      "Epoch: 33, Batch: 50, Avg. Loss: 0.026821494475007056\n",
      "Epoch: 33, Batch: 60, Avg. Loss: 0.03285939544439316\n",
      "Epoch: 33, Batch: 70, Avg. Loss: 0.05949582755565643\n",
      "Epoch: 33, Batch: 80, Avg. Loss: 0.022904105857014655\n",
      "Epoch: 33, Batch: 90, Avg. Loss: 0.03161327000707388\n",
      "Epoch: 33, Batch: 100, Avg. Loss: 0.02270046006888151\n",
      "Epoch: 33, Batch: 110, Avg. Loss: 0.028028417006134988\n",
      "Epoch: 33, Batch: 120, Avg. Loss: 0.029906135611236097\n",
      "Epoch: 33, Batch: 130, Avg. Loss: 0.02971833888441324\n",
      "Epoch: 33, Batch: 140, Avg. Loss: 0.027932936418801547\n",
      "Epoch: 33, Batch: 150, Avg. Loss: 0.23394534308463336\n",
      "Epoch: 33, Batch: 160, Avg. Loss: 0.03055401835590601\n",
      "Epoch: 33, Batch: 170, Avg. Loss: 0.04499553944915533\n",
      "Epoch: 33, Batch: 180, Avg. Loss: 0.03202777914702892\n",
      "Epoch: 33, Batch: 190, Avg. Loss: 0.03472423702478409\n",
      "Epoch: 33, Batch: 200, Avg. Loss: 0.03721021600067616\n",
      "Epoch: 33, Batch: 210, Avg. Loss: 0.022907361388206482\n",
      "Epoch: 33, Batch: 220, Avg. Loss: 0.022230016253888606\n",
      "Epoch: 33, Batch: 230, Avg. Loss: 0.11631650943309069\n",
      "Epoch: 33, Batch: 240, Avg. Loss: 0.08086465252563357\n",
      "Epoch: 33, Batch: 250, Avg. Loss: 0.028173171542584897\n",
      "Epoch: 33, Batch: 260, Avg. Loss: 0.021350805833935737\n",
      "Epoch: 33, Batch: 270, Avg. Loss: 0.02860008180141449\n",
      "Epoch: 33, Batch: 280, Avg. Loss: 0.02427760362625122\n",
      "Epoch: 33, Batch: 290, Avg. Loss: 0.026103079319000244\n",
      "Epoch: 33, Batch: 300, Avg. Loss: 0.031803065165877345\n",
      "Epoch: 33, Batch: 310, Avg. Loss: 0.022438574023544787\n",
      "Epoch: 33, Batch: 320, Avg. Loss: 0.028186867013573647\n",
      "Epoch: 33, Batch: 330, Avg. Loss: 0.02650453308597207\n",
      "Epoch: 33, Batch: 340, Avg. Loss: 0.0427562927827239\n"
     ]
    },
    {
     "name": "stderr",
     "output_type": "stream",
     "text": [
      "/home/workspace/data_load.py:39: FutureWarning: Method .as_matrix will be removed in a future version. Use .values instead.\n",
      "  key_pts = self.key_pts_frame.iloc[idx, 1:].as_matrix()\n",
      "/home/workspace/data_load.py:39: FutureWarning: Method .as_matrix will be removed in a future version. Use .values instead.\n",
      "  key_pts = self.key_pts_frame.iloc[idx, 1:].as_matrix()\n",
      "/home/workspace/data_load.py:39: FutureWarning: Method .as_matrix will be removed in a future version. Use .values instead.\n",
      "  key_pts = self.key_pts_frame.iloc[idx, 1:].as_matrix()\n",
      "/home/workspace/data_load.py:39: FutureWarning: Method .as_matrix will be removed in a future version. Use .values instead.\n",
      "  key_pts = self.key_pts_frame.iloc[idx, 1:].as_matrix()\n"
     ]
    },
    {
     "name": "stdout",
     "output_type": "stream",
     "text": [
      "Epoch: 34, Batch: 10, Avg. Loss: 0.025854491256177427\n",
      "Epoch: 34, Batch: 20, Avg. Loss: 0.027638252638280392\n",
      "Epoch: 34, Batch: 30, Avg. Loss: 0.03393843024969101\n",
      "Epoch: 34, Batch: 40, Avg. Loss: 0.03627610858529806\n",
      "Epoch: 34, Batch: 50, Avg. Loss: 0.04499687049537897\n",
      "Epoch: 34, Batch: 60, Avg. Loss: 0.031954867951571944\n",
      "Epoch: 34, Batch: 70, Avg. Loss: 0.027448038570582867\n",
      "Epoch: 34, Batch: 80, Avg. Loss: 0.027917972207069396\n",
      "Epoch: 34, Batch: 90, Avg. Loss: 0.09946064632385969\n",
      "Epoch: 34, Batch: 100, Avg. Loss: 0.04109691251069307\n",
      "Epoch: 34, Batch: 110, Avg. Loss: 0.029102410841733217\n",
      "Epoch: 34, Batch: 120, Avg. Loss: 0.024886246770620346\n",
      "Epoch: 34, Batch: 130, Avg. Loss: 0.03115419000387192\n",
      "Epoch: 34, Batch: 140, Avg. Loss: 0.025987166352570056\n",
      "Epoch: 34, Batch: 150, Avg. Loss: 0.04576591607183218\n",
      "Epoch: 34, Batch: 160, Avg. Loss: 0.030990858934819697\n",
      "Epoch: 34, Batch: 170, Avg. Loss: 0.06153253931552172\n",
      "Epoch: 34, Batch: 180, Avg. Loss: 0.021822185069322587\n",
      "Epoch: 34, Batch: 190, Avg. Loss: 0.027860585786402225\n",
      "Epoch: 34, Batch: 200, Avg. Loss: 0.03092492148280144\n",
      "Epoch: 34, Batch: 210, Avg. Loss: 0.06216501053422689\n",
      "Epoch: 34, Batch: 220, Avg. Loss: 0.027001238614320754\n",
      "Epoch: 34, Batch: 230, Avg. Loss: 0.035763283632695674\n",
      "Epoch: 34, Batch: 240, Avg. Loss: 0.027557033207267524\n",
      "Epoch: 34, Batch: 250, Avg. Loss: 0.033466878719627856\n",
      "Epoch: 34, Batch: 260, Avg. Loss: 0.0631352168507874\n",
      "Epoch: 34, Batch: 270, Avg. Loss: 0.027343925926834343\n",
      "Epoch: 34, Batch: 280, Avg. Loss: 0.026402001827955247\n",
      "Epoch: 34, Batch: 290, Avg. Loss: 0.03148545809090138\n",
      "Epoch: 34, Batch: 300, Avg. Loss: 0.02858040910214186\n",
      "Epoch: 34, Batch: 310, Avg. Loss: 0.023037176579236984\n",
      "Epoch: 34, Batch: 320, Avg. Loss: 0.02893386743962765\n",
      "Epoch: 34, Batch: 330, Avg. Loss: 0.02780223488807678\n",
      "Epoch: 34, Batch: 340, Avg. Loss: 0.027908178977668285\n"
     ]
    },
    {
     "name": "stderr",
     "output_type": "stream",
     "text": [
      "/home/workspace/data_load.py:39: FutureWarning: Method .as_matrix will be removed in a future version. Use .values instead.\n",
      "  key_pts = self.key_pts_frame.iloc[idx, 1:].as_matrix()\n",
      "/home/workspace/data_load.py:39: FutureWarning: Method .as_matrix will be removed in a future version. Use .values instead.\n",
      "  key_pts = self.key_pts_frame.iloc[idx, 1:].as_matrix()\n",
      "/home/workspace/data_load.py:39: FutureWarning: Method .as_matrix will be removed in a future version. Use .values instead.\n",
      "  key_pts = self.key_pts_frame.iloc[idx, 1:].as_matrix()\n",
      "/home/workspace/data_load.py:39: FutureWarning: Method .as_matrix will be removed in a future version. Use .values instead.\n",
      "  key_pts = self.key_pts_frame.iloc[idx, 1:].as_matrix()\n"
     ]
    },
    {
     "name": "stdout",
     "output_type": "stream",
     "text": [
      "Epoch: 35, Batch: 10, Avg. Loss: 0.03775874376296997\n",
      "Epoch: 35, Batch: 20, Avg. Loss: 0.03018786571919918\n",
      "Epoch: 35, Batch: 30, Avg. Loss: 0.024307123944163324\n",
      "Epoch: 35, Batch: 40, Avg. Loss: 0.033600955829024316\n",
      "Epoch: 35, Batch: 50, Avg. Loss: 0.033019482530653475\n",
      "Epoch: 35, Batch: 60, Avg. Loss: 0.031938777305185795\n",
      "Epoch: 35, Batch: 70, Avg. Loss: 0.03570645097643137\n",
      "Epoch: 35, Batch: 80, Avg. Loss: 0.03014317024499178\n",
      "Epoch: 35, Batch: 90, Avg. Loss: 0.02882088692858815\n",
      "Epoch: 35, Batch: 100, Avg. Loss: 0.026578475907444953\n",
      "Epoch: 35, Batch: 110, Avg. Loss: 0.03390798140317201\n",
      "Epoch: 35, Batch: 120, Avg. Loss: 0.030083417147397994\n",
      "Epoch: 35, Batch: 130, Avg. Loss: 0.030460377410054206\n",
      "Epoch: 35, Batch: 140, Avg. Loss: 0.031228400953114032\n",
      "Epoch: 35, Batch: 150, Avg. Loss: 0.028402229771018028\n",
      "Epoch: 35, Batch: 160, Avg. Loss: 0.029563187435269356\n",
      "Epoch: 35, Batch: 170, Avg. Loss: 0.060324867721647024\n",
      "Epoch: 35, Batch: 180, Avg. Loss: 0.027333245519548653\n",
      "Epoch: 35, Batch: 190, Avg. Loss: 0.035308973770588635\n",
      "Epoch: 35, Batch: 200, Avg. Loss: 0.029664392210543157\n",
      "Epoch: 35, Batch: 210, Avg. Loss: 0.03899750560522079\n",
      "Epoch: 35, Batch: 220, Avg. Loss: 0.03315263018012047\n",
      "Epoch: 35, Batch: 230, Avg. Loss: 0.035433489643037316\n",
      "Epoch: 35, Batch: 240, Avg. Loss: 0.09924380481243134\n",
      "Epoch: 35, Batch: 250, Avg. Loss: 0.03624196965247393\n",
      "Epoch: 35, Batch: 260, Avg. Loss: 0.03029659893363714\n",
      "Epoch: 35, Batch: 270, Avg. Loss: 0.022300880588591098\n",
      "Epoch: 35, Batch: 280, Avg. Loss: 0.02654346153140068\n",
      "Epoch: 35, Batch: 290, Avg. Loss: 0.03133840020745993\n",
      "Epoch: 35, Batch: 300, Avg. Loss: 0.045239875186234714\n",
      "Epoch: 35, Batch: 310, Avg. Loss: 0.029391324520111083\n",
      "Epoch: 35, Batch: 320, Avg. Loss: 0.02926400415599346\n",
      "Epoch: 35, Batch: 330, Avg. Loss: 0.03164950981736183\n",
      "Epoch: 35, Batch: 340, Avg. Loss: 0.02918605078011751\n"
     ]
    },
    {
     "name": "stderr",
     "output_type": "stream",
     "text": [
      "/home/workspace/data_load.py:39: FutureWarning: Method .as_matrix will be removed in a future version. Use .values instead.\n",
      "  key_pts = self.key_pts_frame.iloc[idx, 1:].as_matrix()\n",
      "/home/workspace/data_load.py:39: FutureWarning: Method .as_matrix will be removed in a future version. Use .values instead.\n",
      "  key_pts = self.key_pts_frame.iloc[idx, 1:].as_matrix()\n",
      "/home/workspace/data_load.py:39: FutureWarning: Method .as_matrix will be removed in a future version. Use .values instead.\n",
      "  key_pts = self.key_pts_frame.iloc[idx, 1:].as_matrix()\n",
      "/home/workspace/data_load.py:39: FutureWarning: Method .as_matrix will be removed in a future version. Use .values instead.\n",
      "  key_pts = self.key_pts_frame.iloc[idx, 1:].as_matrix()\n"
     ]
    },
    {
     "name": "stdout",
     "output_type": "stream",
     "text": [
      "Epoch: 36, Batch: 10, Avg. Loss: 0.023886158503592013\n",
      "Epoch: 36, Batch: 20, Avg. Loss: 0.027493829652667046\n",
      "Epoch: 36, Batch: 30, Avg. Loss: 0.03197678606957197\n",
      "Epoch: 36, Batch: 40, Avg. Loss: 0.02945141550153494\n",
      "Epoch: 36, Batch: 50, Avg. Loss: 0.028947555925697088\n",
      "Epoch: 36, Batch: 60, Avg. Loss: 0.029449520632624626\n",
      "Epoch: 36, Batch: 70, Avg. Loss: 0.0216496791690588\n",
      "Epoch: 36, Batch: 80, Avg. Loss: 0.026035203132778406\n",
      "Epoch: 36, Batch: 90, Avg. Loss: 0.030189828015863895\n",
      "Epoch: 36, Batch: 100, Avg. Loss: 0.02614643257111311\n",
      "Epoch: 36, Batch: 110, Avg. Loss: 0.025838582962751388\n",
      "Epoch: 36, Batch: 120, Avg. Loss: 0.027036933600902556\n",
      "Epoch: 36, Batch: 130, Avg. Loss: 0.02504234351217747\n",
      "Epoch: 36, Batch: 140, Avg. Loss: 0.04588690269738436\n",
      "Epoch: 36, Batch: 150, Avg. Loss: 0.027712100837379693\n",
      "Epoch: 36, Batch: 160, Avg. Loss: 0.02750605996698141\n",
      "Epoch: 36, Batch: 170, Avg. Loss: 0.13184019532054664\n",
      "Epoch: 36, Batch: 180, Avg. Loss: 0.03610619567334652\n",
      "Epoch: 36, Batch: 190, Avg. Loss: 0.03191509637981653\n",
      "Epoch: 36, Batch: 200, Avg. Loss: 0.02714349403977394\n",
      "Epoch: 36, Batch: 210, Avg. Loss: 0.02755169402807951\n",
      "Epoch: 36, Batch: 220, Avg. Loss: 0.05305908191949129\n",
      "Epoch: 36, Batch: 230, Avg. Loss: 0.03043756205588579\n",
      "Epoch: 36, Batch: 240, Avg. Loss: 0.023897742666304112\n",
      "Epoch: 36, Batch: 250, Avg. Loss: 0.024303338304162026\n",
      "Epoch: 36, Batch: 260, Avg. Loss: 0.02748911865055561\n",
      "Epoch: 36, Batch: 270, Avg. Loss: 0.024264282919466494\n",
      "Epoch: 36, Batch: 280, Avg. Loss: 0.033294458873569965\n",
      "Epoch: 36, Batch: 290, Avg. Loss: 0.031146083399653433\n",
      "Epoch: 36, Batch: 300, Avg. Loss: 0.095645946636796\n",
      "Epoch: 36, Batch: 310, Avg. Loss: 0.028040000610053538\n",
      "Epoch: 36, Batch: 320, Avg. Loss: 0.02578994706273079\n",
      "Epoch: 36, Batch: 330, Avg. Loss: 0.13041016198694705\n",
      "Epoch: 36, Batch: 340, Avg. Loss: 0.05424216948449612\n"
     ]
    },
    {
     "name": "stderr",
     "output_type": "stream",
     "text": [
      "/home/workspace/data_load.py:39: FutureWarning: Method .as_matrix will be removed in a future version. Use .values instead.\n",
      "  key_pts = self.key_pts_frame.iloc[idx, 1:].as_matrix()\n",
      "/home/workspace/data_load.py:39: FutureWarning: Method .as_matrix will be removed in a future version. Use .values instead.\n",
      "  key_pts = self.key_pts_frame.iloc[idx, 1:].as_matrix()\n",
      "/home/workspace/data_load.py:39: FutureWarning: Method .as_matrix will be removed in a future version. Use .values instead.\n",
      "  key_pts = self.key_pts_frame.iloc[idx, 1:].as_matrix()\n",
      "/home/workspace/data_load.py:39: FutureWarning: Method .as_matrix will be removed in a future version. Use .values instead.\n",
      "  key_pts = self.key_pts_frame.iloc[idx, 1:].as_matrix()\n"
     ]
    },
    {
     "name": "stdout",
     "output_type": "stream",
     "text": [
      "Epoch: 37, Batch: 10, Avg. Loss: 0.024520246498286723\n",
      "Epoch: 37, Batch: 20, Avg. Loss: 0.025733287539333106\n",
      "Epoch: 37, Batch: 30, Avg. Loss: 0.03222268931567669\n",
      "Epoch: 37, Batch: 40, Avg. Loss: 0.027343940176069736\n",
      "Epoch: 37, Batch: 50, Avg. Loss: 0.023430868238210677\n",
      "Epoch: 37, Batch: 60, Avg. Loss: 0.03621638137847185\n",
      "Epoch: 37, Batch: 70, Avg. Loss: 0.025543917994946243\n",
      "Epoch: 37, Batch: 80, Avg. Loss: 0.026566187851130962\n",
      "Epoch: 37, Batch: 90, Avg. Loss: 0.024387499131262303\n",
      "Epoch: 37, Batch: 100, Avg. Loss: 0.03956870203837752\n",
      "Epoch: 37, Batch: 110, Avg. Loss: 0.027481376379728317\n",
      "Epoch: 37, Batch: 120, Avg. Loss: 0.02872608508914709\n",
      "Epoch: 37, Batch: 130, Avg. Loss: 0.031157329119741915\n",
      "Epoch: 37, Batch: 140, Avg. Loss: 0.024117860291153193\n",
      "Epoch: 37, Batch: 150, Avg. Loss: 0.02720022276043892\n",
      "Epoch: 37, Batch: 160, Avg. Loss: 0.03357926402240992\n",
      "Epoch: 37, Batch: 170, Avg. Loss: 0.027316413074731826\n",
      "Epoch: 37, Batch: 180, Avg. Loss: 0.03697842787951231\n",
      "Epoch: 37, Batch: 190, Avg. Loss: 0.027088898792862894\n",
      "Epoch: 37, Batch: 200, Avg. Loss: 0.02539187204092741\n",
      "Epoch: 37, Batch: 210, Avg. Loss: 0.02374173477292061\n",
      "Epoch: 37, Batch: 220, Avg. Loss: 0.026270977221429348\n",
      "Epoch: 37, Batch: 230, Avg. Loss: 0.03207528926432133\n",
      "Epoch: 37, Batch: 240, Avg. Loss: 0.025779839791357517\n",
      "Epoch: 37, Batch: 250, Avg. Loss: 0.05361539404839277\n",
      "Epoch: 37, Batch: 260, Avg. Loss: 0.03004270773380995\n",
      "Epoch: 37, Batch: 270, Avg. Loss: 0.02405536826699972\n",
      "Epoch: 37, Batch: 280, Avg. Loss: 0.03572246469557285\n",
      "Epoch: 37, Batch: 290, Avg. Loss: 0.08101137988269329\n",
      "Epoch: 37, Batch: 300, Avg. Loss: 0.027043114043772222\n",
      "Epoch: 37, Batch: 310, Avg. Loss: 0.02946161711588502\n",
      "Epoch: 37, Batch: 320, Avg. Loss: 0.03546763062477112\n",
      "Epoch: 37, Batch: 330, Avg. Loss: 0.030104079656302928\n",
      "Epoch: 37, Batch: 340, Avg. Loss: 0.027283098176121713\n"
     ]
    },
    {
     "name": "stderr",
     "output_type": "stream",
     "text": [
      "/home/workspace/data_load.py:39: FutureWarning: Method .as_matrix will be removed in a future version. Use .values instead.\n",
      "  key_pts = self.key_pts_frame.iloc[idx, 1:].as_matrix()\n",
      "/home/workspace/data_load.py:39: FutureWarning: Method .as_matrix will be removed in a future version. Use .values instead.\n",
      "  key_pts = self.key_pts_frame.iloc[idx, 1:].as_matrix()\n",
      "/home/workspace/data_load.py:39: FutureWarning: Method .as_matrix will be removed in a future version. Use .values instead.\n",
      "  key_pts = self.key_pts_frame.iloc[idx, 1:].as_matrix()\n",
      "/home/workspace/data_load.py:39: FutureWarning: Method .as_matrix will be removed in a future version. Use .values instead.\n",
      "  key_pts = self.key_pts_frame.iloc[idx, 1:].as_matrix()\n"
     ]
    },
    {
     "name": "stdout",
     "output_type": "stream",
     "text": [
      "Epoch: 38, Batch: 10, Avg. Loss: 0.025435052718967198\n",
      "Epoch: 38, Batch: 20, Avg. Loss: 0.026196828112006187\n",
      "Epoch: 38, Batch: 30, Avg. Loss: 0.028218828793615102\n",
      "Epoch: 38, Batch: 40, Avg. Loss: 0.025846816971898078\n",
      "Epoch: 38, Batch: 50, Avg. Loss: 0.028045476973056795\n",
      "Epoch: 38, Batch: 60, Avg. Loss: 0.03453299142420292\n",
      "Epoch: 38, Batch: 70, Avg. Loss: 0.028582106158137322\n",
      "Epoch: 38, Batch: 80, Avg. Loss: 0.029107586294412614\n",
      "Epoch: 38, Batch: 90, Avg. Loss: 0.08089698851108551\n",
      "Epoch: 38, Batch: 100, Avg. Loss: 0.06396207585930824\n",
      "Epoch: 38, Batch: 110, Avg. Loss: 0.04165033269673586\n",
      "Epoch: 38, Batch: 120, Avg. Loss: 0.025036676973104476\n",
      "Epoch: 38, Batch: 130, Avg. Loss: 0.044899464771151545\n",
      "Epoch: 38, Batch: 140, Avg. Loss: 0.028303125500679018\n",
      "Epoch: 38, Batch: 150, Avg. Loss: 0.03300911393016577\n",
      "Epoch: 38, Batch: 160, Avg. Loss: 0.09336198773235083\n",
      "Epoch: 38, Batch: 170, Avg. Loss: 0.03152270745486021\n",
      "Epoch: 38, Batch: 180, Avg. Loss: 0.040950498543679714\n",
      "Epoch: 38, Batch: 190, Avg. Loss: 0.08580650072544813\n",
      "Epoch: 38, Batch: 200, Avg. Loss: 0.030354384891688825\n",
      "Epoch: 38, Batch: 210, Avg. Loss: 0.04428825071081519\n",
      "Epoch: 38, Batch: 220, Avg. Loss: 0.025589020736515523\n",
      "Epoch: 38, Batch: 230, Avg. Loss: 0.029935394413769245\n",
      "Epoch: 38, Batch: 240, Avg. Loss: 0.02488761004060507\n",
      "Epoch: 38, Batch: 250, Avg. Loss: 0.026260238140821457\n",
      "Epoch: 38, Batch: 260, Avg. Loss: 0.02457133587449789\n",
      "Epoch: 38, Batch: 270, Avg. Loss: 0.024438981898128986\n",
      "Epoch: 38, Batch: 280, Avg. Loss: 0.026724175177514554\n",
      "Epoch: 38, Batch: 290, Avg. Loss: 0.027700518257915974\n",
      "Epoch: 38, Batch: 300, Avg. Loss: 0.03719198908656836\n",
      "Epoch: 38, Batch: 310, Avg. Loss: 0.02774383332580328\n",
      "Epoch: 38, Batch: 320, Avg. Loss: 0.027212345972657204\n",
      "Epoch: 38, Batch: 330, Avg. Loss: 0.022216647677123547\n",
      "Epoch: 38, Batch: 340, Avg. Loss: 0.03167982846498489\n"
     ]
    },
    {
     "name": "stderr",
     "output_type": "stream",
     "text": [
      "/home/workspace/data_load.py:39: FutureWarning: Method .as_matrix will be removed in a future version. Use .values instead.\n",
      "  key_pts = self.key_pts_frame.iloc[idx, 1:].as_matrix()\n",
      "/home/workspace/data_load.py:39: FutureWarning: Method .as_matrix will be removed in a future version. Use .values instead.\n",
      "  key_pts = self.key_pts_frame.iloc[idx, 1:].as_matrix()\n",
      "/home/workspace/data_load.py:39: FutureWarning: Method .as_matrix will be removed in a future version. Use .values instead.\n",
      "  key_pts = self.key_pts_frame.iloc[idx, 1:].as_matrix()\n",
      "/home/workspace/data_load.py:39: FutureWarning: Method .as_matrix will be removed in a future version. Use .values instead.\n",
      "  key_pts = self.key_pts_frame.iloc[idx, 1:].as_matrix()\n"
     ]
    },
    {
     "name": "stdout",
     "output_type": "stream",
     "text": [
      "Epoch: 39, Batch: 10, Avg. Loss: 0.028123587463051082\n",
      "Epoch: 39, Batch: 20, Avg. Loss: 0.021720609813928603\n",
      "Epoch: 39, Batch: 30, Avg. Loss: 0.04760742681100964\n",
      "Epoch: 39, Batch: 40, Avg. Loss: 0.03412331342697143\n",
      "Epoch: 39, Batch: 50, Avg. Loss: 0.022482218593358992\n",
      "Epoch: 39, Batch: 60, Avg. Loss: 0.02928135935217142\n",
      "Epoch: 39, Batch: 70, Avg. Loss: 0.030142335779964925\n",
      "Epoch: 39, Batch: 80, Avg. Loss: 0.026134992390871047\n",
      "Epoch: 39, Batch: 90, Avg. Loss: 0.025977396313101052\n",
      "Epoch: 39, Batch: 100, Avg. Loss: 0.03372624237090349\n",
      "Epoch: 39, Batch: 110, Avg. Loss: 0.031111237965524195\n",
      "Epoch: 39, Batch: 120, Avg. Loss: 0.020253854058682918\n",
      "Epoch: 39, Batch: 130, Avg. Loss: 0.025079332944005727\n",
      "Epoch: 39, Batch: 140, Avg. Loss: 0.02146349912509322\n",
      "Epoch: 39, Batch: 150, Avg. Loss: 0.023358458094298838\n",
      "Epoch: 39, Batch: 160, Avg. Loss: 0.022244771104305984\n",
      "Epoch: 39, Batch: 170, Avg. Loss: 0.02644355157390237\n",
      "Epoch: 39, Batch: 180, Avg. Loss: 0.025173554196953773\n",
      "Epoch: 39, Batch: 190, Avg. Loss: 0.02677732575684786\n",
      "Epoch: 39, Batch: 200, Avg. Loss: 0.024565512128174306\n",
      "Epoch: 39, Batch: 210, Avg. Loss: 0.027343673445284367\n",
      "Epoch: 39, Batch: 220, Avg. Loss: 0.026547092571854593\n",
      "Epoch: 39, Batch: 230, Avg. Loss: 0.025189982168376444\n",
      "Epoch: 39, Batch: 240, Avg. Loss: 0.025110202748328446\n",
      "Epoch: 39, Batch: 250, Avg. Loss: 0.023482614569365977\n",
      "Epoch: 39, Batch: 260, Avg. Loss: 0.09246112471446395\n",
      "Epoch: 39, Batch: 270, Avg. Loss: 0.019276856165379285\n",
      "Epoch: 39, Batch: 280, Avg. Loss: 0.022623569797724487\n",
      "Epoch: 39, Batch: 290, Avg. Loss: 0.030469845794141293\n",
      "Epoch: 39, Batch: 300, Avg. Loss: 0.0268940145149827\n",
      "Epoch: 39, Batch: 310, Avg. Loss: 0.048129871115088464\n",
      "Epoch: 39, Batch: 320, Avg. Loss: 0.03028826005756855\n",
      "Epoch: 39, Batch: 330, Avg. Loss: 0.023485721554607153\n",
      "Epoch: 39, Batch: 340, Avg. Loss: 0.030827937368303537\n"
     ]
    },
    {
     "name": "stderr",
     "output_type": "stream",
     "text": [
      "/home/workspace/data_load.py:39: FutureWarning: Method .as_matrix will be removed in a future version. Use .values instead.\n",
      "  key_pts = self.key_pts_frame.iloc[idx, 1:].as_matrix()\n",
      "/home/workspace/data_load.py:39: FutureWarning: Method .as_matrix will be removed in a future version. Use .values instead.\n",
      "  key_pts = self.key_pts_frame.iloc[idx, 1:].as_matrix()\n",
      "/home/workspace/data_load.py:39: FutureWarning: Method .as_matrix will be removed in a future version. Use .values instead.\n",
      "  key_pts = self.key_pts_frame.iloc[idx, 1:].as_matrix()\n",
      "/home/workspace/data_load.py:39: FutureWarning: Method .as_matrix will be removed in a future version. Use .values instead.\n",
      "  key_pts = self.key_pts_frame.iloc[idx, 1:].as_matrix()\n"
     ]
    },
    {
     "name": "stdout",
     "output_type": "stream",
     "text": [
      "Epoch: 40, Batch: 10, Avg. Loss: 0.051235910318791864\n",
      "Epoch: 40, Batch: 20, Avg. Loss: 0.02666599228978157\n",
      "Epoch: 40, Batch: 30, Avg. Loss: 0.029157773591578007\n",
      "Epoch: 40, Batch: 40, Avg. Loss: 0.023847276344895363\n",
      "Epoch: 40, Batch: 50, Avg. Loss: 0.09130608085542917\n",
      "Epoch: 40, Batch: 60, Avg. Loss: 0.023619168624281883\n",
      "Epoch: 40, Batch: 70, Avg. Loss: 0.03314704224467278\n",
      "Epoch: 40, Batch: 80, Avg. Loss: 0.026996496971696614\n",
      "Epoch: 40, Batch: 90, Avg. Loss: 0.02340361624956131\n",
      "Epoch: 40, Batch: 100, Avg. Loss: 0.024945085123181342\n",
      "Epoch: 40, Batch: 110, Avg. Loss: 0.02245315574109554\n",
      "Epoch: 40, Batch: 120, Avg. Loss: 0.029195167031139134\n",
      "Epoch: 40, Batch: 130, Avg. Loss: 0.044446438644081356\n",
      "Epoch: 40, Batch: 140, Avg. Loss: 0.027236826531589032\n",
      "Epoch: 40, Batch: 150, Avg. Loss: 0.032021623197942974\n",
      "Epoch: 40, Batch: 160, Avg. Loss: 0.02519105151295662\n",
      "Epoch: 40, Batch: 170, Avg. Loss: 0.022104341723024844\n",
      "Epoch: 40, Batch: 180, Avg. Loss: 0.04070962257683277\n",
      "Epoch: 40, Batch: 190, Avg. Loss: 0.03211354007944465\n",
      "Epoch: 40, Batch: 200, Avg. Loss: 0.028192514460533856\n",
      "Epoch: 40, Batch: 210, Avg. Loss: 0.03552358038723469\n",
      "Epoch: 40, Batch: 220, Avg. Loss: 0.02615150362253189\n",
      "Epoch: 40, Batch: 230, Avg. Loss: 0.031133106909692287\n",
      "Epoch: 40, Batch: 240, Avg. Loss: 0.022395665291696787\n",
      "Epoch: 40, Batch: 250, Avg. Loss: 0.02298101959750056\n",
      "Epoch: 40, Batch: 260, Avg. Loss: 0.02675817459821701\n",
      "Epoch: 40, Batch: 270, Avg. Loss: 0.023780118860304355\n",
      "Epoch: 40, Batch: 280, Avg. Loss: 0.02907121665775776\n",
      "Epoch: 40, Batch: 290, Avg. Loss: 0.027090138383209707\n",
      "Epoch: 40, Batch: 300, Avg. Loss: 0.027994112856686116\n",
      "Epoch: 40, Batch: 310, Avg. Loss: 0.02461471166461706\n",
      "Epoch: 40, Batch: 320, Avg. Loss: 0.021407065074890853\n",
      "Epoch: 40, Batch: 330, Avg. Loss: 0.02516431286931038\n",
      "Epoch: 40, Batch: 340, Avg. Loss: 0.027725646458566188\n",
      "Finished Training\n"
     ]
    }
   ],
   "source": [
    "# net.load_state_dict(torch.load('saved_models/keypoints_model.pt'))\n",
    "# train your network\n",
    "n_epochs = 40 # start small, and increase when you've decided on your model structure and hyperparams\n",
    "\n",
    "# this is a Workspaces-specific context manager to keep the connection\n",
    "# alive while training your model, not part of pytorch\n",
    "with active_session():\n",
    "    train_net(n_epochs)"
   ]
  },
  {
   "cell_type": "markdown",
   "metadata": {},
   "source": [
    "## Test data\n",
    "\n",
    "See how your model performs on previously unseen, test data. We've already loaded and transformed this data, similar to the training data. Next, run your trained model on these images to see what kind of keypoints are produced. You should be able to see if your model is fitting each new face it sees, if the points are distributed randomly, or if the points have actually overfitted the training data and do not generalize."
   ]
  },
  {
   "cell_type": "code",
   "execution_count": 17,
   "metadata": {},
   "outputs": [
    {
     "name": "stderr",
     "output_type": "stream",
     "text": [
      "/home/workspace/data_load.py:39: FutureWarning: Method .as_matrix will be removed in a future version. Use .values instead.\n",
      "  key_pts = self.key_pts_frame.iloc[idx, 1:].as_matrix()\n",
      "/home/workspace/data_load.py:39: FutureWarning: Method .as_matrix will be removed in a future version. Use .values instead.\n",
      "  key_pts = self.key_pts_frame.iloc[idx, 1:].as_matrix()\n",
      "/home/workspace/data_load.py:39: FutureWarning: Method .as_matrix will be removed in a future version. Use .values instead.\n",
      "  key_pts = self.key_pts_frame.iloc[idx, 1:].as_matrix()\n",
      "/home/workspace/data_load.py:39: FutureWarning: Method .as_matrix will be removed in a future version. Use .values instead.\n",
      "  key_pts = self.key_pts_frame.iloc[idx, 1:].as_matrix()\n"
     ]
    },
    {
     "name": "stdout",
     "output_type": "stream",
     "text": [
      "torch.Size([10, 1, 224, 224])\n",
      "torch.Size([10, 68, 2])\n",
      "torch.Size([10, 68, 2])\n"
     ]
    }
   ],
   "source": [
    "# get a sample of test data again\n",
    "test_images, test_outputs, gt_pts = net_sample_output()\n",
    "\n",
    "print(test_images.data.size())\n",
    "print(test_outputs.data.size())\n",
    "print(gt_pts.size())"
   ]
  },
  {
   "cell_type": "code",
   "execution_count": 18,
   "metadata": {},
   "outputs": [
    {
     "data": {
      "image/png": "[encoded data removed]",
      "text/plain": [
       "<matplotlib.figure.Figure at 0x7f12c85be3c8>"
      ]
     },
     "metadata": {
      "needs_background": "light"
     },
     "output_type": "display_data"
    },
    {
     "data": {
      "image/png": "[encoded data removed]",
      "text/plain": [
       "<matplotlib.figure.Figure at 0x7f12f78a1550>"
      ]
     },
     "metadata": {
      "needs_background": "light"
     },
     "output_type": "display_data"
    },
    {
     "data": {
      "image/png": "[encoded data removed]",
      "text/plain": [
       "<matplotlib.figure.Figure at 0x7f12f7862ac8>"
      ]
     },
     "metadata": {
      "needs_background": "light"
     },
     "output_type": "display_data"
    },
    {
     "data": {
      "image/png": "[encoded data removed]",
      "text/plain": [
       "<matplotlib.figure.Figure at 0x7f12f7821f98>"
      ]
     },
     "metadata": {
      "needs_background": "light"
     },
     "output_type": "display_data"
    },
    {
     "data": {
      "image/png": "[encoded data removed]",
      "text/plain": [
       "<matplotlib.figure.Figure at 0x7f12f785ce48>"
      ]
     },
     "metadata": {
      "needs_background": "light"
     },
     "output_type": "display_data"
    },
    {
     "data": {
      "image/png": "[encoded data removed]",
      "text/plain": [
       "<matplotlib.figure.Figure at 0x7f12f781bf60>"
      ]
     },
     "metadata": {
      "needs_background": "light"
     },
     "output_type": "display_data"
    },
    {
     "data": {
      "image/png": "[encoded data removed]",
      "text/plain": [
       "<matplotlib.figure.Figure at 0x7f12f77d8f60>"
      ]
     },
     "metadata": {
      "needs_background": "light"
     },
     "output_type": "display_data"
    },
    {
     "data": {
      "image/png": "[encoded data removed]",
      "text/plain": [
       "<matplotlib.figure.Figure at 0x7f12f779dd30>"
      ]
     },
     "metadata": {
      "needs_background": "light"
     },
     "output_type": "display_data"
    },
    {
     "data": {
      "image/png": "[encoded data removed]",
      "text/plain": [
       "<matplotlib.figure.Figure at 0x7f12f7757c50>"
      ]
     },
     "metadata": {
      "needs_background": "light"
     },
     "output_type": "display_data"
    },
    {
     "data": {
      "image/png": "[encoded data removed]",
      "text/plain": [
       "<matplotlib.figure.Figure at 0x7f12f7717d30>"
      ]
     },
     "metadata": {
      "needs_background": "light"
     },
     "output_type": "display_data"
    }
   ],
   "source": [
    "## TODO: visualize your test output you can use the same function as before, by un-commenting the line below:\n",
    "\n",
    "visualize_output(test_images, test_outputs, gt_pts)\n"
   ]
  },
  {
   "cell_type": "markdown",
   "metadata": {},
   "source": [
    "Once you've found a good model (or two), save your model so you can load it and use it later!\n",
    "\n",
    "Save your models but please **delete any checkpoints and saved models before you submit your project** otherwise your workspace may be too large to submit."
   ]
  },
  {
   "cell_type": "code",
   "execution_count": 19,
   "metadata": {},
   "outputs": [],
   "source": [
    "## TODO: change the name to something uniqe for each new model\n",
    "model_dir = 'saved_models/'\n",
    "model_name = 'keypoints_model.pt'\n",
    "\n",
    "# after training, save your model parameters in the dir 'saved_models'\n",
    "torch.save(net.state_dict(), model_dir+model_name)"
   ]
  },
  {
   "cell_type": "markdown",
   "metadata": {},
   "source": [
    "After you've trained a well-performing model, answer the following questions so that we have some insight into your training and architecture selection process. Answering all questions is required to pass this project."
   ]
  },
  {
   "cell_type": "markdown",
   "metadata": {},
   "source": [
    "### Question 1: What optimization and loss functions did you choose and why?\n"
   ]
  },
  {
   "cell_type": "markdown",
   "metadata": {},
   "source": [
    "**Answer**:\n",
    "\n",
    "So I used MSELoss, as it was one of the suggestions in this notebook for measuring logistic regretion loss. I also used an Adam optimizor as sugessted in [this](https://arxiv.org/pdf/1710.00977.pdf) paper. "
   ]
  },
  {
   "cell_type": "markdown",
   "metadata": {},
   "source": [
    "### Question 2: What kind of network architecture did you start with and how did it change as you tried different architectures? Did you decide to add more convolutional layers or any layers to avoid overfitting the data?"
   ]
  },
  {
   "cell_type": "markdown",
   "metadata": {},
   "source": [
    "**Answer**: \n",
    "\n",
    "I did some research and decided to use the architecture suggested in [this](https://arxiv.org/pdf/1710.00977.pdf) paper. This architecutre consists of 4 convolutional networks with relu as activation function,  maxpooling by half and dropout after each convolutional layer. Then there are three linear layers, also with relu and dropout. The dropout probabilities were small in the first layers, the increased with each layer of the network.\n",
    "\n",
    "The architecutre in the network is designed to work with each facial keypoint at a time, so the last linear layer has output of 2. I used this same network to learn to predict all 64 facial keypoints at the same time, modifiyng the last linear layer to have an input of 128. This network seem to do well in this case too. "
   ]
  },
  {
   "cell_type": "markdown",
   "metadata": {},
   "source": [
    "### Question 3: How did you decide on the number of epochs and batch_size to train your model?"
   ]
  },
  {
   "cell_type": "markdown",
   "metadata": {},
   "source": [
    "**Answer**: \n",
    "\n",
    "I tried with batch size 20 and 40, but the system was running out of memory. I could have decreased the image size, but insted I decided to keep batch size at 10. I did not want to go lower than that to be able to keep the learning rate in proportion to the paramters sugested in the paper. (They used bach size 128, learing rate of 0.001, so I used batch size 10, and lr or 0.0001). I decided to run 20 epochs but the training was taking too long and the loss was still decreasing. I decided to use the GPU, and run for 100 epochs. "
   ]
  },
  {
   "cell_type": "markdown",
   "metadata": {},
   "source": [
    "## Feature Visualization\n",
    "\n",
    "Sometimes, neural networks are thought of as a black box, given some input, they learn to produce some output. CNN's are actually learning to recognize a variety of spatial patterns and you can visualize what each convolutional layer has been trained to recognize by looking at the weights that make up each convolutional kernel and applying those one at a time to a sample image. This technique is called feature visualization and it's useful for understanding the inner workings of a CNN."
   ]
  },
  {
   "cell_type": "markdown",
   "metadata": {},
   "source": [
    "In the cell below, you can see how to extract a single filter (by index) from your first convolutional layer. The filter should appear as a grayscale grid."
   ]
  },
  {
   "cell_type": "code",
   "execution_count": 20,
   "metadata": {},
   "outputs": [
    {
     "name": "stdout",
     "output_type": "stream",
     "text": [
      "[[ 0.23675749  0.06098971 -0.12839951 -0.06624849  0.0221147 ]\n",
      " [-0.08656296  0.05752258 -0.01759861 -0.07250181 -0.06053209]\n",
      " [ 0.21260141  0.14808436  0.10425086 -0.15911853  0.1331542 ]\n",
      " [-0.13325484 -0.05410387 -0.04014376 -0.01481952  0.03138125]\n",
      " [ 0.00825159 -0.09023747 -0.02462085 -0.19990906  0.04480911]]\n",
      "(5, 5)\n"
     ]
    },
    {
     "data": {
      "text/plain": [
       "<matplotlib.image.AxesImage at 0x7f12f76c07f0>"
      ]
     },
     "execution_count": 20,
     "metadata": {},
     "output_type": "execute_result"
    },
    {
     "data": {
      "image/png": "[encoded data removed]",
      "text/plain": [
       "<matplotlib.figure.Figure at 0x7f1339413128>"
      ]
     },
     "metadata": {
      "needs_background": "light"
     },
     "output_type": "display_data"
    }
   ],
   "source": [
    "# Get the weights in the first conv layer, \"conv1\"\n",
    "# if necessary, change this to reflect the name of your first conv layer\n",
    "## TODO: Define the Net in models.py\n",
    "import torch\n",
    "from models import Net\n",
    "import matplotlib.pyplot as plt\n",
    "\n",
    "net = Net()\n",
    "net.load_state_dict(torch.load('saved_models/keypoints_model.pt'))\n",
    "net.eval()\n",
    "\n",
    "weights1 = net.conv1.weight.data\n",
    "\n",
    "w = weights1.numpy()\n",
    "\n",
    "filter_index = 0\n",
    "\n",
    "print(w[filter_index][0])\n",
    "print(w[filter_index][0].shape)\n",
    "\n",
    "# display the filter weights\n",
    "plt.imshow(w[filter_index][0], cmap='gray')\n"
   ]
  },
  {
   "cell_type": "markdown",
   "metadata": {},
   "source": [
    "## Feature maps\n",
    "\n",
    "Each CNN has at least one convolutional layer that is composed of stacked filters (also known as convolutional kernels). As a CNN trains, it learns what weights to include in it's convolutional kernels and when these kernels are applied to some input image, they produce a set of **feature maps**. So, feature maps are just sets of filtered images; they are the images produced by applying a convolutional kernel to an input image. These maps show us the features that the different layers of the neural network learn to extract. For example, you might imagine a convolutional kernel that detects the vertical edges of a face or another one that detects the corners of eyes. You can see what kind of features each of these kernels detects by applying them to an image. One such example is shown below; from the way it brings out the lines in an the image, you might characterize this as an edge detection filter.\n",
    "\n",
    "<img src='images/feature_map_ex.png' width=50% height=50%/>\n",
    "\n",
    "\n",
    "Next, choose a test image and filter it with one of the convolutional kernels in your trained CNN; look at the filtered output to get an idea what that particular kernel detects.\n",
    "\n",
    "### TODO: Filter an image to see the effect of a convolutional kernel\n",
    "---"
   ]
  },
  {
   "cell_type": "code",
   "execution_count": 21,
   "metadata": {},
   "outputs": [
    {
     "name": "stderr",
     "output_type": "stream",
     "text": [
      "/home/workspace/data_load.py:39: FutureWarning: Method .as_matrix will be removed in a future version. Use .values instead.\n",
      "  key_pts = self.key_pts_frame.iloc[idx, 1:].as_matrix()\n",
      "/home/workspace/data_load.py:39: FutureWarning: Method .as_matrix will be removed in a future version. Use .values instead.\n",
      "  key_pts = self.key_pts_frame.iloc[idx, 1:].as_matrix()\n",
      "/home/workspace/data_load.py:39: FutureWarning: Method .as_matrix will be removed in a future version. Use .values instead.\n",
      "  key_pts = self.key_pts_frame.iloc[idx, 1:].as_matrix()\n",
      "/home/workspace/data_load.py:39: FutureWarning: Method .as_matrix will be removed in a future version. Use .values instead.\n",
      "  key_pts = self.key_pts_frame.iloc[idx, 1:].as_matrix()\n"
     ]
    },
    {
     "data": {
      "image/png": "[encoded data removed]",
      "text/plain": [
       "<matplotlib.figure.Figure at 0x7f12c85b4438>"
      ]
     },
     "metadata": {
      "needs_background": "light"
     },
     "output_type": "display_data"
    }
   ],
   "source": [
    "##TODO: load in and display any image from the transformed test dataset\n",
    "import cv2\n",
    "test_images, _, _ = net_sample_output()\n",
    "n = np.random.randint(batch_size)\n",
    "if train_on_gpu:\n",
    "    test_images = test_images.detach().cpu().numpy()\n",
    "else:\n",
    "    test_images = test_images.numpy()\n",
    "image = np.squeeze(test_images[n])\n",
    "\n",
    "\n",
    "## TODO: Using cv's filter2D function,\n",
    "## apply a specific set of filter weights (like the one displayed above) to the test image\n",
    "f = 2\n",
    "c = cv2.filter2D(image,-1,w[f-1][0])\n",
    "\n",
    "\n",
    "plt.subplot(2, 1, 1)\n",
    "plt.imshow(image,cmap=\"gray\")\n",
    "\n",
    "plt.subplot(2, 1, 2)\n",
    "plt.imshow(c,cmap=\"gray\")\n",
    "\n",
    "plt.show()"
   ]
  },
  {
   "cell_type": "markdown",
   "metadata": {},
   "source": [
    "### Question 4: Choose one filter from your trained CNN and apply it to a test image; what purpose do you think it plays? What kind of feature do you think it detects?\n"
   ]
  },
  {
   "cell_type": "markdown",
   "metadata": {},
   "source": [
    "**Answer**: I chose the second filter of the first conv layer and it seems to blur the image. "
   ]
  },
  {
   "cell_type": "markdown",
   "metadata": {},
   "source": [
    "---\n",
    "## Moving on!\n",
    "\n",
    "Now that you've defined and trained your model (and saved the best model), you are ready to move on to the last notebook, which combines a face detector with your saved model to create a facial keypoint detection system that can predict the keypoints on *any* face in an image!"
   ]
  }
 ],
 "metadata": {
  "kernelspec": {
   "display_name": "Python 3",
   "language": "python",
   "name": "python3"
  },
  "language_info": {
   "codemirror_mode": {
    "name": "ipython",
    "version": 3
   },
   "file_extension": ".py",
   "mimetype": "text/x-python",
   "name": "python",
   "nbconvert_exporter": "python",
   "pygments_lexer": "ipython3",
   "version": "3.6.3"
  }
 },
 "nbformat": 4,
 "nbformat_minor": 2
}
