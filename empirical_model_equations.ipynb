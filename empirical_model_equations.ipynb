{
 "cells": [
  {
   "cell_type": "code",
   "execution_count": 1,
   "id": "a518964f",
   "metadata": {},
   "outputs": [],
   "source": [
    "from sympy import *\n",
    "\n",
    "z = 2 ## digits in float numbers"
   ]
  },
  {
   "cell_type": "code",
   "execution_count": 2,
   "id": "5e90efe2",
   "metadata": {},
   "outputs": [],
   "source": [
    "a, b, c, d, e, f, g, h, i, j,I2, I4, I5, I6, I7, I8, I9, I10, I11, I12, I13, I15, I16, I17, I20, I21, I22, I23, I24, I25, I26, I27, I28, I29, I30, I31, I32, I37, I38, I39, I40, I41, I42, I43, I44, I45, I46, I48 = symbols(\"a b c d e f g h i j I2 I4 I5 I6 I7 I8 I9 I10 I11 I12 I13 I15 I16 I17 I20 I21 I22 I23 I24 I25 I26 I27 I28 I29 I30 I31 I32 I37 I38 I39 I40 I41 I42 I43 I44 I45 I46 I48\")"
   ]
  },
  {
   "cell_type": "code",
   "execution_count": 3,
   "id": "520bef08",
   "metadata": {},
   "outputs": [],
   "source": [
    "I4 =a\n",
    "I5 =b\n",
    "I6 =c\n",
    "I7 =d\n",
    "I10 =e\n",
    "I13 =f\n",
    "I14 =g\n",
    "I15 =h\n",
    "I16 =i\n",
    "I17 =j\n",
    "I8 =0.23*I4\n",
    "I9 =N(I5+0.5*tan(I6*pi/180)*(I4-I8)+0.5*tan(I7*pi/180)*(I4-I8), z)\n",
    "I11 =N(I10*30/pi*(9.81/(I4/2))**0.5, z)\n",
    "\n",
    "g =1\n",
    "\n",
    "I20=N(100*I17/I13/(I17/I13+(100-I17)/1), z)\n",
    "I21=N(((I4/2)**2*I5*3.14159), z)\n",
    "I22=N((I20*I13-I20+100*1)/100, z)\n",
    "I23=N(I15/100*I21*0.6*7.8, z)\n",
    "I24=N(I13*I21*(I16/100*(0.6+0.4*I20/100)-(I15/100*0.6)), z)\n",
    "I25=N(I16*I21*0.004*(100-I20)/100*1, z)\n",
    "I26=N((I24/I13+I23/7.8)/(0.6+0.4*I20/100), z)\n",
    "I27=N((I23 + I24 + I25)/I26, z)\n",
    "I28=N(I16/100, z)\n",
    "I29=N((I20*I13-I20+100)/100, z)\n",
    "I30=N(I4/2, z)\n",
    "I32=N(1.57-((1.5708-1.57)*((0.3386+0.1041*I10)+(1.54-2.5673*I10)*I28)), z)\n",
    "\n"
   ]
  },
  {
   "cell_type": "code",
   "execution_count": 4,
   "id": "58c7f502",
   "metadata": {},
   "outputs": [
    {
     "data": {
      "text/latex": [
       "$\\displaystyle - e - 0.00349807739257812 i + 1.1774 < 0$"
      ],
      "text/plain": [
       "-e - 0.00349807739257812*i + 1.1774 < 0"
      ]
     },
     "execution_count": 4,
     "metadata": {},
     "output_type": "execute_result"
    }
   ],
   "source": [
    "(0.35*(3.364-I28)-(I10))<0"
   ]
  },
  {
   "cell_type": "markdown",
   "id": "2d3f7db8",
   "metadata": {},
   "source": [
    "### Conditions:\n",
    "\n",
    "* C_1: $ −𝑒−0.0035𝑖+1.18<0$ \n",
    "* C_2: $I2<>\"grate\"$ \n",
    "* C_3: $I34>I33$\n",
    "* C_4: $I33=1.5708$\n",
    "\n",
    "Steps to follow in the tabular model:\n",
    "1. check conditions C_1 and C_2\n",
    "2. calculate I33 and I34\n",
    "3. check conditions C_3 and C4\n",
    "\n",
    "\n",
    "Possible combinations:\n",
    "* C_1, C_2, C_3, C_4 = True, True, True, True\n",
    "* C_1, C_2, C_3, C_4 = True, False, False, True \n",
    "* C_1, C_2, C_3, C_4 = False, False, False, False\n",
    "* C_1, C_2, C_3, C_4 = False, False, True, False\n",
    "* C_1, C_2, C_3, C_4 = False, True, False, False\n",
    "* C_1, C_2, C_3, C_4 = False, True, True, False\n"
   ]
  },
  {
   "cell_type": "code",
   "execution_count": 5,
   "id": "5087709b",
   "metadata": {},
   "outputs": [],
   "source": [
    "C_1, C_2, C_3, C_4 = True, True, True, True\n",
    "\n",
    "\n",
    "\n",
    "I33 = 1.5708 if C_1 else 2.5307*(1.2796-0.01*𝑖)*(1-exp(-19.42*(0.35*(3.364-0.01*𝑖)-e)))+1.5708\n",
    "I34 = 3.395 if C_2 else I33\n",
    "I35 = 0 if not C_2 else (0 if C_3 else (2*3.142*9.81*I5*I29*I11/60)*((I30**3/2*(1-I28))+(I28/3*I30**3)-(I31**2*I30*(1-I28)/2)-(I28*I31**3/3))*(sin(I33)-sin(I34)))\n",
    "I36 = 0 if C_4 else (I5*I27*(3.142*I11/60*I30/(I30-I38*I31))**3*((I30-I38*I31)**4-((1-I38)*I31)**4))\n",
    "I39=N((1-(2*3.142*I28/(2*3.142+I32-1.5708)))**0.5,z)\n",
    "I40=N(((2*3.142+I32-1.5708)/2/3.142*60/((I11)/2))/((I30*(1+I39)*(sin(I32)-sin(1.5708))/9.81)**0.5+((2*3.142+I32-1.5708)/2/3.142*60/((I11)/2))),z)\n",
    "I31=N(I30*(1-(2*3.142*I40*I28)/((2*3.142+I32-1.5708)))**0.5,z)\n",
    "I38=N((1-I28)**0.4532,z)\n",
    "I41=N(4*3.142*I11/60*9.81*(I9-I5)/(I4-I8)*((I27*(sin(I32)-sin(1.5708))+I29*(sin(1.5708)-sin(3.395)))),z)\n",
    "I42=N(I41*(I30**4-4*I30*I31**3+3*I31**4)/12,z)\n",
    "I43=N(8*(I9-I5)/(I4-I8)*(I11/60*3.142)**3*(I27),z)\n",
    "I44=N(I43/20*(I30**5-5*I30*I31**4+4*I31**5),z)\n",
    "I45=N(I42+I44,z)\n",
    "I37=N(((3.142*9.81*I5*I27*I11*I30/60)*(2*I30**3-3*I38*I31*I30**2+(3*I38-2)*I31**3)/(3*(I30-I38*I31))*(sin(I32)-sin(1.5708))+0+0+I45),z)\n",
    "I46=N(1.68*((0.33*I9+0.67*I5)*I4**2.5*I10)**0.82,z)\n",
    "I48 =N(I37*1.26+I46,z)"
   ]
  },
  {
   "cell_type": "code",
   "execution_count": 7,
   "id": "314fc24d",
   "metadata": {},
   "outputs": [
    {
     "name": "stdout",
     "output_type": "stream",
     "text": [
      "14.0*a*b*e*(0.6 + 0.4*j/(f*(-j + 1.0e+2 + j/f)))*(-sin(8.3e-5*e + 8.0e-6*i*(1.5 - 2.6*e) - 1.6) - 1.0)*(-0.38*a**3*(1.0 - 0.01*i)**0.45*(1.0 - 0.003*i*(-0.0008*e - 7.6e-5*i*(1.5 - 2.6*e) + 60.0)*(1/a)**(-0.5)/(e*(0.23*(a*((-0.063*i/(-8.3e-5*e - 8.0e-6*i*(1.5 - 2.6*e) + 6.3) + 1.0)**0.5 + 1.0)*(-sin(8.3e-5*e + 8.0e-6*i*(1.5 - 2.6*e) - 1.6) - 1.0))**0.5 + 0.047*(-0.0008*e - 7.6e-5*i*(1.5 - 2.6*e) + 60.0)*(1/a)**(-0.5)/e)*(-8.3e-5*e - 8.0e-6*i*(1.5 - 2.6*e) + 6.3)))**0.5 + 0.13*a**3*(1.0 - 0.003*i*(-0.0008*e - 7.6e-5*i*(1.5 - 2.6*e) + 60.0)*(1/a)**(-0.5)/(e*(0.23*(a*((-0.063*i/(-8.3e-5*e - 8.0e-6*i*(1.5 - 2.6*e) + 6.3) + 1.0)**0.5 + 1.0)*(-sin(8.3e-5*e + 8.0e-6*i*(1.5 - 2.6*e) - 1.6) - 1.0))**0.5 + 0.047*(-0.0008*e - 7.6e-5*i*(1.5 - 2.6*e) + 60.0)*(1/a)**(-0.5)/e)*(-8.3e-5*e - 8.0e-6*i*(1.5 - 2.6*e) + 6.3)))**1.5*(3.0*(1.0 - 0.01*i)**0.45 - 2.0) + 0.25*a**3)*(0.79*a**2*b*f*(-0.006*h + 0.01*i*(0.6 + 0.4*j/(f*(-j + 1.0e+2 + j/f)))) + 0.037*a**2*b*h + 3.1e-5*a**2*b*i*(1.0e+2 - 1.0e+2*j/(f*(-j + 1.0e+2 + j/f))))*(1/a)**0.5/((-1.5*a*(1.0 - 0.01*i)**0.45*(1.0 - 0.003*i*(-0.0008*e - 7.6e-5*i*(1.5 - 2.6*e) + 60.0)*(1/a)**(-0.5)/(e*(0.23*(a*((-0.063*i/(-8.3e-5*e - 8.0e-6*i*(1.5 - 2.6*e) + 6.3) + 1.0)**0.5 + 1.0)*(-sin(8.3e-5*e + 8.0e-6*i*(1.5 - 2.6*e) - 1.6) - 1.0))**0.5 + 0.047*(-0.0008*e - 7.6e-5*i*(1.5 - 2.6*e) + 60.0)*(1/a)**(-0.5)/e)*(-8.3e-5*e - 8.0e-6*i*(1.5 - 2.6*e) + 6.3)))**0.5 + 1.5*a)*(0.0047*a**2*b*h + 0.79*a**2*b*(-0.006*h + 0.01*i*(0.6 + 0.4*j/(f*(-j + 1.0e+2 + j/f)))))) + 1.7*(a**2.5*e*(0.13*a*tan(pi*c/180) + 0.13*a*tan(pi*d/180) + 1.0*b))**0.82 + 0.89*e**3*(0.6 + 0.4*j/(f*(-j + 1.0e+2 + j/f)))*(3.1*a*tan(pi*c/180) + 3.1*a*tan(pi*d/180))*(-0.16*a**5*(1.0 - 0.003*i*(-0.0008*e - 7.6e-5*i*(1.5 - 2.6*e) + 60.0)*(1/a)**(-0.5)/(e*(0.23*(a*((-0.063*i/(-8.3e-5*e - 8.0e-6*i*(1.5 - 2.6*e) + 6.3) + 1.0)**0.5 + 1.0)*(-sin(8.3e-5*e + 8.0e-6*i*(1.5 - 2.6*e) - 1.6) - 1.0))**0.5 + 0.047*(-0.0008*e - 7.6e-5*i*(1.5 - 2.6*e) + 60.0)*(1/a)**(-0.5)/e)*(-8.3e-5*e - 8.0e-6*i*(1.5 - 2.6*e) + 6.3)))**2.0 + 0.13*a**5*(1.0 - 0.003*i*(-0.0008*e - 7.6e-5*i*(1.5 - 2.6*e) + 60.0)*(1/a)**(-0.5)/(e*(0.23*(a*((-0.063*i/(-8.3e-5*e - 8.0e-6*i*(1.5 - 2.6*e) + 6.3) + 1.0)**0.5 + 1.0)*(-sin(8.3e-5*e + 8.0e-6*i*(1.5 - 2.6*e) - 1.6) - 1.0))**0.5 + 0.047*(-0.0008*e - 7.6e-5*i*(1.5 - 2.6*e) + 60.0)*(1/a)**(-0.5)/e)*(-8.3e-5*e - 8.0e-6*i*(1.5 - 2.6*e) + 6.3)))**2.5 + 0.031*a**5)*(0.79*a**2*b*f*(-0.006*h + 0.01*i*(0.6 + 0.4*j/(f*(-j + 1.0e+2 + j/f)))) + 0.037*a**2*b*h + 3.1e-5*a**2*b*i*(1.0e+2 - 1.0e+2*j/(f*(-j + 1.0e+2 + j/f))))*(1/a)**1.5/(a*(0.0047*a**2*b*h + 0.79*a**2*b*(-0.006*h + 0.01*i*(0.6 + 0.4*j/(f*(-j + 1.0e+2 + j/f)))))) + 12.0*e*(0.38*a*tan(pi*c/180) + 0.38*a*tan(pi*d/180))*(-0.25*a**4*(1.0 - 0.003*i*(-0.0008*e - 7.6e-5*i*(1.5 - 2.6*e) + 60.0)*(1/a)**(-0.5)/(e*(0.23*(a*((-0.063*i/(-8.3e-5*e - 8.0e-6*i*(1.5 - 2.6*e) + 6.3) + 1.0)**0.5 + 1.0)*(-sin(8.3e-5*e + 8.0e-6*i*(1.5 - 2.6*e) - 1.6) - 1.0))**0.5 + 0.047*(-0.0008*e - 7.6e-5*i*(1.5 - 2.6*e) + 60.0)*(1/a)**(-0.5)/e)*(-8.3e-5*e - 8.0e-6*i*(1.5 - 2.6*e) + 6.3)))**1.5 + 0.19*a**4*(1.0 - 0.003*i*(-0.0008*e - 7.6e-5*i*(1.5 - 2.6*e) + 60.0)*(1/a)**(-0.5)/(e*(0.23*(a*((-0.063*i/(-8.3e-5*e - 8.0e-6*i*(1.5 - 2.6*e) + 6.3) + 1.0)**0.5 + 1.0)*(-sin(8.3e-5*e + 8.0e-6*i*(1.5 - 2.6*e) - 1.6) - 1.0))**0.5 + 0.047*(-0.0008*e - 7.6e-5*i*(1.5 - 2.6*e) + 60.0)*(1/a)**(-0.5)/e)*(-8.3e-5*e - 8.0e-6*i*(1.5 - 2.6*e) + 6.3)))**2.0 + 0.063*a**4)*(1.3*j/(-j + 1.0e+2 + j/f) + (0.6 + 0.4*j/(f*(-j + 1.0e+2 + j/f)))*(-sin(8.3e-5*e + 8.0e-6*i*(1.5 - 2.6*e) - 1.6) - 1.0)*(0.79*a**2*b*f*(-0.006*h + 0.01*i*(0.6 + 0.4*j/(f*(-j + 1.0e+2 + j/f)))) + 0.037*a**2*b*h + 3.1e-5*a**2*b*i*(1.0e+2 - 1.0e+2*j/(f*(-j + 1.0e+2 + j/f))))/(0.0047*a**2*b*h + 0.79*a**2*b*(-0.006*h + 0.01*i*(0.6 + 0.4*j/(f*(-j + 1.0e+2 + j/f))))) + 1.3 - 1.3*j/(f*(-j + 1.0e+2 + j/f)))*(1/a)**0.5/a\n"
     ]
    }
   ],
   "source": [
    "print(I48)"
   ]
  },
  {
   "cell_type": "markdown",
   "id": "980a193f",
   "metadata": {},
   "source": [
    "$\\frac{14.0 a b e \\left(0.6 + \\frac{0.4 j}{f \\left(- j + 1.0 \\cdot 10^{2} + \\frac{j}{f}\\right)}\\right) \\left(- \\sin{\\left(8.3 \\cdot 10^{-5} e + 8.0 \\cdot 10^{-6} i \\left(1.5 - 2.6 e\\right) - 1.6 \\right)} - 1.0\\right) \\left(- 0.38 a^{3} \\left(1.0 - 0.01 i\\right)^{0.45} \\left(1.0 - \\frac{0.003 i \\left(- 0.0008 e - 7.6 \\cdot 10^{-5} i \\left(1.5 - 2.6 e\\right) + 60.0\\right)}{e \\left(0.23 \\left(a \\left(\\left(- \\frac{0.063 i}{- 8.3 \\cdot 10^{-5} e - 8.0 \\cdot 10^{-6} i \\left(1.5 - 2.6 e\\right) + 6.3} + 1.0\\right)^{0.5} + 1.0\\right) \\left(- \\sin{\\left(8.3 \\cdot 10^{-5} e + 8.0 \\cdot 10^{-6} i \\left(1.5 - 2.6 e\\right) - 1.6 \\right)} - 1.0\\right)\\right)^{0.5} + \\frac{0.047 \\left(- 0.0008 e - 7.6 \\cdot 10^{-5} i \\left(1.5 - 2.6 e\\right) + 60.0\\right)}{e \\left(\\frac{1}{a}\\right)^{0.5}}\\right) \\left(- 8.3 \\cdot 10^{-5} e - 8.0 \\cdot 10^{-6} i \\left(1.5 - 2.6 e\\right) + 6.3\\right) \\left(\\frac{1}{a}\\right)^{0.5}}\\right)^{0.5} + 0.13 a^{3} \\left(1.0 - \\frac{0.003 i \\left(- 0.0008 e - 7.6 \\cdot 10^{-5} i \\left(1.5 - 2.6 e\\right) + 60.0\\right)}{e \\left(0.23 \\left(a \\left(\\left(- \\frac{0.063 i}{- 8.3 \\cdot 10^{-5} e - 8.0 \\cdot 10^{-6} i \\left(1.5 - 2.6 e\\right) + 6.3} + 1.0\\right)^{0.5} + 1.0\\right) \\left(- \\sin{\\left(8.3 \\cdot 10^{-5} e + 8.0 \\cdot 10^{-6} i \\left(1.5 - 2.6 e\\right) - 1.6 \\right)} - 1.0\\right)\\right)^{0.5} + \\frac{0.047 \\left(- 0.0008 e - 7.6 \\cdot 10^{-5} i \\left(1.5 - 2.6 e\\right) + 60.0\\right)}{e \\left(\\frac{1}{a}\\right)^{0.5}}\\right) \\left(- 8.3 \\cdot 10^{-5} e - 8.0 \\cdot 10^{-6} i \\left(1.5 - 2.6 e\\right) + 6.3\\right) \\left(\\frac{1}{a}\\right)^{0.5}}\\right)^{1.5} \\left(3.0 \\left(1.0 - 0.01 i\\right)^{0.45} - 2.0\\right) + 0.25 a^{3}\\right) \\left(0.79 a^{2} b f \\left(- 0.006 h + 0.01 i \\left(0.6 + \\frac{0.4 j}{f \\left(- j + 1.0 \\cdot 10^{2} + \\frac{j}{f}\\right)}\\right)\\right) + 0.037 a^{2} b h + 3.1 \\cdot 10^{-5} a^{2} b i \\left(1.0 \\cdot 10^{2} - \\frac{1.0 \\cdot 10^{2} j}{f \\left(- j + 1.0 \\cdot 10^{2} + \\frac{j}{f}\\right)}\\right)\\right) \\left(\\frac{1}{a}\\right)^{0.5}}{\\left(- 1.5 a \\left(1.0 - 0.01 i\\right)^{0.45} \\left(1.0 - \\frac{0.003 i \\left(- 0.0008 e - 7.6 \\cdot 10^{-5} i \\left(1.5 - 2.6 e\\right) + 60.0\\right)}{e \\left(0.23 \\left(a \\left(\\left(- \\frac{0.063 i}{- 8.3 \\cdot 10^{-5} e - 8.0 \\cdot 10^{-6} i \\left(1.5 - 2.6 e\\right) + 6.3} + 1.0\\right)^{0.5} + 1.0\\right) \\left(- \\sin{\\left(8.3 \\cdot 10^{-5} e + 8.0 \\cdot 10^{-6} i \\left(1.5 - 2.6 e\\right) - 1.6 \\right)} - 1.0\\right)\\right)^{0.5} + \\frac{0.047 \\left(- 0.0008 e - 7.6 \\cdot 10^{-5} i \\left(1.5 - 2.6 e\\right) + 60.0\\right)}{e \\left(\\frac{1}{a}\\right)^{0.5}}\\right) \\left(- 8.3 \\cdot 10^{-5} e - 8.0 \\cdot 10^{-6} i \\left(1.5 - 2.6 e\\right) + 6.3\\right) \\left(\\frac{1}{a}\\right)^{0.5}}\\right)^{0.5} + 1.5 a\\right) \\left(0.0047 a^{2} b h + 0.79 a^{2} b \\left(- 0.006 h + 0.01 i \\left(0.6 + \\frac{0.4 j}{f \\left(- j + 1.0 \\cdot 10^{2} + \\frac{j}{f}\\right)}\\right)\\right)\\right)} + 1.7 \\left(a^{2.5} e \\left(0.13 a \\tan{\\left(\\frac{\\pi c}{180} \\right)} + 0.13 a \\tan{\\left(\\frac{\\pi d}{180} \\right)} + 1.0 b\\right)\\right)^{0.82} + \\frac{0.89 e^{3} \\left(0.6 + \\frac{0.4 j}{f \\left(- j + 1.0 \\cdot 10^{2} + \\frac{j}{f}\\right)}\\right) \\left(3.1 a \\tan{\\left(\\frac{\\pi c}{180} \\right)} + 3.1 a \\tan{\\left(\\frac{\\pi d}{180} \\right)}\\right) \\left(- 0.16 a^{5} \\left(1.0 - \\frac{0.003 i \\left(- 0.0008 e - 7.6 \\cdot 10^{-5} i \\left(1.5 - 2.6 e\\right) + 60.0\\right)}{e \\left(0.23 \\left(a \\left(\\left(- \\frac{0.063 i}{- 8.3 \\cdot 10^{-5} e - 8.0 \\cdot 10^{-6} i \\left(1.5 - 2.6 e\\right) + 6.3} + 1.0\\right)^{0.5} + 1.0\\right) \\left(- \\sin{\\left(8.3 \\cdot 10^{-5} e + 8.0 \\cdot 10^{-6} i \\left(1.5 - 2.6 e\\right) - 1.6 \\right)} - 1.0\\right)\\right)^{0.5} + \\frac{0.047 \\left(- 0.0008 e - 7.6 \\cdot 10^{-5} i \\left(1.5 - 2.6 e\\right) + 60.0\\right)}{e \\left(\\frac{1}{a}\\right)^{0.5}}\\right) \\left(- 8.3 \\cdot 10^{-5} e - 8.0 \\cdot 10^{-6} i \\left(1.5 - 2.6 e\\right) + 6.3\\right) \\left(\\frac{1}{a}\\right)^{0.5}}\\right)^{2.0} + 0.13 a^{5} \\left(1.0 - \\frac{0.003 i \\left(- 0.0008 e - 7.6 \\cdot 10^{-5} i \\left(1.5 - 2.6 e\\right) + 60.0\\right)}{e \\left(0.23 \\left(a \\left(\\left(- \\frac{0.063 i}{- 8.3 \\cdot 10^{-5} e - 8.0 \\cdot 10^{-6} i \\left(1.5 - 2.6 e\\right) + 6.3} + 1.0\\right)^{0.5} + 1.0\\right) \\left(- \\sin{\\left(8.3 \\cdot 10^{-5} e + 8.0 \\cdot 10^{-6} i \\left(1.5 - 2.6 e\\right) - 1.6 \\right)} - 1.0\\right)\\right)^{0.5} + \\frac{0.047 \\left(- 0.0008 e - 7.6 \\cdot 10^{-5} i \\left(1.5 - 2.6 e\\right) + 60.0\\right)}{e \\left(\\frac{1}{a}\\right)^{0.5}}\\right) \\left(- 8.3 \\cdot 10^{-5} e - 8.0 \\cdot 10^{-6} i \\left(1.5 - 2.6 e\\right) + 6.3\\right) \\left(\\frac{1}{a}\\right)^{0.5}}\\right)^{2.5} + 0.031 a^{5}\\right) \\left(0.79 a^{2} b f \\left(- 0.006 h + 0.01 i \\left(0.6 + \\frac{0.4 j}{f \\left(- j + 1.0 \\cdot 10^{2} + \\frac{j}{f}\\right)}\\right)\\right) + 0.037 a^{2} b h + 3.1 \\cdot 10^{-5} a^{2} b i \\left(1.0 \\cdot 10^{2} - \\frac{1.0 \\cdot 10^{2} j}{f \\left(- j + 1.0 \\cdot 10^{2} + \\frac{j}{f}\\right)}\\right)\\right) \\left(\\frac{1}{a}\\right)^{1.5}}{a \\left(0.0047 a^{2} b h + 0.79 a^{2} b \\left(- 0.006 h + 0.01 i \\left(0.6 + \\frac{0.4 j}{f \\left(- j + 1.0 \\cdot 10^{2} + \\frac{j}{f}\\right)}\\right)\\right)\\right)} + \\frac{12.0 e \\left(0.38 a \\tan{\\left(\\frac{\\pi c}{180} \\right)} + 0.38 a \\tan{\\left(\\frac{\\pi d}{180} \\right)}\\right) \\left(- 0.25 a^{4} \\left(1.0 - \\frac{0.003 i \\left(- 0.0008 e - 7.6 \\cdot 10^{-5} i \\left(1.5 - 2.6 e\\right) + 60.0\\right)}{e \\left(0.23 \\left(a \\left(\\left(- \\frac{0.063 i}{- 8.3 \\cdot 10^{-5} e - 8.0 \\cdot 10^{-6} i \\left(1.5 - 2.6 e\\right) + 6.3} + 1.0\\right)^{0.5} + 1.0\\right) \\left(- \\sin{\\left(8.3 \\cdot 10^{-5} e + 8.0 \\cdot 10^{-6} i \\left(1.5 - 2.6 e\\right) - 1.6 \\right)} - 1.0\\right)\\right)^{0.5} + \\frac{0.047 \\left(- 0.0008 e - 7.6 \\cdot 10^{-5} i \\left(1.5 - 2.6 e\\right) + 60.0\\right)}{e \\left(\\frac{1}{a}\\right)^{0.5}}\\right) \\left(- 8.3 \\cdot 10^{-5} e - 8.0 \\cdot 10^{-6} i \\left(1.5 - 2.6 e\\right) + 6.3\\right) \\left(\\frac{1}{a}\\right)^{0.5}}\\right)^{1.5} + 0.19 a^{4} \\left(1.0 - \\frac{0.003 i \\left(- 0.0008 e - 7.6 \\cdot 10^{-5} i \\left(1.5 - 2.6 e\\right) + 60.0\\right)}{e \\left(0.23 \\left(a \\left(\\left(- \\frac{0.063 i}{- 8.3 \\cdot 10^{-5} e - 8.0 \\cdot 10^{-6} i \\left(1.5 - 2.6 e\\right) + 6.3} + 1.0\\right)^{0.5} + 1.0\\right) \\left(- \\sin{\\left(8.3 \\cdot 10^{-5} e + 8.0 \\cdot 10^{-6} i \\left(1.5 - 2.6 e\\right) - 1.6 \\right)} - 1.0\\right)\\right)^{0.5} + \\frac{0.047 \\left(- 0.0008 e - 7.6 \\cdot 10^{-5} i \\left(1.5 - 2.6 e\\right) + 60.0\\right)}{e \\left(\\frac{1}{a}\\right)^{0.5}}\\right) \\left(- 8.3 \\cdot 10^{-5} e - 8.0 \\cdot 10^{-6} i \\left(1.5 - 2.6 e\\right) + 6.3\\right) \\left(\\frac{1}{a}\\right)^{0.5}}\\right)^{2.0} + 0.063 a^{4}\\right) \\left(\\frac{1.3 j}{- j + 1.0 \\cdot 10^{2} + \\frac{j}{f}} + \\frac{\\left(0.6 + \\frac{0.4 j}{f \\left(- j + 1.0 \\cdot 10^{2} + \\frac{j}{f}\\right)}\\right) \\left(- \\sin{\\left(8.3 \\cdot 10^{-5} e + 8.0 \\cdot 10^{-6} i \\left(1.5 - 2.6 e\\right) - 1.6 \\right)} - 1.0\\right) \\left(0.79 a^{2} b f \\left(- 0.006 h + 0.01 i \\left(0.6 + \\frac{0.4 j}{f \\left(- j + 1.0 \\cdot 10^{2} + \\frac{j}{f}\\right)}\\right)\\right) + 0.037 a^{2} b h + 3.1 \\cdot 10^{-5} a^{2} b i \\left(1.0 \\cdot 10^{2} - \\frac{1.0 \\cdot 10^{2} j}{f \\left(- j + 1.0 \\cdot 10^{2} + \\frac{j}{f}\\right)}\\right)\\right)}{0.0047 a^{2} b h + 0.79 a^{2} b \\left(- 0.006 h + 0.01 i \\left(0.6 + \\frac{0.4 j}{f \\left(- j + 1.0 \\cdot 10^{2} + \\frac{j}{f}\\right)}\\right)\\right)} + 1.3 - \\frac{1.3 j}{f \\left(- j + 1.0 \\cdot 10^{2} + \\frac{j}{f}\\right)}\\right) \\left(\\frac{1}{a}\\right)^{0.5}}{a}$"
   ]
  },
  {
   "cell_type": "code",
   "execution_count": null,
   "id": "56dce09f",
   "metadata": {},
   "outputs": [],
   "source": []
  }
 ],
 "metadata": {
  "kernelspec": {
   "display_name": "Python 3 (ipykernel)",
   "language": "python",
   "name": "python3"
  },
  "language_info": {
   "codemirror_mode": {
    "name": "ipython",
    "version": 3
   },
   "file_extension": ".py",
   "mimetype": "text/x-python",
   "name": "python",
   "nbconvert_exporter": "python",
   "pygments_lexer": "ipython3",
   "version": "3.9.5"
  }
 },
 "nbformat": 4,
 "nbformat_minor": 5
}
